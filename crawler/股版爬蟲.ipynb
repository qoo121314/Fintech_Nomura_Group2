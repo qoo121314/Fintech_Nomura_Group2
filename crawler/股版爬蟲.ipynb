{
 "cells": [
  {
   "cell_type": "code",
   "execution_count": 9,
   "metadata": {},
   "outputs": [],
   "source": [
    "import requests\n",
    "from bs4 import BeautifulSoup\n",
    "\n",
    "def fetch(url):\n",
    "    response = requests.get(url)\n",
    "#     response = requests.get(url, cookies={'over18': '1'})  # 一直向 server 回答滿 18 歲了 !\n",
    "    return response\n"
   ]
  },
  {
   "cell_type": "code",
   "execution_count": 77,
   "metadata": {},
   "outputs": [],
   "source": [
    "# 初始化\n",
    "res = fetch('https://www.ptt.cc/bbs/Stock/index.html').text\n",
    "soup = BeautifulSoup(res)"
   ]
  },
  {
   "cell_type": "code",
   "execution_count": 104,
   "metadata": {
    "scrolled": false
   },
   "outputs": [
    {
     "ename": "TypeError",
     "evalue": "'generator' object is not subscriptable",
     "output_type": "error",
     "traceback": [
      "\u001b[1;31m---------------------------------------------------------------------------\u001b[0m",
      "\u001b[1;31mTypeError\u001b[0m                                 Traceback (most recent call last)",
      "\u001b[1;32m<ipython-input-104-2515d26d6cd5>\u001b[0m in \u001b[0;36m<module>\u001b[1;34m\u001b[0m\n\u001b[1;32m----> 1\u001b[1;33m \u001b[0msoup\u001b[0m\u001b[1;33m.\u001b[0m\u001b[0mfind_all\u001b[0m\u001b[1;33m(\u001b[0m\u001b[1;34m'div'\u001b[0m \u001b[1;33m,\u001b[0m \u001b[0mclass_\u001b[0m\u001b[1;33m=\u001b[0m\u001b[1;34m'title'\u001b[0m\u001b[1;33m)\u001b[0m\u001b[1;33m[\u001b[0m\u001b[1;36m0\u001b[0m\u001b[1;33m]\u001b[0m\u001b[1;33m.\u001b[0m\u001b[0mnext_elements\u001b[0m\u001b[1;33m[\u001b[0m\u001b[1;36m1\u001b[0m\u001b[1;33m]\u001b[0m\u001b[1;33m\u001b[0m\u001b[1;33m\u001b[0m\u001b[0m\n\u001b[0m",
      "\u001b[1;31mTypeError\u001b[0m: 'generator' object is not subscriptable"
     ]
    }
   ],
   "source": [
    " soup.find_all('div' , class_='title')[0].next_elements"
   ]
  },
  {
   "cell_type": "code",
   "execution_count": 101,
   "metadata": {},
   "outputs": [
    {
     "data": {
      "text/plain": [
       "[<a class=\"btn selected\" href=\"/bbs/Stock/index.html\">看板</a>,\n",
       " <a class=\"btn\" href=\"/man/Stock/index.html\">精華區</a>,\n",
       " <a class=\"btn wide\" href=\"/bbs/Stock/index1.html\">最舊</a>,\n",
       " <a class=\"btn wide\" href=\"/bbs/Stock/index4986.html\">‹ 上頁</a>,\n",
       " <a class=\"btn wide disabled\">下頁 ›</a>,\n",
       " <a class=\"btn wide\" href=\"/bbs/Stock/index.html\">最新</a>,\n",
       " <a href=\"/bbs/Stock/M.1585552327.A.3D9.html\">Re: [心得] 在台灣真的好幸福</a>,\n",
       " <a href=\"/bbs/Stock/search?q=thread%3A%5B%E5%BF%83%E5%BE%97%5D+%E5%9C%A8%E5%8F%B0%E7%81%A3%E7%9C%9F%E7%9A%84%E5%A5%BD%E5%B9%B8%E7%A6%8F\">搜尋同標題文章</a>,\n",
       " <a href=\"/bbs/Stock/search?q=author%3As90011\">搜尋看板內 s90011 的文章</a>,\n",
       " <a href=\"/bbs/Stock/M.1585553696.A.44B.html\">[新聞] 廣達 現金股利 3.7元</a>,\n",
       " <a href=\"/bbs/Stock/search?q=thread%3A%5B%E6%96%B0%E8%81%9E%5D+%E5%BB%A3%E9%81%94+%E7%8F%BE%E9%87%91%E8%82%A1%E5%88%A9+3.7%E5%85%83\">搜尋同標題文章</a>,\n",
       " <a href=\"/bbs/Stock/search?q=author%3Ab991238136\">搜尋看板內 b991238136 的文章</a>,\n",
       " <a href=\"/bbs/Stock/M.1585553851.A.A88.html\">[新聞] 蘋果推出5G iPhone最糟糕是延遲至2021年</a>,\n",
       " <a href=\"/bbs/Stock/search?q=thread%3A%5B%E6%96%B0%E8%81%9E%5D+%E8%98%8B%E6%9E%9C%E6%8E%A8%E5%87%BA5G+iPhone%E6%9C%80%E7%B3%9F%E7%B3%95%E6%98%AF%E5%BB%B6%E9%81%B2%E8%87%B32021%E5%B9%B4\">搜尋同標題文章</a>,\n",
       " <a href=\"/bbs/Stock/search?q=author%3Azxcvxx\">搜尋看板內 zxcvxx 的文章</a>,\n",
       " <a href=\"/bbs/Stock/M.1585555137.A.651.html\">[新聞] 2317鴻海 108年財報</a>,\n",
       " <a href=\"/bbs/Stock/search?q=thread%3A%5B%E6%96%B0%E8%81%9E%5D+2317%E9%B4%BB%E6%B5%B7+108%E5%B9%B4%E8%B2%A1%E5%A0%B1\">搜尋同標題文章</a>,\n",
       " <a href=\"/bbs/Stock/search?q=author%3Aluke0710\">搜尋看板內 luke0710 的文章</a>,\n",
       " <a href=\"/bbs/Stock/M.1585555352.A.4B6.html\">[新聞] 〈仁寶法說〉去年EPS 1.6元 每股擬配1.2</a>,\n",
       " <a href=\"/bbs/Stock/search?q=thread%3A%5B%E6%96%B0%E8%81%9E%5D+%E3%80%88%E4%BB%81%E5%AF%B6%E6%B3%95%E8%AA%AA%E3%80%89%E5%8E%BB%E5%B9%B4EPS+1.6%E5%85%83+%E6%AF%8F%E8%82%A1%E6%93%AC%E9%85%8D1.2\">搜尋同標題文章</a>,\n",
       " <a href=\"/bbs/Stock/search?q=author%3Akiversonx17\">搜尋看板內 kiversonx17 的文章</a>,\n",
       " <a href=\"/bbs/Stock/M.1585556236.A.2F6.html\">Re: [請益] 開槓桿100倍會太多嗎？</a>,\n",
       " <a href=\"/bbs/Stock/search?q=thread%3A%5B%E8%AB%8B%E7%9B%8A%5D+%E9%96%8B%E6%A7%93%E6%A1%BF100%E5%80%8D%E6%9C%83%E5%A4%AA%E5%A4%9A%E5%97%8E%EF%BC%9F\">搜尋同標題文章</a>,\n",
       " <a href=\"/bbs/Stock/search?q=author%3Aeveremember\">搜尋看板內 everemember 的文章</a>,\n",
       " <a href=\"/bbs/Stock/M.1585557109.A.D48.html\">[請益] 庫藏股減資與現金減資的區別</a>,\n",
       " <a href=\"/bbs/Stock/search?q=thread%3A%5B%E8%AB%8B%E7%9B%8A%5D+%E5%BA%AB%E8%97%8F%E8%82%A1%E6%B8%9B%E8%B3%87%E8%88%87%E7%8F%BE%E9%87%91%E6%B8%9B%E8%B3%87%E7%9A%84%E5%8D%80%E5%88%A5\">搜尋同標題文章</a>,\n",
       " <a href=\"/bbs/Stock/search?q=author%3Aa27839579\">搜尋看板內 a27839579 的文章</a>,\n",
       " <a href=\"/bbs/Stock/M.1585557132.A.42F.html\">Re: [新聞] 〈仁寶法說〉去年EPS 1.6元 每股擬配1.2</a>,\n",
       " <a href=\"/bbs/Stock/search?q=thread%3A%5B%E6%96%B0%E8%81%9E%5D+%E3%80%88%E4%BB%81%E5%AF%B6%E6%B3%95%E8%AA%AA%E3%80%89%E5%8E%BB%E5%B9%B4EPS+1.6%E5%85%83+%E6%AF%8F%E8%82%A1%E6%93%AC%E9%85%8D1.2\">搜尋同標題文章</a>,\n",
       " <a href=\"/bbs/Stock/search?q=author%3Aappledavid\">搜尋看板內 appledavid 的文章</a>,\n",
       " <a href=\"/bbs/Stock/M.1585558977.A.341.html\">Re: [標的] 6186 新潤興業</a>,\n",
       " <a href=\"/bbs/Stock/search?q=thread%3A%5B%E6%A8%99%E7%9A%84%5D+6186+%E6%96%B0%E6%BD%A4%E8%88%88%E6%A5%AD\">搜尋同標題文章</a>,\n",
       " <a href=\"/bbs/Stock/search?q=author%3Awinexchiu\">搜尋看板內 winexchiu 的文章</a>,\n",
       " <a href=\"/bbs/Stock/M.1585560255.A.24C.html\">Re: [新聞] 〈仁寶法說〉去年EPS 1.6元 每股擬配1.2</a>,\n",
       " <a href=\"/bbs/Stock/search?q=thread%3A%5B%E6%96%B0%E8%81%9E%5D+%E3%80%88%E4%BB%81%E5%AF%B6%E6%B3%95%E8%AA%AA%E3%80%89%E5%8E%BB%E5%B9%B4EPS+1.6%E5%85%83+%E6%AF%8F%E8%82%A1%E6%93%AC%E9%85%8D1.2\">搜尋同標題文章</a>,\n",
       " <a href=\"/bbs/Stock/search?q=author%3Atopdown\">搜尋看板內 topdown 的文章</a>,\n",
       " <a href=\"/bbs/Stock/M.1585560388.A.C86.html\">[新聞] 5G iPhone仍有望如期推出 蘋果印刷電路板</a>,\n",
       " <a href=\"/bbs/Stock/search?q=thread%3A%5B%E6%96%B0%E8%81%9E%5D+5G+iPhone%E4%BB%8D%E6%9C%89%E6%9C%9B%E5%A6%82%E6%9C%9F%E6%8E%A8%E5%87%BA+%E8%98%8B%E6%9E%9C%E5%8D%B0%E5%88%B7%E9%9B%BB%E8%B7%AF%E6%9D%BF\">搜尋同標題文章</a>,\n",
       " <a href=\"/bbs/Stock/search?q=author%3Akidla\">搜尋看板內 kidla 的文章</a>,\n",
       " <a href=\"/bbs/Stock/M.1585560551.A.DF0.html\">[新聞] 最快5月底市場好轉，BDI跌至592點、首季</a>,\n",
       " <a href=\"/bbs/Stock/search?q=thread%3A%5B%E6%96%B0%E8%81%9E%5D+%E6%9C%80%E5%BF%AB5%E6%9C%88%E5%BA%95%E5%B8%82%E5%A0%B4%E5%A5%BD%E8%BD%89%EF%BC%8CBDI%E8%B7%8C%E8%87%B3592%E9%BB%9E%E3%80%81%E9%A6%96%E5%AD%A3\">搜尋同標題文章</a>,\n",
       " <a href=\"/bbs/Stock/search?q=author%3ABDI\">搜尋看板內 BDI 的文章</a>,\n",
       " <a href=\"/bbs/Stock/M.1585561845.A.D12.html\">[其他] 3/30台灣集中市場三大法人買賣超前三十</a>,\n",
       " <a href=\"/bbs/Stock/search?q=thread%3A%5B%E5%85%B6%E4%BB%96%5D+3%2F30%E5%8F%B0%E7%81%A3%E9%9B%86%E4%B8%AD%E5%B8%82%E5%A0%B4%E4%B8%89%E5%A4%A7%E6%B3%95%E4%BA%BA%E8%B2%B7%E8%B3%A3%E8%B6%85%E5%89%8D%E4%B8%89%E5%8D%81\">搜尋同標題文章</a>,\n",
       " <a href=\"/bbs/Stock/search?q=author%3Azu00405479\">搜尋看板內 zu00405479 的文章</a>,\n",
       " <a href=\"/bbs/Stock/M.1585562449.A.788.html\">[其他] 股票用line貼圖(加圖檔)</a>,\n",
       " <a href=\"/bbs/Stock/search?q=thread%3A%5B%E5%85%B6%E4%BB%96%5D+%E8%82%A1%E7%A5%A8%E7%94%A8line%E8%B2%BC%E5%9C%96%28%E5%8A%A0%E5%9C%96%E6%AA%94%29\">搜尋同標題文章</a>,\n",
       " <a href=\"/bbs/Stock/search?q=author%3Asboy1111\">搜尋看板內 sboy1111 的文章</a>,\n",
       " <a href=\"/bbs/Stock/M.1585562467.A.41D.html\">Re: [心得] 在台灣真的好幸福</a>,\n",
       " <a href=\"/bbs/Stock/search?q=thread%3A%5B%E5%BF%83%E5%BE%97%5D+%E5%9C%A8%E5%8F%B0%E7%81%A3%E7%9C%9F%E7%9A%84%E5%A5%BD%E5%B9%B8%E7%A6%8F\">搜尋同標題文章</a>,\n",
       " <a href=\"/bbs/Stock/search?q=author%3Ahello21\">搜尋看板內 hello21 的文章</a>,\n",
       " <a href=\"/bbs/Stock/M.1585562856.A.375.html\">[新聞] 破天荒！裕隆去年慘虧　將首度辦理減資彌</a>,\n",
       " <a href=\"/bbs/Stock/search?q=thread%3A%5B%E6%96%B0%E8%81%9E%5D+%E7%A0%B4%E5%A4%A9%E8%8D%92%EF%BC%81%E8%A3%95%E9%9A%86%E5%8E%BB%E5%B9%B4%E6%85%98%E8%99%A7%E3%80%80%E5%B0%87%E9%A6%96%E5%BA%A6%E8%BE%A6%E7%90%86%E6%B8%9B%E8%B3%87%E5%BD%8C\">搜尋同標題文章</a>,\n",
       " <a href=\"/bbs/Stock/search?q=author%3ASkydier\">搜尋看板內 Skydier 的文章</a>,\n",
       " <a href=\"/bbs/Stock/M.1585563823.A.F9B.html\">[心得] 現在好像不是一個適合的入場時機</a>,\n",
       " <a href=\"/bbs/Stock/search?q=thread%3A%5B%E5%BF%83%E5%BE%97%5D+%E7%8F%BE%E5%9C%A8%E5%A5%BD%E5%83%8F%E4%B8%8D%E6%98%AF%E4%B8%80%E5%80%8B%E9%81%A9%E5%90%88%E7%9A%84%E5%85%A5%E5%A0%B4%E6%99%82%E6%A9%9F\">搜尋同標題文章</a>,\n",
       " <a href=\"/bbs/Stock/search?q=author%3AZMittermeyer\">搜尋看板內 ZMittermeyer 的文章</a>,\n",
       " <a href=\"/bbs/Stock/M.1422199105.A.84E.html\">[公告] 精華區導覽Q&amp;A</a>,\n",
       " <a href=\"/bbs/Stock/search?q=thread%3A%5B%E5%85%AC%E5%91%8A%5D+%E7%B2%BE%E8%8F%AF%E5%8D%80%E5%B0%8E%E8%A6%BDQ%26A\">搜尋同標題文章</a>,\n",
       " <a href=\"/bbs/Stock/search?q=author%3AIanLi\">搜尋看板內 IanLi 的文章</a>,\n",
       " <a href=\"/bbs/Stock/M.1541252211.A.8BE.html\">[公告] Stock 板規V2.6             (2019/06/20)</a>,\n",
       " <a href=\"/bbs/Stock/search?q=thread%3A%5B%E5%85%AC%E5%91%8A%5D+Stock+%E6%9D%BF%E8%A6%8FV2.6+++++++++++++%282019%2F06%2F20%29\">搜尋同標題文章</a>,\n",
       " <a href=\"/bbs/Stock/search?q=author%3Aeyespot\">搜尋看板內 eyespot 的文章</a>,\n",
       " <a href=\"/bbs/Stock/M.1585406932.A.FDC.html\">[公告] 版規修正</a>,\n",
       " <a href=\"/bbs/Stock/search?q=thread%3A%5B%E5%85%AC%E5%91%8A%5D+%E7%89%88%E8%A6%8F%E4%BF%AE%E6%AD%A3\">搜尋同標題文章</a>,\n",
       " <a href=\"/bbs/Stock/search?q=author%3Anoldorelf\">搜尋看板內 noldorelf 的文章</a>,\n",
       " <a href=\"/bbs/Stock/M.1585499054.A.924.html\">[公告] 因應疫情之臨時板規</a>,\n",
       " <a href=\"/bbs/Stock/search?q=thread%3A%5B%E5%85%AC%E5%91%8A%5D+%E5%9B%A0%E6%87%89%E7%96%AB%E6%83%85%E4%B9%8B%E8%87%A8%E6%99%82%E6%9D%BF%E8%A6%8F\">搜尋同標題文章</a>,\n",
       " <a href=\"/bbs/Stock/search?q=author%3Aeyespot\">搜尋看板內 eyespot 的文章</a>,\n",
       " <a href=\"/bbs/Stock/M.1585548002.A.27A.html\">[閒聊] 2020/03/30 盤後閒聊</a>,\n",
       " <a href=\"/bbs/Stock/search?q=thread%3A%5B%E9%96%92%E8%81%8A%5D+2020%2F03%2F30+%E7%9B%A4%E5%BE%8C%E9%96%92%E8%81%8A\">搜尋同標題文章</a>,\n",
       " <a href=\"/bbs/Stock/search?q=author%3Avendan5566\">搜尋看板內 vendan5566 的文章</a>]"
      ]
     },
     "execution_count": 101,
     "metadata": {},
     "output_type": "execute_result"
    }
   ],
   "source": [
    " soup.select('div >div >div > a ')"
   ]
  },
  {
   "cell_type": "code",
   "execution_count": 92,
   "metadata": {},
   "outputs": [
    {
     "ename": "AttributeError",
     "evalue": "'str' object has no attribute 'find_all'",
     "output_type": "error",
     "traceback": [
      "\u001b[1;31m---------------------------------------------------------------------------\u001b[0m",
      "\u001b[1;31mAttributeError\u001b[0m                            Traceback (most recent call last)",
      "\u001b[1;32m<ipython-input-92-fc56a03a358c>\u001b[0m in \u001b[0;36m<module>\u001b[1;34m\u001b[0m\n\u001b[1;32m----> 1\u001b[1;33m \u001b[0mb1\u001b[0m\u001b[1;33m.\u001b[0m\u001b[0mfind_all\u001b[0m\u001b[1;33m(\u001b[0m \u001b[1;34m'a'\u001b[0m\u001b[1;33m,\u001b[0m \u001b[0mhref\u001b[0m\u001b[1;33m=\u001b[0m\u001b[1;32mTrue\u001b[0m \u001b[1;33m)\u001b[0m\u001b[1;33m\u001b[0m\u001b[1;33m\u001b[0m\u001b[0m\n\u001b[0m",
      "\u001b[1;31mAttributeError\u001b[0m: 'str' object has no attribute 'find_all'"
     ]
    }
   ],
   "source": [
    "b1.find_all( 'a', href=True )"
   ]
  },
  {
   "cell_type": "code",
   "execution_count": null,
   "metadata": {},
   "outputs": [],
   "source": [
    "soup.find('a', string =\"‹ 上頁\")['href']"
   ]
  },
  {
   "cell_type": "code",
   "execution_count": 72,
   "metadata": {},
   "outputs": [],
   "source": [
    "next_page = soup.find('a', string =\"‹ 上頁\")['href']"
   ]
  },
  {
   "cell_type": "code",
   "execution_count": 73,
   "metadata": {},
   "outputs": [],
   "source": [
    "domain = 'https://www.ptt.cc'"
   ]
  },
  {
   "cell_type": "code",
   "execution_count": 74,
   "metadata": {},
   "outputs": [
    {
     "data": {
      "text/plain": [
       "'https://www.ptt.cc/bbs/Stock/index4984.html'"
      ]
     },
     "execution_count": 74,
     "metadata": {},
     "output_type": "execute_result"
    }
   ],
   "source": [
    "url = domain + next_page\n",
    "url"
   ]
  },
  {
   "cell_type": "code",
   "execution_count": 75,
   "metadata": {},
   "outputs": [],
   "source": [
    "res = fetch(url).text\n",
    "soup = BeautifulSoup(res)\n"
   ]
  },
  {
   "cell_type": "code",
   "execution_count": 76,
   "metadata": {},
   "outputs": [
    {
     "data": {
      "text/plain": [
       "'https://www.ptt.cc/bbs/Stock/index4984.html'"
      ]
     },
     "execution_count": 76,
     "metadata": {},
     "output_type": "execute_result"
    }
   ],
   "source": [
    "url"
   ]
  },
  {
   "cell_type": "code",
   "execution_count": 39,
   "metadata": {},
   "outputs": [
    {
     "data": {
      "text/plain": [
       "[<link href=\"//images.ptt.cc/bbs/v2.27/bbs-common.css\" rel=\"stylesheet\" type=\"text/css\"/>,\n",
       " <link href=\"//images.ptt.cc/bbs/v2.27/bbs-base.css\" media=\"screen\" rel=\"stylesheet\" type=\"text/css\"/>,\n",
       " <link href=\"//images.ptt.cc/bbs/v2.27/bbs-custom.css\" rel=\"stylesheet\" type=\"text/css\"/>,\n",
       " <link href=\"//images.ptt.cc/bbs/v2.27/pushstream.css\" media=\"screen\" rel=\"stylesheet\" type=\"text/css\"/>,\n",
       " <link href=\"//images.ptt.cc/bbs/v2.27/bbs-print.css\" media=\"print\" rel=\"stylesheet\" type=\"text/css\"/>,\n",
       " <a href=\"/bbs/\" id=\"logo\">批踢踢實業坊</a>,\n",
       " <a class=\"board\" href=\"/bbs/Stock/index.html\"><span class=\"board-label\">看板 </span>Stock</a>,\n",
       " <a class=\"right small\" href=\"/about.html\">關於我們</a>,\n",
       " <a class=\"right small\" href=\"/contact.html\">聯絡資訊</a>,\n",
       " <a class=\"btn selected\" href=\"/bbs/Stock/index.html\">看板</a>,\n",
       " <a class=\"btn\" href=\"/man/Stock/index.html\">精華區</a>,\n",
       " <a class=\"btn wide\" href=\"/bbs/Stock/index1.html\">最舊</a>,\n",
       " <a class=\"btn wide\" href=\"/bbs/Stock/index4986.html\">‹ 上頁</a>,\n",
       " <a class=\"btn wide\" href=\"/bbs/Stock/index.html\">最新</a>,\n",
       " <a href=\"/bbs/Stock/M.1585552327.A.3D9.html\">Re: [心得] 在台灣真的好幸福</a>,\n",
       " <a href=\"/bbs/Stock/search?q=thread%3A%5B%E5%BF%83%E5%BE%97%5D+%E5%9C%A8%E5%8F%B0%E7%81%A3%E7%9C%9F%E7%9A%84%E5%A5%BD%E5%B9%B8%E7%A6%8F\">搜尋同標題文章</a>,\n",
       " <a href=\"/bbs/Stock/search?q=author%3As90011\">搜尋看板內 s90011 的文章</a>,\n",
       " <a href=\"/bbs/Stock/M.1585553696.A.44B.html\">[新聞] 廣達 現金股利 3.7元</a>,\n",
       " <a href=\"/bbs/Stock/search?q=thread%3A%5B%E6%96%B0%E8%81%9E%5D+%E5%BB%A3%E9%81%94+%E7%8F%BE%E9%87%91%E8%82%A1%E5%88%A9+3.7%E5%85%83\">搜尋同標題文章</a>,\n",
       " <a href=\"/bbs/Stock/search?q=author%3Ab991238136\">搜尋看板內 b991238136 的文章</a>,\n",
       " <a href=\"/bbs/Stock/M.1585553851.A.A88.html\">[新聞] 蘋果推出5G iPhone最糟糕是延遲至2021年</a>,\n",
       " <a href=\"/bbs/Stock/search?q=thread%3A%5B%E6%96%B0%E8%81%9E%5D+%E8%98%8B%E6%9E%9C%E6%8E%A8%E5%87%BA5G+iPhone%E6%9C%80%E7%B3%9F%E7%B3%95%E6%98%AF%E5%BB%B6%E9%81%B2%E8%87%B32021%E5%B9%B4\">搜尋同標題文章</a>,\n",
       " <a href=\"/bbs/Stock/search?q=author%3Azxcvxx\">搜尋看板內 zxcvxx 的文章</a>,\n",
       " <a href=\"/bbs/Stock/M.1585555137.A.651.html\">[新聞] 2317鴻海 108年財報</a>,\n",
       " <a href=\"/bbs/Stock/search?q=thread%3A%5B%E6%96%B0%E8%81%9E%5D+2317%E9%B4%BB%E6%B5%B7+108%E5%B9%B4%E8%B2%A1%E5%A0%B1\">搜尋同標題文章</a>,\n",
       " <a href=\"/bbs/Stock/search?q=author%3Aluke0710\">搜尋看板內 luke0710 的文章</a>,\n",
       " <a href=\"/bbs/Stock/M.1585555352.A.4B6.html\">[新聞] 〈仁寶法說〉去年EPS 1.6元 每股擬配1.2</a>,\n",
       " <a href=\"/bbs/Stock/search?q=thread%3A%5B%E6%96%B0%E8%81%9E%5D+%E3%80%88%E4%BB%81%E5%AF%B6%E6%B3%95%E8%AA%AA%E3%80%89%E5%8E%BB%E5%B9%B4EPS+1.6%E5%85%83+%E6%AF%8F%E8%82%A1%E6%93%AC%E9%85%8D1.2\">搜尋同標題文章</a>,\n",
       " <a href=\"/bbs/Stock/search?q=author%3Akiversonx17\">搜尋看板內 kiversonx17 的文章</a>,\n",
       " <a href=\"/bbs/Stock/M.1585556236.A.2F6.html\">Re: [請益] 開槓桿100倍會太多嗎？</a>,\n",
       " <a href=\"/bbs/Stock/search?q=thread%3A%5B%E8%AB%8B%E7%9B%8A%5D+%E9%96%8B%E6%A7%93%E6%A1%BF100%E5%80%8D%E6%9C%83%E5%A4%AA%E5%A4%9A%E5%97%8E%EF%BC%9F\">搜尋同標題文章</a>,\n",
       " <a href=\"/bbs/Stock/search?q=author%3Aeveremember\">搜尋看板內 everemember 的文章</a>,\n",
       " <a href=\"/bbs/Stock/M.1585557109.A.D48.html\">[請益] 庫藏股減資與現金減資的區別</a>,\n",
       " <a href=\"/bbs/Stock/search?q=thread%3A%5B%E8%AB%8B%E7%9B%8A%5D+%E5%BA%AB%E8%97%8F%E8%82%A1%E6%B8%9B%E8%B3%87%E8%88%87%E7%8F%BE%E9%87%91%E6%B8%9B%E8%B3%87%E7%9A%84%E5%8D%80%E5%88%A5\">搜尋同標題文章</a>,\n",
       " <a href=\"/bbs/Stock/search?q=author%3Aa27839579\">搜尋看板內 a27839579 的文章</a>,\n",
       " <a href=\"/bbs/Stock/M.1585557132.A.42F.html\">Re: [新聞] 〈仁寶法說〉去年EPS 1.6元 每股擬配1.2</a>,\n",
       " <a href=\"/bbs/Stock/search?q=thread%3A%5B%E6%96%B0%E8%81%9E%5D+%E3%80%88%E4%BB%81%E5%AF%B6%E6%B3%95%E8%AA%AA%E3%80%89%E5%8E%BB%E5%B9%B4EPS+1.6%E5%85%83+%E6%AF%8F%E8%82%A1%E6%93%AC%E9%85%8D1.2\">搜尋同標題文章</a>,\n",
       " <a href=\"/bbs/Stock/search?q=author%3Aappledavid\">搜尋看板內 appledavid 的文章</a>,\n",
       " <a href=\"/bbs/Stock/M.1585558977.A.341.html\">Re: [標的] 6186 新潤興業</a>,\n",
       " <a href=\"/bbs/Stock/search?q=thread%3A%5B%E6%A8%99%E7%9A%84%5D+6186+%E6%96%B0%E6%BD%A4%E8%88%88%E6%A5%AD\">搜尋同標題文章</a>,\n",
       " <a href=\"/bbs/Stock/search?q=author%3Awinexchiu\">搜尋看板內 winexchiu 的文章</a>,\n",
       " <a href=\"/bbs/Stock/M.1585560255.A.24C.html\">Re: [新聞] 〈仁寶法說〉去年EPS 1.6元 每股擬配1.2</a>,\n",
       " <a href=\"/bbs/Stock/search?q=thread%3A%5B%E6%96%B0%E8%81%9E%5D+%E3%80%88%E4%BB%81%E5%AF%B6%E6%B3%95%E8%AA%AA%E3%80%89%E5%8E%BB%E5%B9%B4EPS+1.6%E5%85%83+%E6%AF%8F%E8%82%A1%E6%93%AC%E9%85%8D1.2\">搜尋同標題文章</a>,\n",
       " <a href=\"/bbs/Stock/search?q=author%3Atopdown\">搜尋看板內 topdown 的文章</a>,\n",
       " <a href=\"/bbs/Stock/M.1585560388.A.C86.html\">[新聞] 5G iPhone仍有望如期推出 蘋果印刷電路板</a>,\n",
       " <a href=\"/bbs/Stock/search?q=thread%3A%5B%E6%96%B0%E8%81%9E%5D+5G+iPhone%E4%BB%8D%E6%9C%89%E6%9C%9B%E5%A6%82%E6%9C%9F%E6%8E%A8%E5%87%BA+%E8%98%8B%E6%9E%9C%E5%8D%B0%E5%88%B7%E9%9B%BB%E8%B7%AF%E6%9D%BF\">搜尋同標題文章</a>,\n",
       " <a href=\"/bbs/Stock/search?q=author%3Akidla\">搜尋看板內 kidla 的文章</a>,\n",
       " <a href=\"/bbs/Stock/M.1585560551.A.DF0.html\">[新聞] 最快5月底市場好轉，BDI跌至592點、首季</a>,\n",
       " <a href=\"/bbs/Stock/search?q=thread%3A%5B%E6%96%B0%E8%81%9E%5D+%E6%9C%80%E5%BF%AB5%E6%9C%88%E5%BA%95%E5%B8%82%E5%A0%B4%E5%A5%BD%E8%BD%89%EF%BC%8CBDI%E8%B7%8C%E8%87%B3592%E9%BB%9E%E3%80%81%E9%A6%96%E5%AD%A3\">搜尋同標題文章</a>,\n",
       " <a href=\"/bbs/Stock/search?q=author%3ABDI\">搜尋看板內 BDI 的文章</a>,\n",
       " <a href=\"/bbs/Stock/M.1585561845.A.D12.html\">[其他] 3/30台灣集中市場三大法人買賣超前三十</a>,\n",
       " <a href=\"/bbs/Stock/search?q=thread%3A%5B%E5%85%B6%E4%BB%96%5D+3%2F30%E5%8F%B0%E7%81%A3%E9%9B%86%E4%B8%AD%E5%B8%82%E5%A0%B4%E4%B8%89%E5%A4%A7%E6%B3%95%E4%BA%BA%E8%B2%B7%E8%B3%A3%E8%B6%85%E5%89%8D%E4%B8%89%E5%8D%81\">搜尋同標題文章</a>,\n",
       " <a href=\"/bbs/Stock/search?q=author%3Azu00405479\">搜尋看板內 zu00405479 的文章</a>,\n",
       " <a href=\"/bbs/Stock/M.1585562449.A.788.html\">[其他] 股票用line貼圖(加圖檔)</a>,\n",
       " <a href=\"/bbs/Stock/search?q=thread%3A%5B%E5%85%B6%E4%BB%96%5D+%E8%82%A1%E7%A5%A8%E7%94%A8line%E8%B2%BC%E5%9C%96%28%E5%8A%A0%E5%9C%96%E6%AA%94%29\">搜尋同標題文章</a>,\n",
       " <a href=\"/bbs/Stock/search?q=author%3Asboy1111\">搜尋看板內 sboy1111 的文章</a>,\n",
       " <a href=\"/bbs/Stock/M.1585562467.A.41D.html\">Re: [心得] 在台灣真的好幸福</a>,\n",
       " <a href=\"/bbs/Stock/search?q=thread%3A%5B%E5%BF%83%E5%BE%97%5D+%E5%9C%A8%E5%8F%B0%E7%81%A3%E7%9C%9F%E7%9A%84%E5%A5%BD%E5%B9%B8%E7%A6%8F\">搜尋同標題文章</a>,\n",
       " <a href=\"/bbs/Stock/search?q=author%3Ahello21\">搜尋看板內 hello21 的文章</a>,\n",
       " <a href=\"/bbs/Stock/M.1585562856.A.375.html\">[新聞] 破天荒！裕隆去年慘虧　將首度辦理減資彌</a>,\n",
       " <a href=\"/bbs/Stock/search?q=thread%3A%5B%E6%96%B0%E8%81%9E%5D+%E7%A0%B4%E5%A4%A9%E8%8D%92%EF%BC%81%E8%A3%95%E9%9A%86%E5%8E%BB%E5%B9%B4%E6%85%98%E8%99%A7%E3%80%80%E5%B0%87%E9%A6%96%E5%BA%A6%E8%BE%A6%E7%90%86%E6%B8%9B%E8%B3%87%E5%BD%8C\">搜尋同標題文章</a>,\n",
       " <a href=\"/bbs/Stock/search?q=author%3ASkydier\">搜尋看板內 Skydier 的文章</a>,\n",
       " <a href=\"/bbs/Stock/M.1422199105.A.84E.html\">[公告] 精華區導覽Q&amp;A</a>,\n",
       " <a href=\"/bbs/Stock/search?q=thread%3A%5B%E5%85%AC%E5%91%8A%5D+%E7%B2%BE%E8%8F%AF%E5%8D%80%E5%B0%8E%E8%A6%BDQ%26A\">搜尋同標題文章</a>,\n",
       " <a href=\"/bbs/Stock/search?q=author%3AIanLi\">搜尋看板內 IanLi 的文章</a>,\n",
       " <a href=\"/bbs/Stock/M.1541252211.A.8BE.html\">[公告] Stock 板規V2.6             (2019/06/20)</a>,\n",
       " <a href=\"/bbs/Stock/search?q=thread%3A%5B%E5%85%AC%E5%91%8A%5D+Stock+%E6%9D%BF%E8%A6%8FV2.6+++++++++++++%282019%2F06%2F20%29\">搜尋同標題文章</a>,\n",
       " <a href=\"/bbs/Stock/search?q=author%3Aeyespot\">搜尋看板內 eyespot 的文章</a>,\n",
       " <a href=\"/bbs/Stock/M.1585406932.A.FDC.html\">[公告] 版規修正</a>,\n",
       " <a href=\"/bbs/Stock/search?q=thread%3A%5B%E5%85%AC%E5%91%8A%5D+%E7%89%88%E8%A6%8F%E4%BF%AE%E6%AD%A3\">搜尋同標題文章</a>,\n",
       " <a href=\"/bbs/Stock/search?q=author%3Anoldorelf\">搜尋看板內 noldorelf 的文章</a>,\n",
       " <a href=\"/bbs/Stock/M.1585499054.A.924.html\">[公告] 因應疫情之臨時板規</a>,\n",
       " <a href=\"/bbs/Stock/search?q=thread%3A%5B%E5%85%AC%E5%91%8A%5D+%E5%9B%A0%E6%87%89%E7%96%AB%E6%83%85%E4%B9%8B%E8%87%A8%E6%99%82%E6%9D%BF%E8%A6%8F\">搜尋同標題文章</a>,\n",
       " <a href=\"/bbs/Stock/search?q=author%3Aeyespot\">搜尋看板內 eyespot 的文章</a>,\n",
       " <a href=\"/bbs/Stock/M.1585548002.A.27A.html\">[閒聊] 2020/03/30 盤後閒聊</a>,\n",
       " <a href=\"/bbs/Stock/search?q=thread%3A%5B%E9%96%92%E8%81%8A%5D+2020%2F03%2F30+%E7%9B%A4%E5%BE%8C%E9%96%92%E8%81%8A\">搜尋同標題文章</a>,\n",
       " <a href=\"/bbs/Stock/search?q=author%3Avendan5566\">搜尋看板內 vendan5566 的文章</a>]"
      ]
     },
     "execution_count": 39,
     "metadata": {},
     "output_type": "execute_result"
    }
   ],
   "source": [
    "soup.find_all(href=True)"
   ]
  },
  {
   "cell_type": "code",
   "execution_count": 37,
   "metadata": {},
   "outputs": [],
   "source": [
    "soup.find_all?"
   ]
  },
  {
   "cell_type": "code",
   "execution_count": 24,
   "metadata": {},
   "outputs": [
    {
     "name": "stdout",
     "output_type": "stream",
     "text": [
      "\n",
      "Re: [心得] 在台灣真的好幸福\n",
      "\n",
      "\n",
      "[新聞] 廣達 現金股利 3.7元\n",
      "\n",
      "\n",
      "[新聞] 蘋果推出5G iPhone最糟糕是延遲至2021年\n",
      "\n",
      "\n",
      "[新聞] 2317鴻海 108年財報\n",
      "\n",
      "\n",
      "\t\t\t\n",
      "\t\t\t\t(本文已被刪除) [vm3rup4bj6]\n",
      "\t\t\t\n",
      "\t\t\t\n",
      "\n",
      "[新聞] 〈仁寶法說〉去年EPS 1.6元 每股擬配1.2\n",
      "\n",
      "\n",
      "\t\t\t\n",
      "\t\t\t\t(本文已被刪除) [gothmog]\n",
      "\t\t\t\n",
      "\t\t\t\n",
      "\n",
      "Re: [請益] 開槓桿100倍會太多嗎？\n",
      "\n",
      "\n",
      "[請益] 庫藏股減資與現金減資的區別\n",
      "\n",
      "\n",
      "Re: [新聞] 〈仁寶法說〉去年EPS 1.6元 每股擬配1.2\n",
      "\n",
      "\n",
      "Re: [標的] 6186 新潤興業\n",
      "\n",
      "\n",
      "Re: [新聞] 〈仁寶法說〉去年EPS 1.6元 每股擬配1.2\n",
      "\n",
      "\n",
      "[新聞] 5G iPhone仍有望如期推出 蘋果印刷電路板\n",
      "\n",
      "\n",
      "[新聞] 最快5月底市場好轉，BDI跌至592點、首季\n",
      "\n",
      "\n",
      "[其他] 3/30台灣集中市場三大法人買賣超前三十\n",
      "\n",
      "\n",
      "[其他] 股票用line貼圖(加圖檔)\n",
      "\n",
      "\n",
      "Re: [心得] 在台灣真的好幸福\n",
      "\n",
      "\n",
      "[新聞] 破天荒！裕隆去年慘虧　將首度辦理減資彌\n",
      "\n",
      "\n",
      "[公告] 精華區導覽Q&A\n",
      "\n",
      "\n",
      "[公告] Stock 板規V2.6             (2019/06/20)\n",
      "\n",
      "\n",
      "[公告] 版規修正\n",
      "\n",
      "\n",
      "[公告] 因應疫情之臨時板規\n",
      "\n",
      "\n",
      "[閒聊] 2020/03/30 盤後閒聊\n",
      "\n"
     ]
    }
   ],
   "source": [
    "for i in range(len(soup.find_all('div' , class_='title' ))):\n",
    "    print(soup.find_all('div' , class_='title' )[i].text)"
   ]
  },
  {
   "cell_type": "code",
   "execution_count": 34,
   "metadata": {},
   "outputs": [
    {
     "data": {
      "text/plain": [
       "'\\n[閒聊] 2020/03/30 盤後閒聊\\n'"
      ]
     },
     "execution_count": 34,
     "metadata": {},
     "output_type": "execute_result"
    }
   ],
   "source": [
    "a=soup.find_all('div' , class_='title' )[i].get_text()\n",
    "a"
   ]
  }
 ],
 "metadata": {
  "kernelspec": {
   "display_name": "Python 3",
   "language": "python",
   "name": "python3"
  },
  "language_info": {
   "codemirror_mode": {
    "name": "ipython",
    "version": 3
   },
   "file_extension": ".py",
   "mimetype": "text/x-python",
   "name": "python",
   "nbconvert_exporter": "python",
   "pygments_lexer": "ipython3",
   "version": "3.7.3"
  },
  "varInspector": {
   "cols": {
    "lenName": 16,
    "lenType": 16,
    "lenVar": 40
   },
   "kernels_config": {
    "python": {
     "delete_cmd_postfix": "",
     "delete_cmd_prefix": "del ",
     "library": "var_list.py",
     "varRefreshCmd": "print(var_dic_list())"
    },
    "r": {
     "delete_cmd_postfix": ") ",
     "delete_cmd_prefix": "rm(",
     "library": "var_list.r",
     "varRefreshCmd": "cat(var_dic_list()) "
    }
   },
   "types_to_exclude": [
    "module",
    "function",
    "builtin_function_or_method",
    "instance",
    "_Feature"
   ],
   "window_display": false
  }
 },
 "nbformat": 4,
 "nbformat_minor": 4
}
