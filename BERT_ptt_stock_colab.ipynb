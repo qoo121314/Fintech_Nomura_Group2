{
  "nbformat": 4,
  "nbformat_minor": 0,
  "metadata": {
    "colab": {
      "name": "新版seg BERT_ptt_stock.ipynb",
      "provenance": [],
      "collapsed_sections": []
    },
    "kernelspec": {
      "name": "python3",
      "display_name": "Python 3"
    },
    "accelerator": "GPU"
  },
  "cells": [
    {
      "cell_type": "code",
      "metadata": {
        "id": "doNFRjPqiBhM",
        "colab_type": "code",
        "colab": {
          "base_uri": "https://localhost:8080/"
        },
        "outputId": "2a5b4b44-b6b5-4519-949d-65fb0b235b45"
      },
      "source": [
        "!pip install -q keras-bert\n",
        "!wget -q https://storage.googleapis.com/bert_models/2018_11_03/chinese_L-12_H-768_A-12.zip\n",
        "!unzip -o chinese_L-12_H-768_A-12.zip"
      ],
      "execution_count": null,
      "outputs": [
        {
          "output_type": "stream",
          "text": [
            "Archive:  chinese_L-12_H-768_A-12.zip\n",
            "  inflating: chinese_L-12_H-768_A-12/bert_model.ckpt.meta  \n",
            "  inflating: chinese_L-12_H-768_A-12/bert_model.ckpt.data-00000-of-00001  \n",
            "  inflating: chinese_L-12_H-768_A-12/vocab.txt  \n",
            "  inflating: chinese_L-12_H-768_A-12/bert_model.ckpt.index  \n",
            "  inflating: chinese_L-12_H-768_A-12/bert_config.json  \n"
          ],
          "name": "stdout"
        }
      ]
    },
    {
      "cell_type": "code",
      "metadata": {
        "id": "bzoFRUGmh6a3",
        "colab_type": "code",
        "colab": {}
      },
      "source": [
        "SEQ_LEN = 512\n",
        "BATCH_SIZE = 32\n",
        "EPOCHS = 5"
      ],
      "execution_count": null,
      "outputs": []
    },
    {
      "cell_type": "code",
      "metadata": {
        "id": "KUQ8UtquieFj",
        "colab_type": "code",
        "colab": {}
      },
      "source": [
        "import os\n",
        "pretrained_path = 'chinese_L-12_H-768_A-12'\n",
        "config_path = os.path.join(pretrained_path, 'bert_config.json')\n",
        "checkpoint_path = os.path.join(pretrained_path, 'bert_model.ckpt')\n",
        "vocab_path = os.path.join(pretrained_path, 'vocab.txt')\n"
      ],
      "execution_count": null,
      "outputs": []
    },
    {
      "cell_type": "markdown",
      "metadata": {
        "id": "tMWc7HGsurZ8",
        "colab_type": "text"
      },
      "source": [
        "# 讀取seg"
      ]
    },
    {
      "cell_type": "code",
      "metadata": {
        "id": "i0KIY80RuoY6",
        "colab_type": "code",
        "colab": {
          "base_uri": "https://localhost:8080/",
          "height": 131
        },
        "outputId": "f859f011-0e86-4b2b-ee37-12b65d91701e"
      },
      "source": [
        "from google.colab import drive\n",
        "drive.mount('/content/drive')"
      ],
      "execution_count": null,
      "outputs": [
        {
          "output_type": "stream",
          "text": [
            "Go to this URL in a browser: https://accounts.google.com/o/oauth2/auth?client_id=947318989803-6bn6qk8qdgf4n4g3pfee6491hc0brc4i.apps.googleusercontent.com&redirect_uri=urn%3aietf%3awg%3aoauth%3a2.0%3aoob&response_type=code&scope=email%20https%3a%2f%2fwww.googleapis.com%2fauth%2fdocs.test%20https%3a%2f%2fwww.googleapis.com%2fauth%2fdrive%20https%3a%2f%2fwww.googleapis.com%2fauth%2fdrive.photos.readonly%20https%3a%2f%2fwww.googleapis.com%2fauth%2fpeopleapi.readonly\n",
            "\n",
            "Enter your authorization code:\n",
            "··········\n",
            "Mounted at /content/drive\n"
          ],
          "name": "stdout"
        }
      ]
    },
    {
      "cell_type": "code",
      "metadata": {
        "id": "1-LE9l1-vHyW",
        "colab_type": "code",
        "colab": {}
      },
      "source": [
        "import json\n",
        "import numpy  as np\n",
        "import pandas as pd\n",
        "from glob import glob \n",
        "from tqdm import tqdm"
      ],
      "execution_count": null,
      "outputs": []
    },
    {
      "cell_type": "code",
      "metadata": {
        "id": "O5iAo3QRuq3Z",
        "colab_type": "code",
        "colab": {}
      },
      "source": [
        "df = pd.read_pickle('../content/drive/My Drive/Nomura/data.pickle')"
      ],
      "execution_count": null,
      "outputs": []
    },
    {
      "cell_type": "code",
      "metadata": {
        "id": "XdE-iDkZvNPZ",
        "colab_type": "code",
        "colab": {}
      },
      "source": [
        "y = pd.read_csv('../content/drive/My Drive/Nomura/nomura_redemp.csv')"
      ],
      "execution_count": null,
      "outputs": []
    },
    {
      "cell_type": "code",
      "metadata": {
        "id": "XmxuHyaGvVo2",
        "colab_type": "code",
        "colab": {
          "base_uri": "https://localhost:8080/",
          "height": 321
        },
        "outputId": "c9f04796-c116-4ed1-c772-e046156eaa33"
      },
      "source": [
        "df.head()"
      ],
      "execution_count": null,
      "outputs": [
        {
          "output_type": "execute_result",
          "data": {
            "text/html": [
              "<div>\n",
              "<style scoped>\n",
              "    .dataframe tbody tr th:only-of-type {\n",
              "        vertical-align: middle;\n",
              "    }\n",
              "\n",
              "    .dataframe tbody tr th {\n",
              "        vertical-align: top;\n",
              "    }\n",
              "\n",
              "    .dataframe thead th {\n",
              "        text-align: right;\n",
              "    }\n",
              "</style>\n",
              "<table border=\"1\" class=\"dataframe\">\n",
              "  <thead>\n",
              "    <tr style=\"text-align: right;\">\n",
              "      <th></th>\n",
              "      <th>time</th>\n",
              "      <th>author</th>\n",
              "      <th>type</th>\n",
              "      <th>title</th>\n",
              "      <th>score</th>\n",
              "      <th>filename</th>\n",
              "      <th>content</th>\n",
              "      <th>seg</th>\n",
              "    </tr>\n",
              "  </thead>\n",
              "  <tbody>\n",
              "    <tr>\n",
              "      <th>0</th>\n",
              "      <td>2018-02-01 22:50:42</td>\n",
              "      <td>ted5566</td>\n",
              "      <td>新聞</td>\n",
              "      <td>台灣央行新掌門人如何走出自己的路？</td>\n",
              "      <td>10</td>\n",
              "      <td>pttdata\\M.1517496645.A.38D.json</td>\n",
              "      <td>\\n1.原文連結：\\n\\nhttps://cn.reuters.com/article/fo...</td>\n",
              "      <td>[\\n, 1, ., 原文, 連結, ：, \\n, \\n, \\n, \\n, \\n, 2, ....</td>\n",
              "    </tr>\n",
              "    <tr>\n",
              "      <th>1</th>\n",
              "      <td>2018-02-02 00:12:28</td>\n",
              "      <td>j853540</td>\n",
              "      <td>標的</td>\n",
              "      <td>大亞 空</td>\n",
              "      <td>3</td>\n",
              "      <td>pttdata\\M.1517501551.A.D55.json</td>\n",
              "      <td>\\n\\n\\n\\n1. 標的：大亞\\n\\n2. 分類：空\\n\\n3. 分析/正文：\\n\\n最近...</td>\n",
              "      <td>[\\n, \\n, \\n, \\n, 1, .,  , 標的, ：, 大亞\\n, \\n, 2, ...</td>\n",
              "    </tr>\n",
              "    <tr>\n",
              "      <th>2</th>\n",
              "      <td>2018-02-02 08:11:27</td>\n",
              "      <td>milk7054</td>\n",
              "      <td>新聞</td>\n",
              "      <td>蘋果本季營收預測不如預期 iPhone整體需</td>\n",
              "      <td>19</td>\n",
              "      <td>pttdata\\M.1517530291.A.04E.json</td>\n",
              "      <td>\\n-------------------------------發文提醒---------...</td>\n",
              "      <td>[\\n, -------------------------------, 發文, 提醒, ...</td>\n",
              "    </tr>\n",
              "    <tr>\n",
              "      <th>3</th>\n",
              "      <td>2018-02-02 08:25:45</td>\n",
              "      <td>kaiming7955</td>\n",
              "      <td>新聞</td>\n",
              "      <td>蘋果營收、盈餘創新高，稱愛瘋X週週奪最</td>\n",
              "      <td>14</td>\n",
              "      <td>pttdata\\M.1517531147.A.7F3.json</td>\n",
              "      <td>\\n\\n蘋果周四於美股盤後公佈前季（10-12月）財報，雖然愛瘋出貨量不如預期，但仍舊是營收...</td>\n",
              "      <td>[\\n, \\n, 蘋果, 周四, 於, 美股, 盤, 後, 公佈, 前, 季, （, 10,...</td>\n",
              "    </tr>\n",
              "    <tr>\n",
              "      <th>4</th>\n",
              "      <td>2018-02-02 08:30:04</td>\n",
              "      <td>ESunBoy</td>\n",
              "      <td>閒聊</td>\n",
              "      <td>2018/02/02 盤中閒聊</td>\n",
              "      <td>569</td>\n",
              "      <td>pttdata\\M.1517531406.A.3CD.json</td>\n",
              "      <td>\\nxx老師早料到台股準備封關，\\n2018全面毀滅，\\n你一半我一半，\\n大獲全勝。\\n\\...</td>\n",
              "      <td>[\\n, xx, 老師, 早, 料到, 台股, 準備, 封關, ，, \\n, 2018, 全...</td>\n",
              "    </tr>\n",
              "  </tbody>\n",
              "</table>\n",
              "</div>"
            ],
            "text/plain": [
              "                  time  ...                                                seg\n",
              "0  2018-02-01 22:50:42  ...  [\\n, 1, ., 原文, 連結, ：, \\n, \\n, \\n, \\n, \\n, 2, ....\n",
              "1  2018-02-02 00:12:28  ...  [\\n, \\n, \\n, \\n, 1, .,  , 標的, ：, 大亞\\n, \\n, 2, ...\n",
              "2  2018-02-02 08:11:27  ...  [\\n, -------------------------------, 發文, 提醒, ...\n",
              "3  2018-02-02 08:25:45  ...  [\\n, \\n, 蘋果, 周四, 於, 美股, 盤, 後, 公佈, 前, 季, （, 10,...\n",
              "4  2018-02-02 08:30:04  ...  [\\n, xx, 老師, 早, 料到, 台股, 準備, 封關, ，, \\n, 2018, 全...\n",
              "\n",
              "[5 rows x 8 columns]"
            ]
          },
          "metadata": {
            "tags": []
          },
          "execution_count": 11
        }
      ]
    },
    {
      "cell_type": "code",
      "metadata": {
        "id": "8BOjjV4HvlWK",
        "colab_type": "code",
        "colab": {
          "base_uri": "https://localhost:8080/",
          "height": 198
        },
        "outputId": "950fa3fe-149a-4cca-86c5-ef4be86d4b68"
      },
      "source": [
        "y.head()"
      ],
      "execution_count": null,
      "outputs": [
        {
          "output_type": "execute_result",
          "data": {
            "text/html": [
              "<div>\n",
              "<style scoped>\n",
              "    .dataframe tbody tr th:only-of-type {\n",
              "        vertical-align: middle;\n",
              "    }\n",
              "\n",
              "    .dataframe tbody tr th {\n",
              "        vertical-align: top;\n",
              "    }\n",
              "\n",
              "    .dataframe thead th {\n",
              "        text-align: right;\n",
              "    }\n",
              "</style>\n",
              "<table border=\"1\" class=\"dataframe\">\n",
              "  <thead>\n",
              "    <tr style=\"text-align: right;\">\n",
              "      <th></th>\n",
              "      <th>ym</th>\n",
              "      <th>redemption</th>\n",
              "      <th>delta</th>\n",
              "      <th>signal</th>\n",
              "    </tr>\n",
              "  </thead>\n",
              "  <tbody>\n",
              "    <tr>\n",
              "      <th>0</th>\n",
              "      <td>2014-11-30</td>\n",
              "      <td>0.037555</td>\n",
              "      <td>NaN</td>\n",
              "      <td>False</td>\n",
              "    </tr>\n",
              "    <tr>\n",
              "      <th>1</th>\n",
              "      <td>2014-12-31</td>\n",
              "      <td>0.044058</td>\n",
              "      <td>0.006504</td>\n",
              "      <td>True</td>\n",
              "    </tr>\n",
              "    <tr>\n",
              "      <th>2</th>\n",
              "      <td>2015-01-31</td>\n",
              "      <td>0.038173</td>\n",
              "      <td>-0.005886</td>\n",
              "      <td>False</td>\n",
              "    </tr>\n",
              "    <tr>\n",
              "      <th>3</th>\n",
              "      <td>2015-02-28</td>\n",
              "      <td>0.038173</td>\n",
              "      <td>0.000000</td>\n",
              "      <td>False</td>\n",
              "    </tr>\n",
              "    <tr>\n",
              "      <th>4</th>\n",
              "      <td>2015-03-31</td>\n",
              "      <td>0.123520</td>\n",
              "      <td>0.085347</td>\n",
              "      <td>True</td>\n",
              "    </tr>\n",
              "  </tbody>\n",
              "</table>\n",
              "</div>"
            ],
            "text/plain": [
              "           ym  redemption     delta  signal\n",
              "0  2014-11-30    0.037555       NaN   False\n",
              "1  2014-12-31    0.044058  0.006504    True\n",
              "2  2015-01-31    0.038173 -0.005886   False\n",
              "3  2015-02-28    0.038173  0.000000   False\n",
              "4  2015-03-31    0.123520  0.085347    True"
            ]
          },
          "metadata": {
            "tags": []
          },
          "execution_count": 12
        }
      ]
    },
    {
      "cell_type": "markdown",
      "metadata": {
        "id": "LELC8PsCxhrX",
        "colab_type": "text"
      },
      "source": [
        "# 加入stopwords字典"
      ]
    },
    {
      "cell_type": "code",
      "metadata": {
        "id": "LcYhFkdixpl7",
        "colab_type": "code",
        "colab": {}
      },
      "source": [
        "word_sentence_list = df['seg']"
      ],
      "execution_count": null,
      "outputs": []
    },
    {
      "cell_type": "code",
      "metadata": {
        "id": "hPvDA22zxhy6",
        "colab_type": "code",
        "colab": {}
      },
      "source": [
        "stopWords=[]\n",
        "with open('../content/drive/My Drive/Nomura/stopword.txt', 'r', encoding='UTF-8') as file:\n",
        "    for data in file.readlines():\n",
        "        data = data.strip()\n",
        "        stopWords.append(data)\n",
        "        remainder_sentence = []\n",
        "\n",
        "stopWords.append('\\n')\n",
        "apndix = ['(', '61', '.231', '.', '200', '.', '192', ' ', '臺灣', ')', ' ', '05', '/', '01', '/', '2020', ' ', '15', ':', '34', ':', '14\\n',  '--\\n', '※ '  ]\n",
        "for i in apndix:\n",
        "    stopWords.append(i)\n"
      ],
      "execution_count": null,
      "outputs": []
    },
    {
      "cell_type": "code",
      "metadata": {
        "id": "fbPzkphYx2wG",
        "colab_type": "code",
        "colab": {}
      },
      "source": [
        "for i in word_sentence_list:\n",
        "    remainderWords = list(filter(lambda a: a not in stopWords and a != '\\n', i))\n",
        "    remainder_sentence.append(remainderWords)\n"
      ],
      "execution_count": null,
      "outputs": []
    },
    {
      "cell_type": "code",
      "metadata": {
        "id": "mRRVeOrfyeRR",
        "colab_type": "code",
        "colab": {
          "base_uri": "https://localhost:8080/",
          "height": 56
        },
        "outputId": "88245a89-31c0-4257-e792-4603c8fe86a5"
      },
      "source": [
        "print(remainder_sentence[0:2])"
      ],
      "execution_count": null,
      "outputs": [
        {
          "output_type": "stream",
          "text": [
            "[['原文', '連結', '原文', '內容', '台湾', '央行', '正式', '进入', '后彭时', '代', '新掌门', '走出', '路', '路透', '台北', '2月', '1日', ' - ', '20', '年', '前', '台灣', '桃園', '大園', '場', '嚴重', '空難', '台灣', '央行', '人才', '嚴重', '折損', '意外', '造就', '彭淮南', '楊金龍', '兩', '位', '央行', '基層', '一路', '做到', '總裁', '鮮少', '知道', '當年', '擔任', '央行', '行務', '委員', '楊金龍', '原本', '出席', '印尼', '巴里島', '東南亞', '國家', '中央', '銀行', '總裁', '聯合會', 'SEACEN', '名單', '中', '時任', '央行', '總裁', '許遠東', '筆', '揮', '臨時', '改由', '出席', '事', '一度', '楊金龍', '相當', '沮喪', '知情', '人士', '稱', '當年', '台灣', '剛', '歷經', '1997年', '亞洲', '金融', '風暴', '1998年', '初', '許遠東', '慰勞', '官員', '辛勞\\n', '特', '出席', 'SEACEN', '年會', '名義', '安排', '位', '一級', '主委', '一起', '赴', '巴里島', '回程', '時', '遭遇', '重大', '空難', '突然', '空難', '央行', '頓時', '群龍無首', '當時', '總統', '李登輝', '隨即', '任命', '當時', '擔任', '中國', '商銀', '現今', '兆豐', '商銀', '董事長', '彭淮南', '接掌', '總裁', '職務', '彭淮南', '提早', '數', '月', '當上', '央行', '總裁', '彭淮南\\n', '迄', '依舊', '李登輝', '心', '存', '感激', '央行', '內部', '活動', '央行', '合唱團', '特別', '獻', '首', '感恩', '心', '彭淮南', '接掌', '央行', '深受', '彭信賴', '楊金龍', '官運', '亨通', '次', '順利', '出線', '擔任', '央\\n', '行', '總裁', '職', '彭淮南', '總統', '蔡英文', '強力', '推薦', '面對', '前', '連續', '兩', '央行', '總裁', '任期', '過世', '向來', '篤信', '一貫道', '彭淮南', '接掌', '總裁', '隨即', '找來', '高人', '央行', '修', '風水', '希望', '永', '保', '平安', '如今', '走進', '綠意盎然', '鳥言花香', '央行', '舉凡', '一草一木', '處處', '風水', '痕跡', '央行', '舊', '大樓', '正', '前方', '總共', '種', '八', '不同品', '樹種', '位居', '中間', '榕樹', '個頭', '價值', '不斐', '知情', '人士', '稱', '榕樹', '代表', '央行', '主事', '兩旁', '小葉\\n', '欖仁', '樹木', '象徵', '央行', '主要', '局', '處', '種', '沖煞', '央行', '修', '石獅', '父子', '座', '水池', '規定', '停放', '央\\n', '行', '停車場', '車子', '車頭', '必須', '一致', '外', '央行', '方便', '內部', '往來', '新舊', '大樓', '間', '興建', '座', '風雨走廊', '興建', '後果', '真是', '風雨\\n', '不斷', '特別', '走廊', '直通', '舊', '大樓', '二樓', '外匯局', '首當其衝', '迫使', '央行', '不得不', '變相', '關閉', '風水', '走廊', '期', '阻擋', '新', '大樓', '直接', '摜穿到', '外匯局', '煞氣', '彭淮南', '大修', '央行', '風水', '央行', '平平安安', '度', '20', '年頭', '同樣', '彭淮南', '強勢', '領導', '台灣', '金融業', '央行', '雙率', '變', '穩定', '然', '過於', '穩定', '市場', '波動', '市場', '形容', '台灣', '金融', '市場', '灘', '死水', '詬病', '**', '彭下楊', '楊', '未來', '挑戰', '**\\n', '不到', '月', '楊金龍', '即將', '走馬上任', '台灣', '將來', '迎來', '新', '總裁', '出生', '台灣', '南端', '小鎮', '--', '屏東', '恆春', '楊金龍', '小時候', '家境', '寬裕', '籌措', '學費', '楊金龍\\n', '母親', '暑假', '時', '群', '雞', '鴨', '鵝', '負責', '雞', '鴨', '鵝', '養大', '暑假', '結束', '時', '家\\n', '禽', '養大', '正好', '賣錢', '繳', '學費', '賣', '更多', '錢', '楊金龍', '必須', '設法', '雞', '鴨', '鵝', '養', '更', '肥\\n', '更', '迄', '楊金龍', '天', '飛', '走', '家禽', '特別', '研究', '年', '媒體', '閒\\n', '話家常', '時', '三', '句', '鳥', '事', '觸及', '央行', '業務', '楊金龍', '顯得', '格局', '謹慎', '小心', '說', '年', '央行', '沒有', '聲音', '發言人', '深受', '彭淮南', '信任', '喜愛', '楊金龍', '完全', '沒有', '聲音', '擔任', '業務局長', '時', '媒體', '記者', '互動', '時', '不少', '磨\\n', '擦', '向來', '直來直往', '楊金龍', '數', '度', '記者', '氣哭', '最後', '彭淮南', '出面', '緩頰', '而今', '楊金龍', '順利', '接掌', '央行', '總裁', '外界', '均', '稱', '楊金龍', '彭淮南', '一手', '提拔', '上來', '人選', '彭淮南', '轉任', '顧問', '會', '從旁', '協助', '料', '初期', '楊金龍', '跟隨', '彭淮南', '腳步', '彭規', '楊隨', '外界', '人事案', '安全', '評論', '分析師', '民意代表', '認為', '楊金龍', '面對', '未來', '內外', '環境', '變化', '老', '長官', '輔佐', '楊金龍', '走出', '路', '外', '應付', '國際', '種', '壓力', '尤\\n', '年', '4月', '10月', '美國', '匯率', '報告', '均', '考驗', '楊金龍', '智慧', '**', '期待', '楊能', '走', '自已', '路', '**\\n', '民進黨', '前', '立委', '沈富雄', '指出', '楊金龍', '以前', '沒有', '聲音', '希望', '上任', '擺脫', '彭淮南', '陰影', '后\\n', '走', '路', '台灣', '未來', '做', '有利', '事', '走', '正確', '路', '匯率', '儘量', '自由化', '不再', '阻\\n', '升', '助升', '台幣', '國民黨', '立委', '曾銘宗', '稱', '楊金龍', '養成', '過程', '長期', '央行', '服務', '幾乎', '沒有', '離開', '央行', '熟悉', '央行', '運作', '未', '外放到', '金融界', '料', '掌', '總裁', '職務', '彭規', '楊隨', '繼續', '維持', '央行', '過去', '相對', '穩健', '保守', '雙率', '政策', '央行', '雙率', '政策', '外', '須', '協助', '經濟', '金融業', '發展', '目標', '個性', '保守', '謹慎', '楊金龍', '說', '往後', '有無', '辦法', '協助', '台灣', '經濟', '發展', '之餘', '兼顧', '台灣', '金融業', '發展', '尤其', '金融', '科技', '發展', '快速', '電子', '支付', '貨幣', '數位化', '楊金龍', '因應', '未來', '金融', '科技', '快速', '發展', '挑戰', '課題', '過去', '楊金龍', '立法院', '接受', '立委', '質詢', '時', '答詢', '突出', '未來', '經得起', '立法院', '立委', '嚴格', '考驗', '有待', '觀察', '全力以赴', '楊金龍', '獲得', '行政院', '核定', '人事令', '路透', '記者', '說', '彭淮南', '之後', '接', '位子', '壓力', '重', '考驗', '重', '尤其', '未來', '金融', '經濟', '內外', '環境', '快速', '變動', '之下', '因應', '考驗', '楊金龍', '因應', '能力', '曾銘宗', '說', '民進黨', '立委', '黃偉', '認為', '楊金龍', '彭淮南', '兩', '共同點', '低調', '不同點', '楊金龍\\n', '比較', '沒有', '彭淮南', '強勢', '楊金龍', '專業', '能力', '應', '肯定', '預估', '上任', '初期', '應', '不會', '做', '改變', '兩', '年', '走出', '楊金龍', '風格', '觀察', '元大', '投顧', '全球', '投資處', '首席', '經濟學家', '陳森林', '說', '目前', '內外在', '環境', '美國', '日本', '台灣', '刺激', '景氣', '措施', '貨幣', '政策', '轉', '財政', '政策', '若要', '維持', '財政', '政策', '效果', '央行', '貨幣', '政策', '不至', '轉向', '氛圍', '央行', '貨幣', '政策', '操作', '空間', '限制', '匯率', '政策', '方面', '說', '美國', '采', '弱勢', '美元', '政策', '未來', '台灣', '央行', '匯率', '掌握', '能力', '下降', '央行', '未來', '雙率', '操作', '之上', '恐怕', '無法', '以往', '靈活', '完', '心得', '評論', '報道里', '有趣', '細節', '知道', '新任', '總裁', '匯率', '政策', '金融', '創新', '沒', '見解\\n'], ['標的', '大亞\\n', '分類', '空\\n', '分析', '正文', '最近', '發現', '隻', '一直', '跌', '今天', '開盤', '小漲', '尾盤', '賣壓', '高', '繼續', '跌\\n', '繼續', '空\\n', '進', '退場', '機制', '非', '長期', '投資', '必須', '停損', '機制', '-----\\n', 'Sent from JPTT on my iPhone\\n']]\n"
          ],
          "name": "stdout"
        }
      ]
    },
    {
      "cell_type": "code",
      "metadata": {
        "id": "_9OuRoHdx8uO",
        "colab_type": "code",
        "colab": {}
      },
      "source": [
        "stoppedContend=[]\n",
        "for sentence in remainder_sentence:\n",
        "  stoppedContend.append(''.join(sentence))"
      ],
      "execution_count": null,
      "outputs": []
    },
    {
      "cell_type": "code",
      "metadata": {
        "id": "NA-51CiLxmpa",
        "colab_type": "code",
        "colab": {
          "base_uri": "https://localhost:8080/",
          "height": 56
        },
        "outputId": "fba1629a-2c03-4762-afaa-bef8a8304031"
      },
      "source": [
        "print(stoppedContend[0:2])"
      ],
      "execution_count": null,
      "outputs": [
        {
          "output_type": "stream",
          "text": [
            "['原文連結原文內容台湾央行正式进入后彭时代新掌门走出路路透台北2月1日 - 20年前台灣桃園大園場嚴重空難台灣央行人才嚴重折損意外造就彭淮南楊金龍兩位央行基層一路做到總裁鮮少知道當年擔任央行行務委員楊金龍原本出席印尼巴里島東南亞國家中央銀行總裁聯合會SEACEN名單中時任央行總裁許遠東筆揮臨時改由出席事一度楊金龍相當沮喪知情人士稱當年台灣剛歷經1997年亞洲金融風暴1998年初許遠東慰勞官員辛勞\\n特出席SEACEN年會名義安排位一級主委一起赴巴里島回程時遭遇重大空難突然空難央行頓時群龍無首當時總統李登輝隨即任命當時擔任中國商銀現今兆豐商銀董事長彭淮南接掌總裁職務彭淮南提早數月當上央行總裁彭淮南\\n迄依舊李登輝心存感激央行內部活動央行合唱團特別獻首感恩心彭淮南接掌央行深受彭信賴楊金龍官運亨通次順利出線擔任央\\n行總裁職彭淮南總統蔡英文強力推薦面對前連續兩央行總裁任期過世向來篤信一貫道彭淮南接掌總裁隨即找來高人央行修風水希望永保平安如今走進綠意盎然鳥言花香央行舉凡一草一木處處風水痕跡央行舊大樓正前方總共種八不同品樹種位居中間榕樹個頭價值不斐知情人士稱榕樹代表央行主事兩旁小葉\\n欖仁樹木象徵央行主要局處種沖煞央行修石獅父子座水池規定停放央\\n行停車場車子車頭必須一致外央行方便內部往來新舊大樓間興建座風雨走廊興建後果真是風雨\\n不斷特別走廊直通舊大樓二樓外匯局首當其衝迫使央行不得不變相關閉風水走廊期阻擋新大樓直接摜穿到外匯局煞氣彭淮南大修央行風水央行平平安安度20年頭同樣彭淮南強勢領導台灣金融業央行雙率變穩定然過於穩定市場波動市場形容台灣金融市場灘死水詬病**彭下楊楊未來挑戰**\\n不到月楊金龍即將走馬上任台灣將來迎來新總裁出生台灣南端小鎮--屏東恆春楊金龍小時候家境寬裕籌措學費楊金龍\\n母親暑假時群雞鴨鵝負責雞鴨鵝養大暑假結束時家\\n禽養大正好賣錢繳學費賣更多錢楊金龍必須設法雞鴨鵝養更肥\\n更迄楊金龍天飛走家禽特別研究年媒體閒\\n話家常時三句鳥事觸及央行業務楊金龍顯得格局謹慎小心說年央行沒有聲音發言人深受彭淮南信任喜愛楊金龍完全沒有聲音擔任業務局長時媒體記者互動時不少磨\\n擦向來直來直往楊金龍數度記者氣哭最後彭淮南出面緩頰而今楊金龍順利接掌央行總裁外界均稱楊金龍彭淮南一手提拔上來人選彭淮南轉任顧問會從旁協助料初期楊金龍跟隨彭淮南腳步彭規楊隨外界人事案安全評論分析師民意代表認為楊金龍面對未來內外環境變化老長官輔佐楊金龍走出路外應付國際種壓力尤\\n年4月10月美國匯率報告均考驗楊金龍智慧**期待楊能走自已路**\\n民進黨前立委沈富雄指出楊金龍以前沒有聲音希望上任擺脫彭淮南陰影后\\n走路台灣未來做有利事走正確路匯率儘量自由化不再阻\\n升助升台幣國民黨立委曾銘宗稱楊金龍養成過程長期央行服務幾乎沒有離開央行熟悉央行運作未外放到金融界料掌總裁職務彭規楊隨繼續維持央行過去相對穩健保守雙率政策央行雙率政策外須協助經濟金融業發展目標個性保守謹慎楊金龍說往後有無辦法協助台灣經濟發展之餘兼顧台灣金融業發展尤其金融科技發展快速電子支付貨幣數位化楊金龍因應未來金融科技快速發展挑戰課題過去楊金龍立法院接受立委質詢時答詢突出未來經得起立法院立委嚴格考驗有待觀察全力以赴楊金龍獲得行政院核定人事令路透記者說彭淮南之後接位子壓力重考驗重尤其未來金融經濟內外環境快速變動之下因應考驗楊金龍因應能力曾銘宗說民進黨立委黃偉認為楊金龍彭淮南兩共同點低調不同點楊金龍\\n比較沒有彭淮南強勢楊金龍專業能力應肯定預估上任初期應不會做改變兩年走出楊金龍風格觀察元大投顧全球投資處首席經濟學家陳森林說目前內外在環境美國日本台灣刺激景氣措施貨幣政策轉財政政策若要維持財政政策效果央行貨幣政策不至轉向氛圍央行貨幣政策操作空間限制匯率政策方面說美國采弱勢美元政策未來台灣央行匯率掌握能力下降央行未來雙率操作之上恐怕無法以往靈活完心得評論報道里有趣細節知道新任總裁匯率政策金融創新沒見解\\n', '標的大亞\\n分類空\\n分析正文最近發現隻一直跌今天開盤小漲尾盤賣壓高繼續跌\\n繼續空\\n進退場機制非長期投資必須停損機制-----\\nSent from JPTT on my iPhone\\n']\n"
          ],
          "name": "stdout"
        }
      ]
    },
    {
      "cell_type": "markdown",
      "metadata": {
        "id": "kwnaRSiIzuD-",
        "colab_type": "text"
      },
      "source": [
        "# 整理資料"
      ]
    },
    {
      "cell_type": "code",
      "metadata": {
        "id": "Jl6TtcxtzJ25",
        "colab_type": "code",
        "colab": {}
      },
      "source": [
        "df['stopped_content']= stoppedContend"
      ],
      "execution_count": null,
      "outputs": []
    },
    {
      "cell_type": "code",
      "metadata": {
        "id": "SeEtY1ldwmR0",
        "colab_type": "code",
        "colab": {
          "base_uri": "https://localhost:8080/",
          "height": 478
        },
        "outputId": "a15a1cb4-92c4-4187-d4e1-b30536e1eae0"
      },
      "source": [
        "df.head()"
      ],
      "execution_count": null,
      "outputs": [
        {
          "output_type": "execute_result",
          "data": {
            "text/html": [
              "<div>\n",
              "<style scoped>\n",
              "    .dataframe tbody tr th:only-of-type {\n",
              "        vertical-align: middle;\n",
              "    }\n",
              "\n",
              "    .dataframe tbody tr th {\n",
              "        vertical-align: top;\n",
              "    }\n",
              "\n",
              "    .dataframe thead th {\n",
              "        text-align: right;\n",
              "    }\n",
              "</style>\n",
              "<table border=\"1\" class=\"dataframe\">\n",
              "  <thead>\n",
              "    <tr style=\"text-align: right;\">\n",
              "      <th></th>\n",
              "      <th>time</th>\n",
              "      <th>author</th>\n",
              "      <th>type</th>\n",
              "      <th>title</th>\n",
              "      <th>score</th>\n",
              "      <th>filename</th>\n",
              "      <th>content</th>\n",
              "      <th>seg</th>\n",
              "      <th>stopped_content</th>\n",
              "    </tr>\n",
              "  </thead>\n",
              "  <tbody>\n",
              "    <tr>\n",
              "      <th>0</th>\n",
              "      <td>2018-02-01 22:50:42</td>\n",
              "      <td>ted5566</td>\n",
              "      <td>新聞</td>\n",
              "      <td>台灣央行新掌門人如何走出自己的路？</td>\n",
              "      <td>10</td>\n",
              "      <td>pttdata\\M.1517496645.A.38D.json</td>\n",
              "      <td>\\n1.原文連結：\\n\\nhttps://cn.reuters.com/article/fo...</td>\n",
              "      <td>[\\n, 1, ., 原文, 連結, ：, \\n, \\n, \\n, \\n, \\n, 2, ....</td>\n",
              "      <td>原文連結原文內容台湾央行正式进入后彭时代新掌门走出路路透台北2月1日 - 20年前台灣桃園大...</td>\n",
              "    </tr>\n",
              "    <tr>\n",
              "      <th>1</th>\n",
              "      <td>2018-02-02 00:12:28</td>\n",
              "      <td>j853540</td>\n",
              "      <td>標的</td>\n",
              "      <td>大亞 空</td>\n",
              "      <td>3</td>\n",
              "      <td>pttdata\\M.1517501551.A.D55.json</td>\n",
              "      <td>\\n\\n\\n\\n1. 標的：大亞\\n\\n2. 分類：空\\n\\n3. 分析/正文：\\n\\n最近...</td>\n",
              "      <td>[\\n, \\n, \\n, \\n, 1, .,  , 標的, ：, 大亞\\n, \\n, 2, ...</td>\n",
              "      <td>標的大亞\\n分類空\\n分析正文最近發現隻一直跌今天開盤小漲尾盤賣壓高繼續跌\\n繼續空\\n進退...</td>\n",
              "    </tr>\n",
              "    <tr>\n",
              "      <th>2</th>\n",
              "      <td>2018-02-02 08:11:27</td>\n",
              "      <td>milk7054</td>\n",
              "      <td>新聞</td>\n",
              "      <td>蘋果本季營收預測不如預期 iPhone整體需</td>\n",
              "      <td>19</td>\n",
              "      <td>pttdata\\M.1517530291.A.04E.json</td>\n",
              "      <td>\\n-------------------------------發文提醒---------...</td>\n",
              "      <td>[\\n, -------------------------------, 發文, 提醒, ...</td>\n",
              "      <td>-------------------------------發文提醒-----------...</td>\n",
              "    </tr>\n",
              "    <tr>\n",
              "      <th>3</th>\n",
              "      <td>2018-02-02 08:25:45</td>\n",
              "      <td>kaiming7955</td>\n",
              "      <td>新聞</td>\n",
              "      <td>蘋果營收、盈餘創新高，稱愛瘋X週週奪最</td>\n",
              "      <td>14</td>\n",
              "      <td>pttdata\\M.1517531147.A.7F3.json</td>\n",
              "      <td>\\n\\n蘋果周四於美股盤後公佈前季（10-12月）財報，雖然愛瘋出貨量不如預期，但仍舊是營收...</td>\n",
              "      <td>[\\n, \\n, 蘋果, 周四, 於, 美股, 盤, 後, 公佈, 前, 季, （, 10,...</td>\n",
              "      <td>蘋果周四美股盤公佈前季1012月財報愛瘋出貨量預期營收盈餘破記錄主要貢獻蘋果當季賣出730萬...</td>\n",
              "    </tr>\n",
              "    <tr>\n",
              "      <th>4</th>\n",
              "      <td>2018-02-02 08:30:04</td>\n",
              "      <td>ESunBoy</td>\n",
              "      <td>閒聊</td>\n",
              "      <td>2018/02/02 盤中閒聊</td>\n",
              "      <td>569</td>\n",
              "      <td>pttdata\\M.1517531406.A.3CD.json</td>\n",
              "      <td>\\nxx老師早料到台股準備封關，\\n2018全面毀滅，\\n你一半我一半，\\n大獲全勝。\\n\\...</td>\n",
              "      <td>[\\n, xx, 老師, 早, 料到, 台股, 準備, 封關, ，, \\n, 2018, 全...</td>\n",
              "      <td>xx老師早料到台股準備封關2018全面毀滅一半一半獲全勝</td>\n",
              "    </tr>\n",
              "  </tbody>\n",
              "</table>\n",
              "</div>"
            ],
            "text/plain": [
              "                  time  ...                                    stopped_content\n",
              "0  2018-02-01 22:50:42  ...  原文連結原文內容台湾央行正式进入后彭时代新掌门走出路路透台北2月1日 - 20年前台灣桃園大...\n",
              "1  2018-02-02 00:12:28  ...  標的大亞\\n分類空\\n分析正文最近發現隻一直跌今天開盤小漲尾盤賣壓高繼續跌\\n繼續空\\n進退...\n",
              "2  2018-02-02 08:11:27  ...  -------------------------------發文提醒-----------...\n",
              "3  2018-02-02 08:25:45  ...  蘋果周四美股盤公佈前季1012月財報愛瘋出貨量預期營收盈餘破記錄主要貢獻蘋果當季賣出730萬...\n",
              "4  2018-02-02 08:30:04  ...                       xx老師早料到台股準備封關2018全面毀滅一半一半獲全勝\n",
              "\n",
              "[5 rows x 9 columns]"
            ]
          },
          "metadata": {
            "tags": []
          },
          "execution_count": 38
        }
      ]
    },
    {
      "cell_type": "code",
      "metadata": {
        "id": "aICOjWXywt3p",
        "colab_type": "code",
        "colab": {}
      },
      "source": [
        "from pandas.tseries.offsets import MonthEnd\n",
        "df['time'] = pd.to_datetime(df['time'])\n",
        "df['EndOfMonth'] = pd.to_datetime(df['time'], format=\"%Y%m\") + MonthEnd(1)"
      ],
      "execution_count": null,
      "outputs": []
    },
    {
      "cell_type": "code",
      "metadata": {
        "id": "xbud6g6vw2pl",
        "colab_type": "code",
        "colab": {
          "base_uri": "https://localhost:8080/",
          "height": 1000
        },
        "outputId": "e022b0a3-61f0-4bb1-aa10-1a452ea15bea"
      },
      "source": [
        "df.head()"
      ],
      "execution_count": null,
      "outputs": [
        {
          "output_type": "execute_result",
          "data": {
            "text/html": [
              "<div>\n",
              "<style scoped>\n",
              "    .dataframe tbody tr th:only-of-type {\n",
              "        vertical-align: middle;\n",
              "    }\n",
              "\n",
              "    .dataframe tbody tr th {\n",
              "        vertical-align: top;\n",
              "    }\n",
              "\n",
              "    .dataframe thead th {\n",
              "        text-align: right;\n",
              "    }\n",
              "</style>\n",
              "<table border=\"1\" class=\"dataframe\">\n",
              "  <thead>\n",
              "    <tr style=\"text-align: right;\">\n",
              "      <th></th>\n",
              "      <th>time</th>\n",
              "      <th>author</th>\n",
              "      <th>type</th>\n",
              "      <th>title</th>\n",
              "      <th>score</th>\n",
              "      <th>filename</th>\n",
              "      <th>content</th>\n",
              "      <th>seg</th>\n",
              "      <th>stopped_content</th>\n",
              "      <th>EndOfMonth</th>\n",
              "    </tr>\n",
              "  </thead>\n",
              "  <tbody>\n",
              "    <tr>\n",
              "      <th>0</th>\n",
              "      <td>2018-02-01 22:50:42</td>\n",
              "      <td>ted5566</td>\n",
              "      <td>新聞</td>\n",
              "      <td>台灣央行新掌門人如何走出自己的路？</td>\n",
              "      <td>10</td>\n",
              "      <td>pttdata\\M.1517496645.A.38D.json</td>\n",
              "      <td>\\n1.原文連結：\\n\\nhttps://cn.reuters.com/article/fo...</td>\n",
              "      <td>[\\n, 1, ., 原文, 連結, ：, \\n, \\n, \\n, \\n, \\n, 2, ....</td>\n",
              "      <td>原文連結原文內容台湾央行正式进入后彭时代新掌门走出路路透台北2月1日 - 20年前台灣桃園大...</td>\n",
              "      <td>2018-02-28 22:50:42</td>\n",
              "    </tr>\n",
              "    <tr>\n",
              "      <th>1</th>\n",
              "      <td>2018-02-02 00:12:28</td>\n",
              "      <td>j853540</td>\n",
              "      <td>標的</td>\n",
              "      <td>大亞 空</td>\n",
              "      <td>3</td>\n",
              "      <td>pttdata\\M.1517501551.A.D55.json</td>\n",
              "      <td>\\n\\n\\n\\n1. 標的：大亞\\n\\n2. 分類：空\\n\\n3. 分析/正文：\\n\\n最近...</td>\n",
              "      <td>[\\n, \\n, \\n, \\n, 1, .,  , 標的, ：, 大亞\\n, \\n, 2, ...</td>\n",
              "      <td>標的大亞\\n分類空\\n分析正文最近發現隻一直跌今天開盤小漲尾盤賣壓高繼續跌\\n繼續空\\n進退...</td>\n",
              "      <td>2018-02-28 00:12:28</td>\n",
              "    </tr>\n",
              "    <tr>\n",
              "      <th>2</th>\n",
              "      <td>2018-02-02 08:11:27</td>\n",
              "      <td>milk7054</td>\n",
              "      <td>新聞</td>\n",
              "      <td>蘋果本季營收預測不如預期 iPhone整體需</td>\n",
              "      <td>19</td>\n",
              "      <td>pttdata\\M.1517530291.A.04E.json</td>\n",
              "      <td>\\n-------------------------------發文提醒---------...</td>\n",
              "      <td>[\\n, -------------------------------, 發文, 提醒, ...</td>\n",
              "      <td>-------------------------------發文提醒-----------...</td>\n",
              "      <td>2018-02-28 08:11:27</td>\n",
              "    </tr>\n",
              "    <tr>\n",
              "      <th>3</th>\n",
              "      <td>2018-02-02 08:25:45</td>\n",
              "      <td>kaiming7955</td>\n",
              "      <td>新聞</td>\n",
              "      <td>蘋果營收、盈餘創新高，稱愛瘋X週週奪最</td>\n",
              "      <td>14</td>\n",
              "      <td>pttdata\\M.1517531147.A.7F3.json</td>\n",
              "      <td>\\n\\n蘋果周四於美股盤後公佈前季（10-12月）財報，雖然愛瘋出貨量不如預期，但仍舊是營收...</td>\n",
              "      <td>[\\n, \\n, 蘋果, 周四, 於, 美股, 盤, 後, 公佈, 前, 季, （, 10,...</td>\n",
              "      <td>蘋果周四美股盤公佈前季1012月財報愛瘋出貨量預期營收盈餘破記錄主要貢獻蘋果當季賣出730萬...</td>\n",
              "      <td>2018-02-28 08:25:45</td>\n",
              "    </tr>\n",
              "    <tr>\n",
              "      <th>4</th>\n",
              "      <td>2018-02-02 08:30:04</td>\n",
              "      <td>ESunBoy</td>\n",
              "      <td>閒聊</td>\n",
              "      <td>2018/02/02 盤中閒聊</td>\n",
              "      <td>569</td>\n",
              "      <td>pttdata\\M.1517531406.A.3CD.json</td>\n",
              "      <td>\\nxx老師早料到台股準備封關，\\n2018全面毀滅，\\n你一半我一半，\\n大獲全勝。\\n\\...</td>\n",
              "      <td>[\\n, xx, 老師, 早, 料到, 台股, 準備, 封關, ，, \\n, 2018, 全...</td>\n",
              "      <td>xx老師早料到台股準備封關2018全面毀滅一半一半獲全勝</td>\n",
              "      <td>2018-02-28 08:30:04</td>\n",
              "    </tr>\n",
              "  </tbody>\n",
              "</table>\n",
              "</div>"
            ],
            "text/plain": [
              "                 time  ...          EndOfMonth\n",
              "0 2018-02-01 22:50:42  ... 2018-02-28 22:50:42\n",
              "1 2018-02-02 00:12:28  ... 2018-02-28 00:12:28\n",
              "2 2018-02-02 08:11:27  ... 2018-02-28 08:11:27\n",
              "3 2018-02-02 08:25:45  ... 2018-02-28 08:25:45\n",
              "4 2018-02-02 08:30:04  ... 2018-02-28 08:30:04\n",
              "\n",
              "[5 rows x 10 columns]"
            ]
          },
          "metadata": {
            "tags": []
          },
          "execution_count": 45
        }
      ]
    },
    {
      "cell_type": "markdown",
      "metadata": {
        "id": "sU6YaOzXzg98",
        "colab_type": "text"
      },
      "source": [
        "# 資料合併"
      ]
    },
    {
      "cell_type": "code",
      "metadata": {
        "id": "R9_buUFtz5vN",
        "colab_type": "code",
        "colab": {}
      },
      "source": [
        "df['EndOfMonth'] = df['EndOfMonth'].apply(lambda x:x.date())"
      ],
      "execution_count": null,
      "outputs": []
    },
    {
      "cell_type": "code",
      "metadata": {
        "id": "UYapG0zfzXKl",
        "colab_type": "code",
        "colab": {
          "base_uri": "https://localhost:8080/",
          "height": 198
        },
        "outputId": "0da1f15b-de72-4e60-e66a-923872bf93ef"
      },
      "source": [
        "y.head()"
      ],
      "execution_count": null,
      "outputs": [
        {
          "output_type": "execute_result",
          "data": {
            "text/html": [
              "<div>\n",
              "<style scoped>\n",
              "    .dataframe tbody tr th:only-of-type {\n",
              "        vertical-align: middle;\n",
              "    }\n",
              "\n",
              "    .dataframe tbody tr th {\n",
              "        vertical-align: top;\n",
              "    }\n",
              "\n",
              "    .dataframe thead th {\n",
              "        text-align: right;\n",
              "    }\n",
              "</style>\n",
              "<table border=\"1\" class=\"dataframe\">\n",
              "  <thead>\n",
              "    <tr style=\"text-align: right;\">\n",
              "      <th></th>\n",
              "      <th>ym</th>\n",
              "      <th>redemption</th>\n",
              "      <th>delta</th>\n",
              "      <th>signal</th>\n",
              "    </tr>\n",
              "  </thead>\n",
              "  <tbody>\n",
              "    <tr>\n",
              "      <th>0</th>\n",
              "      <td>2014-11-30</td>\n",
              "      <td>0.037555</td>\n",
              "      <td>NaN</td>\n",
              "      <td>False</td>\n",
              "    </tr>\n",
              "    <tr>\n",
              "      <th>1</th>\n",
              "      <td>2014-12-31</td>\n",
              "      <td>0.044058</td>\n",
              "      <td>0.006504</td>\n",
              "      <td>True</td>\n",
              "    </tr>\n",
              "    <tr>\n",
              "      <th>2</th>\n",
              "      <td>2015-01-31</td>\n",
              "      <td>0.038173</td>\n",
              "      <td>-0.005886</td>\n",
              "      <td>False</td>\n",
              "    </tr>\n",
              "    <tr>\n",
              "      <th>3</th>\n",
              "      <td>2015-02-28</td>\n",
              "      <td>0.038173</td>\n",
              "      <td>0.000000</td>\n",
              "      <td>False</td>\n",
              "    </tr>\n",
              "    <tr>\n",
              "      <th>4</th>\n",
              "      <td>2015-03-31</td>\n",
              "      <td>0.123520</td>\n",
              "      <td>0.085347</td>\n",
              "      <td>True</td>\n",
              "    </tr>\n",
              "  </tbody>\n",
              "</table>\n",
              "</div>"
            ],
            "text/plain": [
              "           ym  redemption     delta  signal\n",
              "0  2014-11-30    0.037555       NaN   False\n",
              "1  2014-12-31    0.044058  0.006504    True\n",
              "2  2015-01-31    0.038173 -0.005886   False\n",
              "3  2015-02-28    0.038173  0.000000   False\n",
              "4  2015-03-31    0.123520  0.085347    True"
            ]
          },
          "metadata": {
            "tags": []
          },
          "execution_count": 42
        }
      ]
    },
    {
      "cell_type": "code",
      "metadata": {
        "id": "8ZOf0ge-0jgG",
        "colab_type": "code",
        "colab": {}
      },
      "source": [
        "y['ym'] = pd.to_datetime(y['ym']).apply(lambda x:x.date())"
      ],
      "execution_count": null,
      "outputs": []
    },
    {
      "cell_type": "code",
      "metadata": {
        "id": "Nd38esWbzi91",
        "colab_type": "code",
        "colab": {}
      },
      "source": [
        "data = df.merge(y,   left_on='EndOfMonth',right_on='ym')"
      ],
      "execution_count": null,
      "outputs": []
    },
    {
      "cell_type": "code",
      "metadata": {
        "id": "sVTPNxOyj4HJ",
        "colab_type": "code",
        "colab": {
          "base_uri": "https://localhost:8080/",
          "height": 36
        },
        "outputId": "8925dc97-1e10-44d1-f015-ed00a71f5a0e"
      },
      "source": [
        "from keras_bert import load_trained_model_from_checkpoint\n",
        "\n",
        "# BERT 透過 Subword 的方式讓辭典長度最大就是 30522\n",
        "token_dict = {}\n",
        "with open(vocab_path, 'r', encoding='utf8') as f:\n",
        "    for line in f.readlines():\n",
        "        token = line.strip()\n",
        "        token_dict[token] = len(token_dict)\n",
        "print(\"辭典長度:\", len(token_dict))\n",
        "\n",
        "\n",
        "model = load_trained_model_from_checkpoint(\n",
        "    config_path,\n",
        "    checkpoint_path,\n",
        "    training=False,\n",
        "    trainable=False,\n",
        "    seq_len=SEQ_LEN,\n",
        ")"
      ],
      "execution_count": null,
      "outputs": [
        {
          "output_type": "stream",
          "text": [
            "辭典長度: 21128\n"
          ],
          "name": "stdout"
        }
      ]
    },
    {
      "cell_type": "code",
      "metadata": {
        "id": "6rePlRX0vYH_",
        "colab_type": "code",
        "colab": {}
      },
      "source": [
        ""
      ],
      "execution_count": null,
      "outputs": []
    },
    {
      "cell_type": "code",
      "metadata": {
        "id": "AYj4FDb-UaSx",
        "colab_type": "code",
        "colab": {}
      },
      "source": [
        "from keras_bert import Tokenizer\n",
        "tokenizer = Tokenizer(token_dict)"
      ],
      "execution_count": null,
      "outputs": []
    },
    {
      "cell_type": "markdown",
      "metadata": {
        "id": "U6L1yEAcweOn",
        "colab_type": "text"
      },
      "source": [
        "# 整理成可跑型態"
      ]
    },
    {
      "cell_type": "code",
      "metadata": {
        "id": "8U8r2wj11Vtj",
        "colab_type": "code",
        "colab": {
          "base_uri": "https://localhost:8080/",
          "height": 1000
        },
        "outputId": "45ee1717-b122-444c-c8ce-9abe863667a5"
      },
      "source": [
        "data.head()"
      ],
      "execution_count": null,
      "outputs": [
        {
          "output_type": "execute_result",
          "data": {
            "text/html": [
              "<div>\n",
              "<style scoped>\n",
              "    .dataframe tbody tr th:only-of-type {\n",
              "        vertical-align: middle;\n",
              "    }\n",
              "\n",
              "    .dataframe tbody tr th {\n",
              "        vertical-align: top;\n",
              "    }\n",
              "\n",
              "    .dataframe thead th {\n",
              "        text-align: right;\n",
              "    }\n",
              "</style>\n",
              "<table border=\"1\" class=\"dataframe\">\n",
              "  <thead>\n",
              "    <tr style=\"text-align: right;\">\n",
              "      <th></th>\n",
              "      <th>time</th>\n",
              "      <th>author</th>\n",
              "      <th>type</th>\n",
              "      <th>title</th>\n",
              "      <th>score</th>\n",
              "      <th>filename</th>\n",
              "      <th>content</th>\n",
              "      <th>seg</th>\n",
              "      <th>stopped_content</th>\n",
              "      <th>EndOfMonth</th>\n",
              "      <th>ym</th>\n",
              "      <th>redemption</th>\n",
              "      <th>delta</th>\n",
              "      <th>signal</th>\n",
              "    </tr>\n",
              "  </thead>\n",
              "  <tbody>\n",
              "    <tr>\n",
              "      <th>0</th>\n",
              "      <td>2018-02-01 22:50:42</td>\n",
              "      <td>ted5566</td>\n",
              "      <td>新聞</td>\n",
              "      <td>台灣央行新掌門人如何走出自己的路？</td>\n",
              "      <td>10</td>\n",
              "      <td>pttdata\\M.1517496645.A.38D.json</td>\n",
              "      <td>\\n1.原文連結：\\n\\nhttps://cn.reuters.com/article/fo...</td>\n",
              "      <td>[\\n, 1, ., 原文, 連結, ：, \\n, \\n, \\n, \\n, \\n, 2, ....</td>\n",
              "      <td>原文連結原文內容台湾央行正式进入后彭时代新掌门走出路路透台北2月1日 - 20年前台灣桃園大...</td>\n",
              "      <td>2018-02-28</td>\n",
              "      <td>2018-02-28</td>\n",
              "      <td>0.120004</td>\n",
              "      <td>0.0</td>\n",
              "      <td>False</td>\n",
              "    </tr>\n",
              "    <tr>\n",
              "      <th>1</th>\n",
              "      <td>2018-02-02 00:12:28</td>\n",
              "      <td>j853540</td>\n",
              "      <td>標的</td>\n",
              "      <td>大亞 空</td>\n",
              "      <td>3</td>\n",
              "      <td>pttdata\\M.1517501551.A.D55.json</td>\n",
              "      <td>\\n\\n\\n\\n1. 標的：大亞\\n\\n2. 分類：空\\n\\n3. 分析/正文：\\n\\n最近...</td>\n",
              "      <td>[\\n, \\n, \\n, \\n, 1, .,  , 標的, ：, 大亞\\n, \\n, 2, ...</td>\n",
              "      <td>標的大亞\\n分類空\\n分析正文最近發現隻一直跌今天開盤小漲尾盤賣壓高繼續跌\\n繼續空\\n進退...</td>\n",
              "      <td>2018-02-28</td>\n",
              "      <td>2018-02-28</td>\n",
              "      <td>0.120004</td>\n",
              "      <td>0.0</td>\n",
              "      <td>False</td>\n",
              "    </tr>\n",
              "    <tr>\n",
              "      <th>2</th>\n",
              "      <td>2018-02-02 08:11:27</td>\n",
              "      <td>milk7054</td>\n",
              "      <td>新聞</td>\n",
              "      <td>蘋果本季營收預測不如預期 iPhone整體需</td>\n",
              "      <td>19</td>\n",
              "      <td>pttdata\\M.1517530291.A.04E.json</td>\n",
              "      <td>\\n-------------------------------發文提醒---------...</td>\n",
              "      <td>[\\n, -------------------------------, 發文, 提醒, ...</td>\n",
              "      <td>-------------------------------發文提醒-----------...</td>\n",
              "      <td>2018-02-28</td>\n",
              "      <td>2018-02-28</td>\n",
              "      <td>0.120004</td>\n",
              "      <td>0.0</td>\n",
              "      <td>False</td>\n",
              "    </tr>\n",
              "    <tr>\n",
              "      <th>3</th>\n",
              "      <td>2018-02-02 08:25:45</td>\n",
              "      <td>kaiming7955</td>\n",
              "      <td>新聞</td>\n",
              "      <td>蘋果營收、盈餘創新高，稱愛瘋X週週奪最</td>\n",
              "      <td>14</td>\n",
              "      <td>pttdata\\M.1517531147.A.7F3.json</td>\n",
              "      <td>\\n\\n蘋果周四於美股盤後公佈前季（10-12月）財報，雖然愛瘋出貨量不如預期，但仍舊是營收...</td>\n",
              "      <td>[\\n, \\n, 蘋果, 周四, 於, 美股, 盤, 後, 公佈, 前, 季, （, 10,...</td>\n",
              "      <td>蘋果周四美股盤公佈前季1012月財報愛瘋出貨量預期營收盈餘破記錄主要貢獻蘋果當季賣出730萬...</td>\n",
              "      <td>2018-02-28</td>\n",
              "      <td>2018-02-28</td>\n",
              "      <td>0.120004</td>\n",
              "      <td>0.0</td>\n",
              "      <td>False</td>\n",
              "    </tr>\n",
              "    <tr>\n",
              "      <th>4</th>\n",
              "      <td>2018-02-02 08:30:04</td>\n",
              "      <td>ESunBoy</td>\n",
              "      <td>閒聊</td>\n",
              "      <td>2018/02/02 盤中閒聊</td>\n",
              "      <td>569</td>\n",
              "      <td>pttdata\\M.1517531406.A.3CD.json</td>\n",
              "      <td>\\nxx老師早料到台股準備封關，\\n2018全面毀滅，\\n你一半我一半，\\n大獲全勝。\\n\\...</td>\n",
              "      <td>[\\n, xx, 老師, 早, 料到, 台股, 準備, 封關, ，, \\n, 2018, 全...</td>\n",
              "      <td>xx老師早料到台股準備封關2018全面毀滅一半一半獲全勝</td>\n",
              "      <td>2018-02-28</td>\n",
              "      <td>2018-02-28</td>\n",
              "      <td>0.120004</td>\n",
              "      <td>0.0</td>\n",
              "      <td>False</td>\n",
              "    </tr>\n",
              "  </tbody>\n",
              "</table>\n",
              "</div>"
            ],
            "text/plain": [
              "                 time       author type  ... redemption  delta signal\n",
              "0 2018-02-01 22:50:42      ted5566   新聞  ...   0.120004    0.0  False\n",
              "1 2018-02-02 00:12:28      j853540   標的  ...   0.120004    0.0  False\n",
              "2 2018-02-02 08:11:27     milk7054   新聞  ...   0.120004    0.0  False\n",
              "3 2018-02-02 08:25:45  kaiming7955   新聞  ...   0.120004    0.0  False\n",
              "4 2018-02-02 08:30:04      ESunBoy   閒聊  ...   0.120004    0.0  False\n",
              "\n",
              "[5 rows x 14 columns]"
            ]
          },
          "metadata": {
            "tags": []
          },
          "execution_count": 56
        }
      ]
    },
    {
      "cell_type": "code",
      "metadata": {
        "id": "0Zkf0rWj07EV",
        "colab_type": "code",
        "colab": {}
      },
      "source": [
        "index_array = data['type']==\"新聞\""
      ],
      "execution_count": null,
      "outputs": []
    },
    {
      "cell_type": "code",
      "metadata": {
        "id": "df24rUzw9h5v",
        "colab_type": "code",
        "colab": {}
      },
      "source": [
        "# index_array = data['type'].apply(lambda x: x not in (['新聞', '標的'])) \n",
        "# X=data[index_array ]['content'].iloc[0:100].apply(lambda x:tokenizer.encode(x, max_len=SEQ_LEN))\n",
        "traindata = data[index_array]\n",
        "indices=[]\n",
        "y=[]\n",
        "for content, label in zip(traindata['stopped_content'],traindata['signal'] ) :\n",
        "  ids, segments = tokenizer.encode(content, max_len=SEQ_LEN)\n",
        "  indices.append(ids)\n",
        "\n",
        "  y.append(label)\n",
        "\n",
        "# Y=data[index_array ]['label'].iloc[0:100]"
      ],
      "execution_count": null,
      "outputs": []
    },
    {
      "cell_type": "code",
      "metadata": {
        "id": "kQsMW85cHHsP",
        "colab_type": "code",
        "colab": {}
      },
      "source": [
        "X = [indices, np.zeros_like(indices)]\n",
        "# X"
      ],
      "execution_count": null,
      "outputs": []
    },
    {
      "cell_type": "code",
      "metadata": {
        "id": "fyfjxEsSCcY2",
        "colab_type": "code",
        "colab": {}
      },
      "source": [
        "import numpy as np\n",
        "Xdata = [a, np.zeros_like(a)]"
      ],
      "execution_count": null,
      "outputs": []
    },
    {
      "cell_type": "code",
      "metadata": {
        "id": "QkSxob3NBsjv",
        "colab_type": "code",
        "colab": {}
      },
      "source": [
        "# en, seg = tokenizer.encode(a[0])\n",
        "# print(\"[Encoding]:\", en)\n",
        "# print(\"[Segement]:\", seg)\n",
        "# de = tokenizer.decode(a[0])\n",
        "# print(\"[Decode]:\", de)"
      ],
      "execution_count": null,
      "outputs": []
    },
    {
      "cell_type": "code",
      "metadata": {
        "id": "rCIDl3Kk3eNy",
        "colab_type": "code",
        "colab": {}
      },
      "source": [
        "# data['stopped_content'][0]"
      ],
      "execution_count": null,
      "outputs": []
    },
    {
      "cell_type": "code",
      "metadata": {
        "id": "aG4ihBnI2AJy",
        "colab_type": "code",
        "colab": {}
      },
      "source": [
        ""
      ],
      "execution_count": null,
      "outputs": []
    },
    {
      "cell_type": "code",
      "metadata": {
        "id": "IPqV7Iq9zxZN",
        "colab_type": "code",
        "colab": {}
      },
      "source": [
        "# # 準備資料流\n",
        "# import glob\n",
        "# from tqdm import tqdm\n",
        "# import numpy as np\n",
        "\n",
        "# def load_data(path):\n",
        "#     global tokenizer\n",
        "#     indices, sentiments = [], []\n",
        "#     for folder, sentiment in (('neg', 0), ('pos', 1)):\n",
        "#         pat = glob.glob(\"{}/{}/*\".format(path, folder))\n",
        "#         for fn in tqdm(iter(pat), total=len(pat)):\n",
        "#             with open(fn, 'r', encoding=\"utf-8\") as f:\n",
        "#                   text = f.read()\n",
        "#             ids, segments = tokenizer.encode(text, max_len=SEQ_LEN)\n",
        "#             indices.append(ids)\n",
        "#             sentiments.append(sentiment)\n",
        "#     items = list(zip(indices, sentiments))\n",
        "#     np.random.shuffle(items)\n",
        "#     indices = np.array([i for i, s in items])\n",
        "#     sentiments = np.array([s for i, s in items])\n",
        "\n",
        "#     return [indices, np.zeros_like(indices)], np.array(sentiments)\n",
        "\n",
        "# # 讀取資料集\n",
        "# train_path = os.path.join(os.path.dirname(dataset), 'aclImdb', 'train')\n",
        "# test_path = os.path.join(os.path.dirname(dataset), 'aclImdb', 'test')\n",
        "\n",
        "# train_x, train_y = load_data(train_path)\n",
        "# test_x, test_y = load_data(test_path)"
      ],
      "execution_count": null,
      "outputs": []
    },
    {
      "cell_type": "code",
      "metadata": {
        "id": "wM42fhCWzxkO",
        "colab_type": "code",
        "colab": {
          "base_uri": "https://localhost:8080/",
          "height": 34
        },
        "outputId": "7485afe8-4c7d-4f12-9353-476166ef3670"
      },
      "source": [
        "x"
      ],
      "execution_count": null,
      "outputs": [
        {
          "output_type": "execute_result",
          "data": {
            "text/plain": [
              "<tf.Tensor 'simple_rnn_1/strided_slice_2:0' shape=(None, 64) dtype=float32>"
            ]
          },
          "metadata": {
            "tags": []
          },
          "execution_count": 67
        }
      ]
    },
    {
      "cell_type": "markdown",
      "metadata": {
        "id": "PxbNGi5jzrs0",
        "colab_type": "text"
      },
      "source": [
        "# 跑模型"
      ]
    },
    {
      "cell_type": "code",
      "metadata": {
        "id": "OhMA1j7wnqSm",
        "colab_type": "code",
        "colab": {
          "base_uri": "https://localhost:8080/",
          "height": 408
        },
        "outputId": "95e7aeb4-70f2-4d3e-8f67-abdce266d196"
      },
      "source": [
        "import keras\n",
        "from keras.layers import SimpleRNN\n",
        "inputs = model.inputs[:2]\n",
        "x = SimpleRNN(64)(model.output)\n",
        "outputs = keras.layers.Dense(units=2, activation='softmax')(x)\n",
        "model = keras.models.Model(inputs, outputs)\n",
        "model.compile(\n",
        "    loss='sparse_categorical_crossentropy',\n",
        "    optimizer=\"adam\",\n",
        "    metrics=['sparse_categorical_accuracy']\n",
        ")"
      ],
      "execution_count": null,
      "outputs": [
        {
          "output_type": "error",
          "ename": "ValueError",
          "evalue": "ignored",
          "traceback": [
            "\u001b[0;31m---------------------------------------------------------------------------\u001b[0m",
            "\u001b[0;31mValueError\u001b[0m                                Traceback (most recent call last)",
            "\u001b[0;32m<ipython-input-74-b9148b1b6c75>\u001b[0m in \u001b[0;36m<module>\u001b[0;34m()\u001b[0m\n\u001b[1;32m      2\u001b[0m \u001b[0;32mfrom\u001b[0m \u001b[0mkeras\u001b[0m\u001b[0;34m.\u001b[0m\u001b[0mlayers\u001b[0m \u001b[0;32mimport\u001b[0m \u001b[0mSimpleRNN\u001b[0m\u001b[0;34m\u001b[0m\u001b[0;34m\u001b[0m\u001b[0m\n\u001b[1;32m      3\u001b[0m \u001b[0minputs\u001b[0m \u001b[0;34m=\u001b[0m \u001b[0mmodel\u001b[0m\u001b[0;34m.\u001b[0m\u001b[0minputs\u001b[0m\u001b[0;34m[\u001b[0m\u001b[0;34m:\u001b[0m\u001b[0;36m2\u001b[0m\u001b[0;34m]\u001b[0m\u001b[0;34m\u001b[0m\u001b[0;34m\u001b[0m\u001b[0m\n\u001b[0;32m----> 4\u001b[0;31m \u001b[0mx\u001b[0m \u001b[0;34m=\u001b[0m \u001b[0mSimpleRNN\u001b[0m\u001b[0;34m(\u001b[0m\u001b[0;36m64\u001b[0m\u001b[0;34m)\u001b[0m\u001b[0;34m(\u001b[0m\u001b[0mmodel\u001b[0m\u001b[0;34m.\u001b[0m\u001b[0moutput\u001b[0m\u001b[0;34m)\u001b[0m\u001b[0;34m\u001b[0m\u001b[0;34m\u001b[0m\u001b[0m\n\u001b[0m\u001b[1;32m      5\u001b[0m \u001b[0moutputs\u001b[0m \u001b[0;34m=\u001b[0m \u001b[0mkeras\u001b[0m\u001b[0;34m.\u001b[0m\u001b[0mlayers\u001b[0m\u001b[0;34m.\u001b[0m\u001b[0mDense\u001b[0m\u001b[0;34m(\u001b[0m\u001b[0munits\u001b[0m\u001b[0;34m=\u001b[0m\u001b[0;36m2\u001b[0m\u001b[0;34m,\u001b[0m \u001b[0mactivation\u001b[0m\u001b[0;34m=\u001b[0m\u001b[0;34m'softmax'\u001b[0m\u001b[0;34m)\u001b[0m\u001b[0;34m(\u001b[0m\u001b[0mx\u001b[0m\u001b[0;34m)\u001b[0m\u001b[0;34m\u001b[0m\u001b[0;34m\u001b[0m\u001b[0m\n\u001b[1;32m      6\u001b[0m \u001b[0mmodel\u001b[0m \u001b[0;34m=\u001b[0m \u001b[0mkeras\u001b[0m\u001b[0;34m.\u001b[0m\u001b[0mmodels\u001b[0m\u001b[0;34m.\u001b[0m\u001b[0mModel\u001b[0m\u001b[0;34m(\u001b[0m\u001b[0minputs\u001b[0m\u001b[0;34m,\u001b[0m \u001b[0moutputs\u001b[0m\u001b[0;34m)\u001b[0m\u001b[0;34m\u001b[0m\u001b[0;34m\u001b[0m\u001b[0m\n",
            "\u001b[0;32m/usr/local/lib/python3.6/dist-packages/keras/layers/recurrent.py\u001b[0m in \u001b[0;36m__call__\u001b[0;34m(self, inputs, initial_state, constants, **kwargs)\u001b[0m\n\u001b[1;32m    539\u001b[0m \u001b[0;34m\u001b[0m\u001b[0m\n\u001b[1;32m    540\u001b[0m         \u001b[0;32mif\u001b[0m \u001b[0minitial_state\u001b[0m \u001b[0;32mis\u001b[0m \u001b[0;32mNone\u001b[0m \u001b[0;32mand\u001b[0m \u001b[0mconstants\u001b[0m \u001b[0;32mis\u001b[0m \u001b[0;32mNone\u001b[0m\u001b[0;34m:\u001b[0m\u001b[0;34m\u001b[0m\u001b[0;34m\u001b[0m\u001b[0m\n\u001b[0;32m--> 541\u001b[0;31m             \u001b[0;32mreturn\u001b[0m \u001b[0msuper\u001b[0m\u001b[0;34m(\u001b[0m\u001b[0mRNN\u001b[0m\u001b[0;34m,\u001b[0m \u001b[0mself\u001b[0m\u001b[0;34m)\u001b[0m\u001b[0;34m.\u001b[0m\u001b[0m__call__\u001b[0m\u001b[0;34m(\u001b[0m\u001b[0minputs\u001b[0m\u001b[0;34m,\u001b[0m \u001b[0;34m**\u001b[0m\u001b[0mkwargs\u001b[0m\u001b[0;34m)\u001b[0m\u001b[0;34m\u001b[0m\u001b[0;34m\u001b[0m\u001b[0m\n\u001b[0m\u001b[1;32m    542\u001b[0m \u001b[0;34m\u001b[0m\u001b[0m\n\u001b[1;32m    543\u001b[0m         \u001b[0;31m# If any of `initial_state` or `constants` are specified and are Keras\u001b[0m\u001b[0;34m\u001b[0m\u001b[0;34m\u001b[0m\u001b[0;34m\u001b[0m\u001b[0m\n",
            "\u001b[0;32m/usr/local/lib/python3.6/dist-packages/keras/backend/tensorflow_backend.py\u001b[0m in \u001b[0;36msymbolic_fn_wrapper\u001b[0;34m(*args, **kwargs)\u001b[0m\n\u001b[1;32m     73\u001b[0m         \u001b[0;32mif\u001b[0m \u001b[0m_SYMBOLIC_SCOPE\u001b[0m\u001b[0;34m.\u001b[0m\u001b[0mvalue\u001b[0m\u001b[0;34m:\u001b[0m\u001b[0;34m\u001b[0m\u001b[0;34m\u001b[0m\u001b[0m\n\u001b[1;32m     74\u001b[0m             \u001b[0;32mwith\u001b[0m \u001b[0mget_graph\u001b[0m\u001b[0;34m(\u001b[0m\u001b[0;34m)\u001b[0m\u001b[0;34m.\u001b[0m\u001b[0mas_default\u001b[0m\u001b[0;34m(\u001b[0m\u001b[0;34m)\u001b[0m\u001b[0;34m:\u001b[0m\u001b[0;34m\u001b[0m\u001b[0;34m\u001b[0m\u001b[0m\n\u001b[0;32m---> 75\u001b[0;31m                 \u001b[0;32mreturn\u001b[0m \u001b[0mfunc\u001b[0m\u001b[0;34m(\u001b[0m\u001b[0;34m*\u001b[0m\u001b[0margs\u001b[0m\u001b[0;34m,\u001b[0m \u001b[0;34m**\u001b[0m\u001b[0mkwargs\u001b[0m\u001b[0;34m)\u001b[0m\u001b[0;34m\u001b[0m\u001b[0;34m\u001b[0m\u001b[0m\n\u001b[0m\u001b[1;32m     76\u001b[0m         \u001b[0;32melse\u001b[0m\u001b[0;34m:\u001b[0m\u001b[0;34m\u001b[0m\u001b[0;34m\u001b[0m\u001b[0m\n\u001b[1;32m     77\u001b[0m             \u001b[0;32mreturn\u001b[0m \u001b[0mfunc\u001b[0m\u001b[0;34m(\u001b[0m\u001b[0;34m*\u001b[0m\u001b[0margs\u001b[0m\u001b[0;34m,\u001b[0m \u001b[0;34m**\u001b[0m\u001b[0mkwargs\u001b[0m\u001b[0;34m)\u001b[0m\u001b[0;34m\u001b[0m\u001b[0;34m\u001b[0m\u001b[0m\n",
            "\u001b[0;32m/usr/local/lib/python3.6/dist-packages/keras/engine/base_layer.py\u001b[0m in \u001b[0;36m__call__\u001b[0;34m(self, inputs, **kwargs)\u001b[0m\n\u001b[1;32m    444\u001b[0m                 \u001b[0;31m# Raise exceptions in case the input is not compatible\u001b[0m\u001b[0;34m\u001b[0m\u001b[0;34m\u001b[0m\u001b[0;34m\u001b[0m\u001b[0m\n\u001b[1;32m    445\u001b[0m                 \u001b[0;31m# with the input_spec specified in the layer constructor.\u001b[0m\u001b[0;34m\u001b[0m\u001b[0;34m\u001b[0m\u001b[0;34m\u001b[0m\u001b[0m\n\u001b[0;32m--> 446\u001b[0;31m                 \u001b[0mself\u001b[0m\u001b[0;34m.\u001b[0m\u001b[0massert_input_compatibility\u001b[0m\u001b[0;34m(\u001b[0m\u001b[0minputs\u001b[0m\u001b[0;34m)\u001b[0m\u001b[0;34m\u001b[0m\u001b[0;34m\u001b[0m\u001b[0m\n\u001b[0m\u001b[1;32m    447\u001b[0m \u001b[0;34m\u001b[0m\u001b[0m\n\u001b[1;32m    448\u001b[0m                 \u001b[0;31m# Collect input shapes to build layer.\u001b[0m\u001b[0;34m\u001b[0m\u001b[0;34m\u001b[0m\u001b[0;34m\u001b[0m\u001b[0m\n",
            "\u001b[0;32m/usr/local/lib/python3.6/dist-packages/keras/engine/base_layer.py\u001b[0m in \u001b[0;36massert_input_compatibility\u001b[0;34m(self, inputs)\u001b[0m\n\u001b[1;32m    340\u001b[0m                                      \u001b[0mself\u001b[0m\u001b[0;34m.\u001b[0m\u001b[0mname\u001b[0m \u001b[0;34m+\u001b[0m \u001b[0;34m': expected ndim='\u001b[0m \u001b[0;34m+\u001b[0m\u001b[0;34m\u001b[0m\u001b[0;34m\u001b[0m\u001b[0m\n\u001b[1;32m    341\u001b[0m                                      \u001b[0mstr\u001b[0m\u001b[0;34m(\u001b[0m\u001b[0mspec\u001b[0m\u001b[0;34m.\u001b[0m\u001b[0mndim\u001b[0m\u001b[0;34m)\u001b[0m \u001b[0;34m+\u001b[0m \u001b[0;34m', found ndim='\u001b[0m \u001b[0;34m+\u001b[0m\u001b[0;34m\u001b[0m\u001b[0;34m\u001b[0m\u001b[0m\n\u001b[0;32m--> 342\u001b[0;31m                                      str(K.ndim(x)))\n\u001b[0m\u001b[1;32m    343\u001b[0m             \u001b[0;32mif\u001b[0m \u001b[0mspec\u001b[0m\u001b[0;34m.\u001b[0m\u001b[0mmax_ndim\u001b[0m \u001b[0;32mis\u001b[0m \u001b[0;32mnot\u001b[0m \u001b[0;32mNone\u001b[0m\u001b[0;34m:\u001b[0m\u001b[0;34m\u001b[0m\u001b[0;34m\u001b[0m\u001b[0m\n\u001b[1;32m    344\u001b[0m                 \u001b[0mndim\u001b[0m \u001b[0;34m=\u001b[0m \u001b[0mK\u001b[0m\u001b[0;34m.\u001b[0m\u001b[0mndim\u001b[0m\u001b[0;34m(\u001b[0m\u001b[0mx\u001b[0m\u001b[0;34m)\u001b[0m\u001b[0;34m\u001b[0m\u001b[0;34m\u001b[0m\u001b[0m\n",
            "\u001b[0;31mValueError\u001b[0m: Input 0 is incompatible with layer simple_rnn_3: expected ndim=3, found ndim=2"
          ]
        }
      ]
    },
    {
      "cell_type": "code",
      "metadata": {
        "id": "4mwTkptHNYr3",
        "colab_type": "code",
        "colab": {
          "base_uri": "https://localhost:8080/",
          "height": 1000
        },
        "outputId": "df63df51-74bc-4bf6-d305-d497ee75dbe0"
      },
      "source": [
        "model.summary()"
      ],
      "execution_count": null,
      "outputs": [
        {
          "output_type": "stream",
          "text": [
            "Model: \"model_5\"\n",
            "__________________________________________________________________________________________________\n",
            "Layer (type)                    Output Shape         Param #     Connected to                     \n",
            "==================================================================================================\n",
            "Input-Token (InputLayer)        (None, 512)          0                                            \n",
            "__________________________________________________________________________________________________\n",
            "Input-Segment (InputLayer)      (None, 512)          0                                            \n",
            "__________________________________________________________________________________________________\n",
            "Embedding-Token (TokenEmbedding [(None, 512, 768), ( 16226304    Input-Token[0][0]                \n",
            "__________________________________________________________________________________________________\n",
            "Embedding-Segment (Embedding)   (None, 512, 768)     1536        Input-Segment[0][0]              \n",
            "__________________________________________________________________________________________________\n",
            "Embedding-Token-Segment (Add)   (None, 512, 768)     0           Embedding-Token[0][0]            \n",
            "                                                                 Embedding-Segment[0][0]          \n",
            "__________________________________________________________________________________________________\n",
            "Embedding-Position (PositionEmb (None, 512, 768)     393216      Embedding-Token-Segment[0][0]    \n",
            "__________________________________________________________________________________________________\n",
            "Embedding-Dropout (Dropout)     (None, 512, 768)     0           Embedding-Position[0][0]         \n",
            "__________________________________________________________________________________________________\n",
            "Embedding-Norm (LayerNormalizat (None, 512, 768)     1536        Embedding-Dropout[0][0]          \n",
            "__________________________________________________________________________________________________\n",
            "Encoder-1-MultiHeadSelfAttentio (None, 512, 768)     2362368     Embedding-Norm[0][0]             \n",
            "__________________________________________________________________________________________________\n",
            "Encoder-1-MultiHeadSelfAttentio (None, 512, 768)     0           Encoder-1-MultiHeadSelfAttention[\n",
            "__________________________________________________________________________________________________\n",
            "Encoder-1-MultiHeadSelfAttentio (None, 512, 768)     0           Embedding-Norm[0][0]             \n",
            "                                                                 Encoder-1-MultiHeadSelfAttention-\n",
            "__________________________________________________________________________________________________\n",
            "Encoder-1-MultiHeadSelfAttentio (None, 512, 768)     1536        Encoder-1-MultiHeadSelfAttention-\n",
            "__________________________________________________________________________________________________\n",
            "Encoder-1-FeedForward (FeedForw (None, 512, 768)     4722432     Encoder-1-MultiHeadSelfAttention-\n",
            "__________________________________________________________________________________________________\n",
            "Encoder-1-FeedForward-Dropout ( (None, 512, 768)     0           Encoder-1-FeedForward[0][0]      \n",
            "__________________________________________________________________________________________________\n",
            "Encoder-1-FeedForward-Add (Add) (None, 512, 768)     0           Encoder-1-MultiHeadSelfAttention-\n",
            "                                                                 Encoder-1-FeedForward-Dropout[0][\n",
            "__________________________________________________________________________________________________\n",
            "Encoder-1-FeedForward-Norm (Lay (None, 512, 768)     1536        Encoder-1-FeedForward-Add[0][0]  \n",
            "__________________________________________________________________________________________________\n",
            "Encoder-2-MultiHeadSelfAttentio (None, 512, 768)     2362368     Encoder-1-FeedForward-Norm[0][0] \n",
            "__________________________________________________________________________________________________\n",
            "Encoder-2-MultiHeadSelfAttentio (None, 512, 768)     0           Encoder-2-MultiHeadSelfAttention[\n",
            "__________________________________________________________________________________________________\n",
            "Encoder-2-MultiHeadSelfAttentio (None, 512, 768)     0           Encoder-1-FeedForward-Norm[0][0] \n",
            "                                                                 Encoder-2-MultiHeadSelfAttention-\n",
            "__________________________________________________________________________________________________\n",
            "Encoder-2-MultiHeadSelfAttentio (None, 512, 768)     1536        Encoder-2-MultiHeadSelfAttention-\n",
            "__________________________________________________________________________________________________\n",
            "Encoder-2-FeedForward (FeedForw (None, 512, 768)     4722432     Encoder-2-MultiHeadSelfAttention-\n",
            "__________________________________________________________________________________________________\n",
            "Encoder-2-FeedForward-Dropout ( (None, 512, 768)     0           Encoder-2-FeedForward[0][0]      \n",
            "__________________________________________________________________________________________________\n",
            "Encoder-2-FeedForward-Add (Add) (None, 512, 768)     0           Encoder-2-MultiHeadSelfAttention-\n",
            "                                                                 Encoder-2-FeedForward-Dropout[0][\n",
            "__________________________________________________________________________________________________\n",
            "Encoder-2-FeedForward-Norm (Lay (None, 512, 768)     1536        Encoder-2-FeedForward-Add[0][0]  \n",
            "__________________________________________________________________________________________________\n",
            "Encoder-3-MultiHeadSelfAttentio (None, 512, 768)     2362368     Encoder-2-FeedForward-Norm[0][0] \n",
            "__________________________________________________________________________________________________\n",
            "Encoder-3-MultiHeadSelfAttentio (None, 512, 768)     0           Encoder-3-MultiHeadSelfAttention[\n",
            "__________________________________________________________________________________________________\n",
            "Encoder-3-MultiHeadSelfAttentio (None, 512, 768)     0           Encoder-2-FeedForward-Norm[0][0] \n",
            "                                                                 Encoder-3-MultiHeadSelfAttention-\n",
            "__________________________________________________________________________________________________\n",
            "Encoder-3-MultiHeadSelfAttentio (None, 512, 768)     1536        Encoder-3-MultiHeadSelfAttention-\n",
            "__________________________________________________________________________________________________\n",
            "Encoder-3-FeedForward (FeedForw (None, 512, 768)     4722432     Encoder-3-MultiHeadSelfAttention-\n",
            "__________________________________________________________________________________________________\n",
            "Encoder-3-FeedForward-Dropout ( (None, 512, 768)     0           Encoder-3-FeedForward[0][0]      \n",
            "__________________________________________________________________________________________________\n",
            "Encoder-3-FeedForward-Add (Add) (None, 512, 768)     0           Encoder-3-MultiHeadSelfAttention-\n",
            "                                                                 Encoder-3-FeedForward-Dropout[0][\n",
            "__________________________________________________________________________________________________\n",
            "Encoder-3-FeedForward-Norm (Lay (None, 512, 768)     1536        Encoder-3-FeedForward-Add[0][0]  \n",
            "__________________________________________________________________________________________________\n",
            "Encoder-4-MultiHeadSelfAttentio (None, 512, 768)     2362368     Encoder-3-FeedForward-Norm[0][0] \n",
            "__________________________________________________________________________________________________\n",
            "Encoder-4-MultiHeadSelfAttentio (None, 512, 768)     0           Encoder-4-MultiHeadSelfAttention[\n",
            "__________________________________________________________________________________________________\n",
            "Encoder-4-MultiHeadSelfAttentio (None, 512, 768)     0           Encoder-3-FeedForward-Norm[0][0] \n",
            "                                                                 Encoder-4-MultiHeadSelfAttention-\n",
            "__________________________________________________________________________________________________\n",
            "Encoder-4-MultiHeadSelfAttentio (None, 512, 768)     1536        Encoder-4-MultiHeadSelfAttention-\n",
            "__________________________________________________________________________________________________\n",
            "Encoder-4-FeedForward (FeedForw (None, 512, 768)     4722432     Encoder-4-MultiHeadSelfAttention-\n",
            "__________________________________________________________________________________________________\n",
            "Encoder-4-FeedForward-Dropout ( (None, 512, 768)     0           Encoder-4-FeedForward[0][0]      \n",
            "__________________________________________________________________________________________________\n",
            "Encoder-4-FeedForward-Add (Add) (None, 512, 768)     0           Encoder-4-MultiHeadSelfAttention-\n",
            "                                                                 Encoder-4-FeedForward-Dropout[0][\n",
            "__________________________________________________________________________________________________\n",
            "Encoder-4-FeedForward-Norm (Lay (None, 512, 768)     1536        Encoder-4-FeedForward-Add[0][0]  \n",
            "__________________________________________________________________________________________________\n",
            "Encoder-5-MultiHeadSelfAttentio (None, 512, 768)     2362368     Encoder-4-FeedForward-Norm[0][0] \n",
            "__________________________________________________________________________________________________\n",
            "Encoder-5-MultiHeadSelfAttentio (None, 512, 768)     0           Encoder-5-MultiHeadSelfAttention[\n",
            "__________________________________________________________________________________________________\n",
            "Encoder-5-MultiHeadSelfAttentio (None, 512, 768)     0           Encoder-4-FeedForward-Norm[0][0] \n",
            "                                                                 Encoder-5-MultiHeadSelfAttention-\n",
            "__________________________________________________________________________________________________\n",
            "Encoder-5-MultiHeadSelfAttentio (None, 512, 768)     1536        Encoder-5-MultiHeadSelfAttention-\n",
            "__________________________________________________________________________________________________\n",
            "Encoder-5-FeedForward (FeedForw (None, 512, 768)     4722432     Encoder-5-MultiHeadSelfAttention-\n",
            "__________________________________________________________________________________________________\n",
            "Encoder-5-FeedForward-Dropout ( (None, 512, 768)     0           Encoder-5-FeedForward[0][0]      \n",
            "__________________________________________________________________________________________________\n",
            "Encoder-5-FeedForward-Add (Add) (None, 512, 768)     0           Encoder-5-MultiHeadSelfAttention-\n",
            "                                                                 Encoder-5-FeedForward-Dropout[0][\n",
            "__________________________________________________________________________________________________\n",
            "Encoder-5-FeedForward-Norm (Lay (None, 512, 768)     1536        Encoder-5-FeedForward-Add[0][0]  \n",
            "__________________________________________________________________________________________________\n",
            "Encoder-6-MultiHeadSelfAttentio (None, 512, 768)     2362368     Encoder-5-FeedForward-Norm[0][0] \n",
            "__________________________________________________________________________________________________\n",
            "Encoder-6-MultiHeadSelfAttentio (None, 512, 768)     0           Encoder-6-MultiHeadSelfAttention[\n",
            "__________________________________________________________________________________________________\n",
            "Encoder-6-MultiHeadSelfAttentio (None, 512, 768)     0           Encoder-5-FeedForward-Norm[0][0] \n",
            "                                                                 Encoder-6-MultiHeadSelfAttention-\n",
            "__________________________________________________________________________________________________\n",
            "Encoder-6-MultiHeadSelfAttentio (None, 512, 768)     1536        Encoder-6-MultiHeadSelfAttention-\n",
            "__________________________________________________________________________________________________\n",
            "Encoder-6-FeedForward (FeedForw (None, 512, 768)     4722432     Encoder-6-MultiHeadSelfAttention-\n",
            "__________________________________________________________________________________________________\n",
            "Encoder-6-FeedForward-Dropout ( (None, 512, 768)     0           Encoder-6-FeedForward[0][0]      \n",
            "__________________________________________________________________________________________________\n",
            "Encoder-6-FeedForward-Add (Add) (None, 512, 768)     0           Encoder-6-MultiHeadSelfAttention-\n",
            "                                                                 Encoder-6-FeedForward-Dropout[0][\n",
            "__________________________________________________________________________________________________\n",
            "Encoder-6-FeedForward-Norm (Lay (None, 512, 768)     1536        Encoder-6-FeedForward-Add[0][0]  \n",
            "__________________________________________________________________________________________________\n",
            "Encoder-7-MultiHeadSelfAttentio (None, 512, 768)     2362368     Encoder-6-FeedForward-Norm[0][0] \n",
            "__________________________________________________________________________________________________\n",
            "Encoder-7-MultiHeadSelfAttentio (None, 512, 768)     0           Encoder-7-MultiHeadSelfAttention[\n",
            "__________________________________________________________________________________________________\n",
            "Encoder-7-MultiHeadSelfAttentio (None, 512, 768)     0           Encoder-6-FeedForward-Norm[0][0] \n",
            "                                                                 Encoder-7-MultiHeadSelfAttention-\n",
            "__________________________________________________________________________________________________\n",
            "Encoder-7-MultiHeadSelfAttentio (None, 512, 768)     1536        Encoder-7-MultiHeadSelfAttention-\n",
            "__________________________________________________________________________________________________\n",
            "Encoder-7-FeedForward (FeedForw (None, 512, 768)     4722432     Encoder-7-MultiHeadSelfAttention-\n",
            "__________________________________________________________________________________________________\n",
            "Encoder-7-FeedForward-Dropout ( (None, 512, 768)     0           Encoder-7-FeedForward[0][0]      \n",
            "__________________________________________________________________________________________________\n",
            "Encoder-7-FeedForward-Add (Add) (None, 512, 768)     0           Encoder-7-MultiHeadSelfAttention-\n",
            "                                                                 Encoder-7-FeedForward-Dropout[0][\n",
            "__________________________________________________________________________________________________\n",
            "Encoder-7-FeedForward-Norm (Lay (None, 512, 768)     1536        Encoder-7-FeedForward-Add[0][0]  \n",
            "__________________________________________________________________________________________________\n",
            "Encoder-8-MultiHeadSelfAttentio (None, 512, 768)     2362368     Encoder-7-FeedForward-Norm[0][0] \n",
            "__________________________________________________________________________________________________\n",
            "Encoder-8-MultiHeadSelfAttentio (None, 512, 768)     0           Encoder-8-MultiHeadSelfAttention[\n",
            "__________________________________________________________________________________________________\n",
            "Encoder-8-MultiHeadSelfAttentio (None, 512, 768)     0           Encoder-7-FeedForward-Norm[0][0] \n",
            "                                                                 Encoder-8-MultiHeadSelfAttention-\n",
            "__________________________________________________________________________________________________\n",
            "Encoder-8-MultiHeadSelfAttentio (None, 512, 768)     1536        Encoder-8-MultiHeadSelfAttention-\n",
            "__________________________________________________________________________________________________\n",
            "Encoder-8-FeedForward (FeedForw (None, 512, 768)     4722432     Encoder-8-MultiHeadSelfAttention-\n",
            "__________________________________________________________________________________________________\n",
            "Encoder-8-FeedForward-Dropout ( (None, 512, 768)     0           Encoder-8-FeedForward[0][0]      \n",
            "__________________________________________________________________________________________________\n",
            "Encoder-8-FeedForward-Add (Add) (None, 512, 768)     0           Encoder-8-MultiHeadSelfAttention-\n",
            "                                                                 Encoder-8-FeedForward-Dropout[0][\n",
            "__________________________________________________________________________________________________\n",
            "Encoder-8-FeedForward-Norm (Lay (None, 512, 768)     1536        Encoder-8-FeedForward-Add[0][0]  \n",
            "__________________________________________________________________________________________________\n",
            "Encoder-9-MultiHeadSelfAttentio (None, 512, 768)     2362368     Encoder-8-FeedForward-Norm[0][0] \n",
            "__________________________________________________________________________________________________\n",
            "Encoder-9-MultiHeadSelfAttentio (None, 512, 768)     0           Encoder-9-MultiHeadSelfAttention[\n",
            "__________________________________________________________________________________________________\n",
            "Encoder-9-MultiHeadSelfAttentio (None, 512, 768)     0           Encoder-8-FeedForward-Norm[0][0] \n",
            "                                                                 Encoder-9-MultiHeadSelfAttention-\n",
            "__________________________________________________________________________________________________\n",
            "Encoder-9-MultiHeadSelfAttentio (None, 512, 768)     1536        Encoder-9-MultiHeadSelfAttention-\n",
            "__________________________________________________________________________________________________\n",
            "Encoder-9-FeedForward (FeedForw (None, 512, 768)     4722432     Encoder-9-MultiHeadSelfAttention-\n",
            "__________________________________________________________________________________________________\n",
            "Encoder-9-FeedForward-Dropout ( (None, 512, 768)     0           Encoder-9-FeedForward[0][0]      \n",
            "__________________________________________________________________________________________________\n",
            "Encoder-9-FeedForward-Add (Add) (None, 512, 768)     0           Encoder-9-MultiHeadSelfAttention-\n",
            "                                                                 Encoder-9-FeedForward-Dropout[0][\n",
            "__________________________________________________________________________________________________\n",
            "Encoder-9-FeedForward-Norm (Lay (None, 512, 768)     1536        Encoder-9-FeedForward-Add[0][0]  \n",
            "__________________________________________________________________________________________________\n",
            "Encoder-10-MultiHeadSelfAttenti (None, 512, 768)     2362368     Encoder-9-FeedForward-Norm[0][0] \n",
            "__________________________________________________________________________________________________\n",
            "Encoder-10-MultiHeadSelfAttenti (None, 512, 768)     0           Encoder-10-MultiHeadSelfAttention\n",
            "__________________________________________________________________________________________________\n",
            "Encoder-10-MultiHeadSelfAttenti (None, 512, 768)     0           Encoder-9-FeedForward-Norm[0][0] \n",
            "                                                                 Encoder-10-MultiHeadSelfAttention\n",
            "__________________________________________________________________________________________________\n",
            "Encoder-10-MultiHeadSelfAttenti (None, 512, 768)     1536        Encoder-10-MultiHeadSelfAttention\n",
            "__________________________________________________________________________________________________\n",
            "Encoder-10-FeedForward (FeedFor (None, 512, 768)     4722432     Encoder-10-MultiHeadSelfAttention\n",
            "__________________________________________________________________________________________________\n",
            "Encoder-10-FeedForward-Dropout  (None, 512, 768)     0           Encoder-10-FeedForward[0][0]     \n",
            "__________________________________________________________________________________________________\n",
            "Encoder-10-FeedForward-Add (Add (None, 512, 768)     0           Encoder-10-MultiHeadSelfAttention\n",
            "                                                                 Encoder-10-FeedForward-Dropout[0]\n",
            "__________________________________________________________________________________________________\n",
            "Encoder-10-FeedForward-Norm (La (None, 512, 768)     1536        Encoder-10-FeedForward-Add[0][0] \n",
            "__________________________________________________________________________________________________\n",
            "Encoder-11-MultiHeadSelfAttenti (None, 512, 768)     2362368     Encoder-10-FeedForward-Norm[0][0]\n",
            "__________________________________________________________________________________________________\n",
            "Encoder-11-MultiHeadSelfAttenti (None, 512, 768)     0           Encoder-11-MultiHeadSelfAttention\n",
            "__________________________________________________________________________________________________\n",
            "Encoder-11-MultiHeadSelfAttenti (None, 512, 768)     0           Encoder-10-FeedForward-Norm[0][0]\n",
            "                                                                 Encoder-11-MultiHeadSelfAttention\n",
            "__________________________________________________________________________________________________\n",
            "Encoder-11-MultiHeadSelfAttenti (None, 512, 768)     1536        Encoder-11-MultiHeadSelfAttention\n",
            "__________________________________________________________________________________________________\n",
            "Encoder-11-FeedForward (FeedFor (None, 512, 768)     4722432     Encoder-11-MultiHeadSelfAttention\n",
            "__________________________________________________________________________________________________\n",
            "Encoder-11-FeedForward-Dropout  (None, 512, 768)     0           Encoder-11-FeedForward[0][0]     \n",
            "__________________________________________________________________________________________________\n",
            "Encoder-11-FeedForward-Add (Add (None, 512, 768)     0           Encoder-11-MultiHeadSelfAttention\n",
            "                                                                 Encoder-11-FeedForward-Dropout[0]\n",
            "__________________________________________________________________________________________________\n",
            "Encoder-11-FeedForward-Norm (La (None, 512, 768)     1536        Encoder-11-FeedForward-Add[0][0] \n",
            "__________________________________________________________________________________________________\n",
            "Encoder-12-MultiHeadSelfAttenti (None, 512, 768)     2362368     Encoder-11-FeedForward-Norm[0][0]\n",
            "__________________________________________________________________________________________________\n",
            "Encoder-12-MultiHeadSelfAttenti (None, 512, 768)     0           Encoder-12-MultiHeadSelfAttention\n",
            "__________________________________________________________________________________________________\n",
            "Encoder-12-MultiHeadSelfAttenti (None, 512, 768)     0           Encoder-11-FeedForward-Norm[0][0]\n",
            "                                                                 Encoder-12-MultiHeadSelfAttention\n",
            "__________________________________________________________________________________________________\n",
            "Encoder-12-MultiHeadSelfAttenti (None, 512, 768)     1536        Encoder-12-MultiHeadSelfAttention\n",
            "__________________________________________________________________________________________________\n",
            "Encoder-12-FeedForward (FeedFor (None, 512, 768)     4722432     Encoder-12-MultiHeadSelfAttention\n",
            "__________________________________________________________________________________________________\n",
            "Encoder-12-FeedForward-Dropout  (None, 512, 768)     0           Encoder-12-FeedForward[0][0]     \n",
            "__________________________________________________________________________________________________\n",
            "Encoder-12-FeedForward-Add (Add (None, 512, 768)     0           Encoder-12-MultiHeadSelfAttention\n",
            "                                                                 Encoder-12-FeedForward-Dropout[0]\n",
            "__________________________________________________________________________________________________\n",
            "Encoder-12-FeedForward-Norm (La (None, 512, 768)     1536        Encoder-12-FeedForward-Add[0][0] \n",
            "__________________________________________________________________________________________________\n",
            "simple_rnn_1 (SimpleRNN)        (None, 64)           53312       Encoder-12-FeedForward-Norm[0][0]\n",
            "__________________________________________________________________________________________________\n",
            "dense_1 (Dense)                 (None, 2)            130         simple_rnn_1[0][0]               \n",
            "==================================================================================================\n",
            "Total params: 101,730,498\n",
            "Trainable params: 53,442\n",
            "Non-trainable params: 101,677,056\n",
            "__________________________________________________________________________________________________\n"
          ],
          "name": "stdout"
        }
      ]
    },
    {
      "cell_type": "code",
      "metadata": {
        "id": "QgP7bCQxrZpQ",
        "colab_type": "code",
        "colab": {
          "base_uri": "https://localhost:8080/",
          "height": 578
        },
        "outputId": "5264f3b1-dd08-49b8-8c0f-d51afe8b0dd3"
      },
      "source": [
        "model.fit(\n",
        "    X,\n",
        "    y,\n",
        "    epochs=EPOCHS,\n",
        "    batch_size=BATCH_SIZE,\n",
        "    validation_split=0.2\n",
        ")"
      ],
      "execution_count": null,
      "outputs": [
        {
          "output_type": "stream",
          "text": [
            "Train on 14306 samples, validate on 3577 samples\n",
            "Epoch 1/5\n",
            "14306/14306 [==============================] - 1735s 121ms/step - loss: 0.6964 - sparse_categorical_accuracy: 0.5139 - val_loss: 0.7155 - val_sparse_categorical_accuracy: 0.4129\n",
            "Epoch 2/5\n",
            "14306/14306 [==============================] - 1733s 121ms/step - loss: 0.6900 - sparse_categorical_accuracy: 0.5321 - val_loss: 0.6451 - val_sparse_categorical_accuracy: 0.7137\n",
            "Epoch 3/5\n",
            "14306/14306 [==============================] - 1735s 121ms/step - loss: 0.6828 - sparse_categorical_accuracy: 0.5527 - val_loss: 0.6693 - val_sparse_categorical_accuracy: 0.6153\n",
            "Epoch 4/5\n",
            "  384/14306 [..............................] - ETA: 23:21 - loss: 0.6730 - sparse_categorical_accuracy: 0.5990"
          ],
          "name": "stdout"
        },
        {
          "output_type": "error",
          "ename": "KeyboardInterrupt",
          "evalue": "ignored",
          "traceback": [
            "\u001b[0;31m---------------------------------------------------------------------------\u001b[0m",
            "\u001b[0;31mKeyboardInterrupt\u001b[0m                         Traceback (most recent call last)",
            "\u001b[0;32m<ipython-input-92-0d8c7bb1805f>\u001b[0m in \u001b[0;36m<module>\u001b[0;34m()\u001b[0m\n\u001b[1;32m      4\u001b[0m     \u001b[0mepochs\u001b[0m\u001b[0;34m=\u001b[0m\u001b[0mEPOCHS\u001b[0m\u001b[0;34m,\u001b[0m\u001b[0;34m\u001b[0m\u001b[0;34m\u001b[0m\u001b[0m\n\u001b[1;32m      5\u001b[0m     \u001b[0mbatch_size\u001b[0m\u001b[0;34m=\u001b[0m\u001b[0mBATCH_SIZE\u001b[0m\u001b[0;34m,\u001b[0m\u001b[0;34m\u001b[0m\u001b[0;34m\u001b[0m\u001b[0m\n\u001b[0;32m----> 6\u001b[0;31m     \u001b[0mvalidation_split\u001b[0m\u001b[0;34m=\u001b[0m\u001b[0;36m0.2\u001b[0m\u001b[0;34m\u001b[0m\u001b[0;34m\u001b[0m\u001b[0m\n\u001b[0m\u001b[1;32m      7\u001b[0m )\n",
            "\u001b[0;32m/usr/local/lib/python3.6/dist-packages/keras/engine/training.py\u001b[0m in \u001b[0;36mfit\u001b[0;34m(self, x, y, batch_size, epochs, verbose, callbacks, validation_split, validation_data, shuffle, class_weight, sample_weight, initial_epoch, steps_per_epoch, validation_steps, validation_freq, max_queue_size, workers, use_multiprocessing, **kwargs)\u001b[0m\n\u001b[1;32m   1237\u001b[0m                                         \u001b[0msteps_per_epoch\u001b[0m\u001b[0;34m=\u001b[0m\u001b[0msteps_per_epoch\u001b[0m\u001b[0;34m,\u001b[0m\u001b[0;34m\u001b[0m\u001b[0;34m\u001b[0m\u001b[0m\n\u001b[1;32m   1238\u001b[0m                                         \u001b[0mvalidation_steps\u001b[0m\u001b[0;34m=\u001b[0m\u001b[0mvalidation_steps\u001b[0m\u001b[0;34m,\u001b[0m\u001b[0;34m\u001b[0m\u001b[0;34m\u001b[0m\u001b[0m\n\u001b[0;32m-> 1239\u001b[0;31m                                         validation_freq=validation_freq)\n\u001b[0m\u001b[1;32m   1240\u001b[0m \u001b[0;34m\u001b[0m\u001b[0m\n\u001b[1;32m   1241\u001b[0m     def evaluate(self,\n",
            "\u001b[0;32m/usr/local/lib/python3.6/dist-packages/keras/engine/training_arrays.py\u001b[0m in \u001b[0;36mfit_loop\u001b[0;34m(model, fit_function, fit_inputs, out_labels, batch_size, epochs, verbose, callbacks, val_function, val_inputs, shuffle, initial_epoch, steps_per_epoch, validation_steps, validation_freq)\u001b[0m\n\u001b[1;32m    194\u001b[0m                     \u001b[0mins_batch\u001b[0m\u001b[0;34m[\u001b[0m\u001b[0mi\u001b[0m\u001b[0;34m]\u001b[0m \u001b[0;34m=\u001b[0m \u001b[0mins_batch\u001b[0m\u001b[0;34m[\u001b[0m\u001b[0mi\u001b[0m\u001b[0;34m]\u001b[0m\u001b[0;34m.\u001b[0m\u001b[0mtoarray\u001b[0m\u001b[0;34m(\u001b[0m\u001b[0;34m)\u001b[0m\u001b[0;34m\u001b[0m\u001b[0;34m\u001b[0m\u001b[0m\n\u001b[1;32m    195\u001b[0m \u001b[0;34m\u001b[0m\u001b[0m\n\u001b[0;32m--> 196\u001b[0;31m                 \u001b[0mouts\u001b[0m \u001b[0;34m=\u001b[0m \u001b[0mfit_function\u001b[0m\u001b[0;34m(\u001b[0m\u001b[0mins_batch\u001b[0m\u001b[0;34m)\u001b[0m\u001b[0;34m\u001b[0m\u001b[0;34m\u001b[0m\u001b[0m\n\u001b[0m\u001b[1;32m    197\u001b[0m                 \u001b[0mouts\u001b[0m \u001b[0;34m=\u001b[0m \u001b[0mto_list\u001b[0m\u001b[0;34m(\u001b[0m\u001b[0mouts\u001b[0m\u001b[0;34m)\u001b[0m\u001b[0;34m\u001b[0m\u001b[0;34m\u001b[0m\u001b[0m\n\u001b[1;32m    198\u001b[0m                 \u001b[0;32mfor\u001b[0m \u001b[0ml\u001b[0m\u001b[0;34m,\u001b[0m \u001b[0mo\u001b[0m \u001b[0;32min\u001b[0m \u001b[0mzip\u001b[0m\u001b[0;34m(\u001b[0m\u001b[0mout_labels\u001b[0m\u001b[0;34m,\u001b[0m \u001b[0mouts\u001b[0m\u001b[0;34m)\u001b[0m\u001b[0;34m:\u001b[0m\u001b[0;34m\u001b[0m\u001b[0;34m\u001b[0m\u001b[0m\n",
            "\u001b[0;32m/usr/local/lib/python3.6/dist-packages/tensorflow/python/keras/backend.py\u001b[0m in \u001b[0;36m__call__\u001b[0;34m(self, inputs)\u001b[0m\n\u001b[1;32m   3790\u001b[0m         \u001b[0mvalue\u001b[0m \u001b[0;34m=\u001b[0m \u001b[0mmath_ops\u001b[0m\u001b[0;34m.\u001b[0m\u001b[0mcast\u001b[0m\u001b[0;34m(\u001b[0m\u001b[0mvalue\u001b[0m\u001b[0;34m,\u001b[0m \u001b[0mtensor\u001b[0m\u001b[0;34m.\u001b[0m\u001b[0mdtype\u001b[0m\u001b[0;34m)\u001b[0m\u001b[0;34m\u001b[0m\u001b[0;34m\u001b[0m\u001b[0m\n\u001b[1;32m   3791\u001b[0m       \u001b[0mconverted_inputs\u001b[0m\u001b[0;34m.\u001b[0m\u001b[0mappend\u001b[0m\u001b[0;34m(\u001b[0m\u001b[0mvalue\u001b[0m\u001b[0;34m)\u001b[0m\u001b[0;34m\u001b[0m\u001b[0;34m\u001b[0m\u001b[0m\n\u001b[0;32m-> 3792\u001b[0;31m     \u001b[0moutputs\u001b[0m \u001b[0;34m=\u001b[0m \u001b[0mself\u001b[0m\u001b[0;34m.\u001b[0m\u001b[0m_graph_fn\u001b[0m\u001b[0;34m(\u001b[0m\u001b[0;34m*\u001b[0m\u001b[0mconverted_inputs\u001b[0m\u001b[0;34m)\u001b[0m\u001b[0;34m\u001b[0m\u001b[0;34m\u001b[0m\u001b[0m\n\u001b[0m\u001b[1;32m   3793\u001b[0m \u001b[0;34m\u001b[0m\u001b[0m\n\u001b[1;32m   3794\u001b[0m     \u001b[0;31m# EagerTensor.numpy() will often make a copy to ensure memory safety.\u001b[0m\u001b[0;34m\u001b[0m\u001b[0;34m\u001b[0m\u001b[0;34m\u001b[0m\u001b[0m\n",
            "\u001b[0;32m/usr/local/lib/python3.6/dist-packages/tensorflow/python/eager/function.py\u001b[0m in \u001b[0;36m__call__\u001b[0;34m(self, *args, **kwargs)\u001b[0m\n\u001b[1;32m   1603\u001b[0m       \u001b[0mTypeError\u001b[0m\u001b[0;34m:\u001b[0m \u001b[0mFor\u001b[0m \u001b[0minvalid\u001b[0m \u001b[0mpositional\u001b[0m\u001b[0;34m/\u001b[0m\u001b[0mkeyword\u001b[0m \u001b[0margument\u001b[0m \u001b[0mcombinations\u001b[0m\u001b[0;34m.\u001b[0m\u001b[0;34m\u001b[0m\u001b[0;34m\u001b[0m\u001b[0m\n\u001b[1;32m   1604\u001b[0m     \"\"\"\n\u001b[0;32m-> 1605\u001b[0;31m     \u001b[0;32mreturn\u001b[0m \u001b[0mself\u001b[0m\u001b[0;34m.\u001b[0m\u001b[0m_call_impl\u001b[0m\u001b[0;34m(\u001b[0m\u001b[0margs\u001b[0m\u001b[0;34m,\u001b[0m \u001b[0mkwargs\u001b[0m\u001b[0;34m)\u001b[0m\u001b[0;34m\u001b[0m\u001b[0;34m\u001b[0m\u001b[0m\n\u001b[0m\u001b[1;32m   1606\u001b[0m \u001b[0;34m\u001b[0m\u001b[0m\n\u001b[1;32m   1607\u001b[0m   \u001b[0;32mdef\u001b[0m \u001b[0m_call_impl\u001b[0m\u001b[0;34m(\u001b[0m\u001b[0mself\u001b[0m\u001b[0;34m,\u001b[0m \u001b[0margs\u001b[0m\u001b[0;34m,\u001b[0m \u001b[0mkwargs\u001b[0m\u001b[0;34m,\u001b[0m \u001b[0mcancellation_manager\u001b[0m\u001b[0;34m=\u001b[0m\u001b[0;32mNone\u001b[0m\u001b[0;34m)\u001b[0m\u001b[0;34m:\u001b[0m\u001b[0;34m\u001b[0m\u001b[0;34m\u001b[0m\u001b[0m\n",
            "\u001b[0;32m/usr/local/lib/python3.6/dist-packages/tensorflow/python/eager/function.py\u001b[0m in \u001b[0;36m_call_impl\u001b[0;34m(self, args, kwargs, cancellation_manager)\u001b[0m\n\u001b[1;32m   1643\u001b[0m       raise TypeError(\"Keyword arguments {} unknown. Expected {}.\".format(\n\u001b[1;32m   1644\u001b[0m           list(kwargs.keys()), list(self._arg_keywords)))\n\u001b[0;32m-> 1645\u001b[0;31m     \u001b[0;32mreturn\u001b[0m \u001b[0mself\u001b[0m\u001b[0;34m.\u001b[0m\u001b[0m_call_flat\u001b[0m\u001b[0;34m(\u001b[0m\u001b[0margs\u001b[0m\u001b[0;34m,\u001b[0m \u001b[0mself\u001b[0m\u001b[0;34m.\u001b[0m\u001b[0mcaptured_inputs\u001b[0m\u001b[0;34m,\u001b[0m \u001b[0mcancellation_manager\u001b[0m\u001b[0;34m)\u001b[0m\u001b[0;34m\u001b[0m\u001b[0;34m\u001b[0m\u001b[0m\n\u001b[0m\u001b[1;32m   1646\u001b[0m \u001b[0;34m\u001b[0m\u001b[0m\n\u001b[1;32m   1647\u001b[0m   \u001b[0;32mdef\u001b[0m \u001b[0m_filtered_call\u001b[0m\u001b[0;34m(\u001b[0m\u001b[0mself\u001b[0m\u001b[0;34m,\u001b[0m \u001b[0margs\u001b[0m\u001b[0;34m,\u001b[0m \u001b[0mkwargs\u001b[0m\u001b[0;34m)\u001b[0m\u001b[0;34m:\u001b[0m\u001b[0;34m\u001b[0m\u001b[0;34m\u001b[0m\u001b[0m\n",
            "\u001b[0;32m/usr/local/lib/python3.6/dist-packages/tensorflow/python/eager/function.py\u001b[0m in \u001b[0;36m_call_flat\u001b[0;34m(self, args, captured_inputs, cancellation_manager)\u001b[0m\n\u001b[1;32m   1744\u001b[0m       \u001b[0;31m# No tape is watching; skip to running the function.\u001b[0m\u001b[0;34m\u001b[0m\u001b[0;34m\u001b[0m\u001b[0;34m\u001b[0m\u001b[0m\n\u001b[1;32m   1745\u001b[0m       return self._build_call_outputs(self._inference_function.call(\n\u001b[0;32m-> 1746\u001b[0;31m           ctx, args, cancellation_manager=cancellation_manager))\n\u001b[0m\u001b[1;32m   1747\u001b[0m     forward_backward = self._select_forward_and_backward_functions(\n\u001b[1;32m   1748\u001b[0m         \u001b[0margs\u001b[0m\u001b[0;34m,\u001b[0m\u001b[0;34m\u001b[0m\u001b[0;34m\u001b[0m\u001b[0m\n",
            "\u001b[0;32m/usr/local/lib/python3.6/dist-packages/tensorflow/python/eager/function.py\u001b[0m in \u001b[0;36mcall\u001b[0;34m(self, ctx, args, cancellation_manager)\u001b[0m\n\u001b[1;32m    596\u001b[0m               \u001b[0minputs\u001b[0m\u001b[0;34m=\u001b[0m\u001b[0margs\u001b[0m\u001b[0;34m,\u001b[0m\u001b[0;34m\u001b[0m\u001b[0;34m\u001b[0m\u001b[0m\n\u001b[1;32m    597\u001b[0m               \u001b[0mattrs\u001b[0m\u001b[0;34m=\u001b[0m\u001b[0mattrs\u001b[0m\u001b[0;34m,\u001b[0m\u001b[0;34m\u001b[0m\u001b[0;34m\u001b[0m\u001b[0m\n\u001b[0;32m--> 598\u001b[0;31m               ctx=ctx)\n\u001b[0m\u001b[1;32m    599\u001b[0m         \u001b[0;32melse\u001b[0m\u001b[0;34m:\u001b[0m\u001b[0;34m\u001b[0m\u001b[0;34m\u001b[0m\u001b[0m\n\u001b[1;32m    600\u001b[0m           outputs = execute.execute_with_cancellation(\n",
            "\u001b[0;32m/usr/local/lib/python3.6/dist-packages/tensorflow/python/eager/execute.py\u001b[0m in \u001b[0;36mquick_execute\u001b[0;34m(op_name, num_outputs, inputs, attrs, ctx, name)\u001b[0m\n\u001b[1;32m     58\u001b[0m     \u001b[0mctx\u001b[0m\u001b[0;34m.\u001b[0m\u001b[0mensure_initialized\u001b[0m\u001b[0;34m(\u001b[0m\u001b[0;34m)\u001b[0m\u001b[0;34m\u001b[0m\u001b[0;34m\u001b[0m\u001b[0m\n\u001b[1;32m     59\u001b[0m     tensors = pywrap_tfe.TFE_Py_Execute(ctx._handle, device_name, op_name,\n\u001b[0;32m---> 60\u001b[0;31m                                         inputs, attrs, num_outputs)\n\u001b[0m\u001b[1;32m     61\u001b[0m   \u001b[0;32mexcept\u001b[0m \u001b[0mcore\u001b[0m\u001b[0;34m.\u001b[0m\u001b[0m_NotOkStatusException\u001b[0m \u001b[0;32mas\u001b[0m \u001b[0me\u001b[0m\u001b[0;34m:\u001b[0m\u001b[0;34m\u001b[0m\u001b[0;34m\u001b[0m\u001b[0m\n\u001b[1;32m     62\u001b[0m     \u001b[0;32mif\u001b[0m \u001b[0mname\u001b[0m \u001b[0;32mis\u001b[0m \u001b[0;32mnot\u001b[0m \u001b[0;32mNone\u001b[0m\u001b[0;34m:\u001b[0m\u001b[0;34m\u001b[0m\u001b[0;34m\u001b[0m\u001b[0m\n",
            "\u001b[0;31mKeyboardInterrupt\u001b[0m: "
          ]
        }
      ]
    },
    {
      "cell_type": "code",
      "metadata": {
        "id": "ZBSba3vprlRD",
        "colab_type": "code",
        "colab": {}
      },
      "source": [
        "# model.evaluate(test_x, test_y)"
      ],
      "execution_count": null,
      "outputs": []
    }
  ]
}