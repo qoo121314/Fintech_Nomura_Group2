{
  "nbformat": 4,
  "nbformat_minor": 0,
  "metadata": {
    "anaconda-cloud": {},
    "kernelspec": {
      "name": "python3",
      "display_name": "Python 3"
    },
    "language_info": {
      "codemirror_mode": {
        "name": "ipython",
        "version": 3
      },
      "file_extension": ".py",
      "mimetype": "text/x-python",
      "name": "python",
      "nbconvert_exporter": "python",
      "pygments_lexer": "ipython3",
      "version": "3.6.3"
    },
    "colab": {
      "name": "CKIP_strongfund.ipynb",
      "provenance": [],
      "collapsed_sections": []
    },
    "accelerator": "GPU"
  },
  "cells": [
    {
      "cell_type": "code",
      "metadata": {
        "id": "v2K5B1NgylQl",
        "colab_type": "code",
        "colab": {}
      },
      "source": [
        "# 為了美觀 我把Future Warning關閉\n",
        "import warnings\n",
        "warnings.filterwarnings(\"ignore\", category=FutureWarning)"
      ],
      "execution_count": null,
      "outputs": []
    },
    {
      "cell_type": "code",
      "metadata": {
        "id": "WsYylmXKr3QQ",
        "colab_type": "code",
        "colab": {}
      },
      "source": [
        "import pandas as pd\n",
        "import numpy as np\n",
        "import os"
      ],
      "execution_count": null,
      "outputs": []
    },
    {
      "cell_type": "code",
      "metadata": {
        "id": "oGz8py8SR6Op",
        "colab_type": "code",
        "colab": {
          "base_uri": "https://localhost:8080/",
          "height": 587
        },
        "outputId": "88d61ace-c658-46c1-bcb2-c21de7cdac2e"
      },
      "source": [
        "!pip install -U ckiptagger[tfgpu,gdown]"
      ],
      "execution_count": null,
      "outputs": [
        {
          "output_type": "stream",
          "text": [
            "Requirement already up-to-date: ckiptagger[gdown,tfgpu] in /usr/local/lib/python3.6/dist-packages (0.1.1)\n",
            "Requirement already satisfied, skipping upgrade: gdown; extra == \"gdown\" in /usr/local/lib/python3.6/dist-packages (from ckiptagger[gdown,tfgpu]) (3.6.4)\n",
            "Requirement already satisfied, skipping upgrade: tensorflow-gpu<2,>=1.13.1; extra == \"tfgpu\" in /usr/local/lib/python3.6/dist-packages (from ckiptagger[gdown,tfgpu]) (1.15.3)\n",
            "Requirement already satisfied, skipping upgrade: tqdm in /usr/local/lib/python3.6/dist-packages (from gdown; extra == \"gdown\"->ckiptagger[gdown,tfgpu]) (4.41.1)\n",
            "Requirement already satisfied, skipping upgrade: requests in /usr/local/lib/python3.6/dist-packages (from gdown; extra == \"gdown\"->ckiptagger[gdown,tfgpu]) (2.23.0)\n",
            "Requirement already satisfied, skipping upgrade: six in /usr/local/lib/python3.6/dist-packages (from gdown; extra == \"gdown\"->ckiptagger[gdown,tfgpu]) (1.12.0)\n",
            "Requirement already satisfied, skipping upgrade: grpcio>=1.8.6 in /usr/local/lib/python3.6/dist-packages (from tensorflow-gpu<2,>=1.13.1; extra == \"tfgpu\"->ckiptagger[gdown,tfgpu]) (1.29.0)\n",
            "Requirement already satisfied, skipping upgrade: astor>=0.6.0 in /usr/local/lib/python3.6/dist-packages (from tensorflow-gpu<2,>=1.13.1; extra == \"tfgpu\"->ckiptagger[gdown,tfgpu]) (0.8.1)\n",
            "Requirement already satisfied, skipping upgrade: keras-applications>=1.0.8 in /usr/local/lib/python3.6/dist-packages (from tensorflow-gpu<2,>=1.13.1; extra == \"tfgpu\"->ckiptagger[gdown,tfgpu]) (1.0.8)\n",
            "Requirement already satisfied, skipping upgrade: opt-einsum>=2.3.2 in /usr/local/lib/python3.6/dist-packages (from tensorflow-gpu<2,>=1.13.1; extra == \"tfgpu\"->ckiptagger[gdown,tfgpu]) (3.2.1)\n",
            "Requirement already satisfied, skipping upgrade: wheel>=0.26; python_version >= \"3\" in /usr/local/lib/python3.6/dist-packages (from tensorflow-gpu<2,>=1.13.1; extra == \"tfgpu\"->ckiptagger[gdown,tfgpu]) (0.34.2)\n",
            "Requirement already satisfied, skipping upgrade: google-pasta>=0.1.6 in /usr/local/lib/python3.6/dist-packages (from tensorflow-gpu<2,>=1.13.1; extra == \"tfgpu\"->ckiptagger[gdown,tfgpu]) (0.2.0)\n",
            "Requirement already satisfied, skipping upgrade: tensorflow-estimator==1.15.1 in /usr/local/lib/python3.6/dist-packages (from tensorflow-gpu<2,>=1.13.1; extra == \"tfgpu\"->ckiptagger[gdown,tfgpu]) (1.15.1)\n",
            "Requirement already satisfied, skipping upgrade: protobuf>=3.6.1 in /usr/local/lib/python3.6/dist-packages (from tensorflow-gpu<2,>=1.13.1; extra == \"tfgpu\"->ckiptagger[gdown,tfgpu]) (3.10.0)\n",
            "Requirement already satisfied, skipping upgrade: termcolor>=1.1.0 in /usr/local/lib/python3.6/dist-packages (from tensorflow-gpu<2,>=1.13.1; extra == \"tfgpu\"->ckiptagger[gdown,tfgpu]) (1.1.0)\n",
            "Requirement already satisfied, skipping upgrade: wrapt>=1.11.1 in /usr/local/lib/python3.6/dist-packages (from tensorflow-gpu<2,>=1.13.1; extra == \"tfgpu\"->ckiptagger[gdown,tfgpu]) (1.12.1)\n",
            "Requirement already satisfied, skipping upgrade: numpy<2.0,>=1.16.0 in /usr/local/lib/python3.6/dist-packages (from tensorflow-gpu<2,>=1.13.1; extra == \"tfgpu\"->ckiptagger[gdown,tfgpu]) (1.18.5)\n",
            "Requirement already satisfied, skipping upgrade: absl-py>=0.7.0 in /usr/local/lib/python3.6/dist-packages (from tensorflow-gpu<2,>=1.13.1; extra == \"tfgpu\"->ckiptagger[gdown,tfgpu]) (0.9.0)\n",
            "Requirement already satisfied, skipping upgrade: keras-preprocessing>=1.0.5 in /usr/local/lib/python3.6/dist-packages (from tensorflow-gpu<2,>=1.13.1; extra == \"tfgpu\"->ckiptagger[gdown,tfgpu]) (1.1.2)\n",
            "Requirement already satisfied, skipping upgrade: tensorboard<1.16.0,>=1.15.0 in /usr/local/lib/python3.6/dist-packages (from tensorflow-gpu<2,>=1.13.1; extra == \"tfgpu\"->ckiptagger[gdown,tfgpu]) (1.15.0)\n",
            "Requirement already satisfied, skipping upgrade: gast==0.2.2 in /usr/local/lib/python3.6/dist-packages (from tensorflow-gpu<2,>=1.13.1; extra == \"tfgpu\"->ckiptagger[gdown,tfgpu]) (0.2.2)\n",
            "Requirement already satisfied, skipping upgrade: chardet<4,>=3.0.2 in /usr/local/lib/python3.6/dist-packages (from requests->gdown; extra == \"gdown\"->ckiptagger[gdown,tfgpu]) (3.0.4)\n",
            "Requirement already satisfied, skipping upgrade: certifi>=2017.4.17 in /usr/local/lib/python3.6/dist-packages (from requests->gdown; extra == \"gdown\"->ckiptagger[gdown,tfgpu]) (2020.4.5.1)\n",
            "Requirement already satisfied, skipping upgrade: idna<3,>=2.5 in /usr/local/lib/python3.6/dist-packages (from requests->gdown; extra == \"gdown\"->ckiptagger[gdown,tfgpu]) (2.9)\n",
            "Requirement already satisfied, skipping upgrade: urllib3!=1.25.0,!=1.25.1,<1.26,>=1.21.1 in /usr/local/lib/python3.6/dist-packages (from requests->gdown; extra == \"gdown\"->ckiptagger[gdown,tfgpu]) (1.24.3)\n",
            "Requirement already satisfied, skipping upgrade: h5py in /usr/local/lib/python3.6/dist-packages (from keras-applications>=1.0.8->tensorflow-gpu<2,>=1.13.1; extra == \"tfgpu\"->ckiptagger[gdown,tfgpu]) (2.10.0)\n",
            "Requirement already satisfied, skipping upgrade: setuptools in /usr/local/lib/python3.6/dist-packages (from protobuf>=3.6.1->tensorflow-gpu<2,>=1.13.1; extra == \"tfgpu\"->ckiptagger[gdown,tfgpu]) (47.1.1)\n",
            "Requirement already satisfied, skipping upgrade: werkzeug>=0.11.15 in /usr/local/lib/python3.6/dist-packages (from tensorboard<1.16.0,>=1.15.0->tensorflow-gpu<2,>=1.13.1; extra == \"tfgpu\"->ckiptagger[gdown,tfgpu]) (1.0.1)\n",
            "Requirement already satisfied, skipping upgrade: markdown>=2.6.8 in /usr/local/lib/python3.6/dist-packages (from tensorboard<1.16.0,>=1.15.0->tensorflow-gpu<2,>=1.13.1; extra == \"tfgpu\"->ckiptagger[gdown,tfgpu]) (3.2.2)\n",
            "Requirement already satisfied, skipping upgrade: importlib-metadata; python_version < \"3.8\" in /usr/local/lib/python3.6/dist-packages (from markdown>=2.6.8->tensorboard<1.16.0,>=1.15.0->tensorflow-gpu<2,>=1.13.1; extra == \"tfgpu\"->ckiptagger[gdown,tfgpu]) (1.6.0)\n",
            "Requirement already satisfied, skipping upgrade: zipp>=0.5 in /usr/local/lib/python3.6/dist-packages (from importlib-metadata; python_version < \"3.8\"->markdown>=2.6.8->tensorboard<1.16.0,>=1.15.0->tensorflow-gpu<2,>=1.13.1; extra == \"tfgpu\"->ckiptagger[gdown,tfgpu]) (3.1.0)\n"
          ],
          "name": "stdout"
        }
      ]
    },
    {
      "cell_type": "code",
      "metadata": {
        "id": "ZpbKVxl4vChx",
        "colab_type": "code",
        "colab": {
          "base_uri": "https://localhost:8080/",
          "height": 87
        },
        "outputId": "7eba2d06-29aa-466d-ea0e-cc793b8fdf13"
      },
      "source": [
        "from ckiptagger import data_utils, construct_dictionary, WS, POS, NER\n",
        "data_utils.download_data_gdown(\"./\")"
      ],
      "execution_count": null,
      "outputs": [
        {
          "output_type": "stream",
          "text": [
            "Downloading...\n",
            "From: https://drive.google.com/uc?id=1efHsY16pxK0lBD2gYCgCTnv1Swstq771\n",
            "To: /content/data.zip\n",
            "1.88GB [00:22, 83.0MB/s]\n"
          ],
          "name": "stderr"
        }
      ]
    },
    {
      "cell_type": "code",
      "metadata": {
        "id": "CyYczB-EvDi_",
        "colab_type": "code",
        "colab": {}
      },
      "source": [
        "os.environ[\"CUDA_VISIBLE_DEVICES\"] = \"0\"\n",
        "ws = WS(\"./data\", disable_cuda=False)\n"
      ],
      "execution_count": null,
      "outputs": []
    },
    {
      "cell_type": "code",
      "metadata": {
        "id": "AVwruShPwK-U",
        "colab_type": "code",
        "colab": {
          "base_uri": "https://localhost:8080/",
          "height": 447
        },
        "outputId": "f6c66afa-7cfd-4af8-fa19-c85eea2fa5b4"
      },
      "source": [
        "df = pd.read_csv(\"strong_fund_tidydata.csv\")\n",
        "df.head()"
      ],
      "execution_count": null,
      "outputs": [
        {
          "output_type": "execute_result",
          "data": {
            "text/html": [
              "<div>\n",
              "<style scoped>\n",
              "    .dataframe tbody tr th:only-of-type {\n",
              "        vertical-align: middle;\n",
              "    }\n",
              "\n",
              "    .dataframe tbody tr th {\n",
              "        vertical-align: top;\n",
              "    }\n",
              "\n",
              "    .dataframe thead th {\n",
              "        text-align: right;\n",
              "    }\n",
              "</style>\n",
              "<table border=\"1\" class=\"dataframe\">\n",
              "  <thead>\n",
              "    <tr style=\"text-align: right;\">\n",
              "      <th></th>\n",
              "      <th>doc_index</th>\n",
              "      <th>article_index</th>\n",
              "      <th>content</th>\n",
              "      <th>title</th>\n",
              "      <th>time</th>\n",
              "      <th>author</th>\n",
              "      <th>articles_no_author</th>\n",
              "      <th>from</th>\n",
              "      <th>author_identity</th>\n",
              "      <th>author_enroll_time</th>\n",
              "    </tr>\n",
              "  </thead>\n",
              "  <tbody>\n",
              "    <tr>\n",
              "      <th>0</th>\n",
              "      <td>\"1\"</td>\n",
              "      <td>10</td>\n",
              "      <td>\"有一檔利安越南基金喔可以試試看\"</td>\n",
              "      <td>\"Re: 有人投資過越南基金嗎?\"</td>\n",
              "      <td>2011-01-01 22:34:00</td>\n",
              "      <td>\"8d8d\"</td>\n",
              "      <td>\"725\"</td>\n",
              "      <td>NaN</td>\n",
              "      <td>\"天使人\"</td>\n",
              "      <td>\"2010-12-10 09:48\"</td>\n",
              "    </tr>\n",
              "    <tr>\n",
              "      <th>1</th>\n",
              "      <td>\"2\"</td>\n",
              "      <td>10</td>\n",
              "      <td>\"利安越南基金可以在先鋒投顧的平台上買到但只有新幣計價的選擇而且績效很差　大盤漲　基金不見得...</td>\n",
              "      <td>\"Re: 有人投資過越南基金嗎?\"</td>\n",
              "      <td>2011-01-01 22:37:00</td>\n",
              "      <td>\"fundhot\"</td>\n",
              "      <td>\"7483\"</td>\n",
              "      <td>\"我是強大\"</td>\n",
              "      <td>\"管理員\"</td>\n",
              "      <td>\"2010-12-10 09:47\"</td>\n",
              "    </tr>\n",
              "    <tr>\n",
              "      <th>2</th>\n",
              "      <td>\"3\"</td>\n",
              "      <td>11</td>\n",
              "      <td>\"如果出口的力道逐漸復甦科技股應該還是會是重頭戲吧\"</td>\n",
              "      <td>\"Re: 今年的台股基金投資方向\"</td>\n",
              "      <td>2011-01-03 16:14:00</td>\n",
              "      <td>\"king\"</td>\n",
              "      <td>\"964\"</td>\n",
              "      <td>NaN</td>\n",
              "      <td>\"天使人\"</td>\n",
              "      <td>\"2010-12-10 09:37\"</td>\n",
              "    </tr>\n",
              "    <tr>\n",
              "      <th>3</th>\n",
              "      <td>\"4\"</td>\n",
              "      <td>11</td>\n",
              "      <td>\"發問的大大能否請問你傳產賺到錢的是哪一檔基金阿?另請問強基金大大推薦統一大滿貫/群益葛萊美...</td>\n",
              "      <td>\"Re: 今年的台股基金投資方向\"</td>\n",
              "      <td>2011-01-03 16:27:00</td>\n",
              "      <td>\"ryoma\"</td>\n",
              "      <td>\"634\"</td>\n",
              "      <td>NaN</td>\n",
              "      <td>\"名人堂成員 兼 分版版主\"</td>\n",
              "      <td>\"2011-01-03 16:18\"</td>\n",
              "    </tr>\n",
              "    <tr>\n",
              "      <th>4</th>\n",
              "      <td>\"5\"</td>\n",
              "      <td>11</td>\n",
              "      <td>\"@chenyu今年強基金很看好台股上萬點推升力道來自國外的熱錢炒作的題材當然就是ECFA連...</td>\n",
              "      <td>\"Re: 今年的台股基金投資方向\"</td>\n",
              "      <td>2011-01-03 17:47:00</td>\n",
              "      <td>\"fundhot\"</td>\n",
              "      <td>\"7483\"</td>\n",
              "      <td>\"我是強大\"</td>\n",
              "      <td>\"管理員\"</td>\n",
              "      <td>\"2010-12-10 09:47\"</td>\n",
              "    </tr>\n",
              "  </tbody>\n",
              "</table>\n",
              "</div>"
            ],
            "text/plain": [
              "  doc_index  article_index  ... author_identity  author_enroll_time\n",
              "0       \"1\"             10  ...           \"天使人\"  \"2010-12-10 09:48\"\n",
              "1       \"2\"             10  ...           \"管理員\"  \"2010-12-10 09:47\"\n",
              "2       \"3\"             11  ...           \"天使人\"  \"2010-12-10 09:37\"\n",
              "3       \"4\"             11  ...  \"名人堂成員 兼 分版版主\"  \"2011-01-03 16:18\"\n",
              "4       \"5\"             11  ...           \"管理員\"  \"2010-12-10 09:47\"\n",
              "\n",
              "[5 rows x 10 columns]"
            ]
          },
          "metadata": {
            "tags": []
          },
          "execution_count": 9
        }
      ]
    },
    {
      "cell_type": "code",
      "metadata": {
        "id": "VFv7LhRtvU-H",
        "colab_type": "code",
        "colab": {}
      },
      "source": [
        "sentence_list = df['content']\n",
        "\n",
        "word_sentence_list = ws(\n",
        "    sentence_list,\n",
        "    # sentence_segmentation = True, # To consider delimiters\n",
        "    # segment_delimiter_set = {\",\", \"。\", \":\", \"?\", \"!\", \";\"}), # This is the defualt set of delimiters\n",
        "    # recommend_dictionary = dictionary1, # words in this dictionary are encouraged\n",
        "    # coerce_dictionary = dictionary2, # words in this dictionary are forced\n",
        ")\n"
      ],
      "execution_count": null,
      "outputs": []
    },
    {
      "cell_type": "code",
      "metadata": {
        "id": "SzBSHpZHvrlf",
        "colab_type": "code",
        "colab": {}
      },
      "source": [
        "df['word_sentence_list'] = word_sentence_list"
      ],
      "execution_count": null,
      "outputs": []
    },
    {
      "cell_type": "code",
      "metadata": {
        "id": "obMrJNHZyNKy",
        "colab_type": "code",
        "colab": {
          "base_uri": "https://localhost:8080/",
          "height": 1000
        },
        "outputId": "0537c55b-b30f-478c-ceab-1d75a6c1f923"
      },
      "source": [
        "df"
      ],
      "execution_count": null,
      "outputs": [
        {
          "output_type": "execute_result",
          "data": {
            "text/html": [
              "<div>\n",
              "<style scoped>\n",
              "    .dataframe tbody tr th:only-of-type {\n",
              "        vertical-align: middle;\n",
              "    }\n",
              "\n",
              "    .dataframe tbody tr th {\n",
              "        vertical-align: top;\n",
              "    }\n",
              "\n",
              "    .dataframe thead th {\n",
              "        text-align: right;\n",
              "    }\n",
              "</style>\n",
              "<table border=\"1\" class=\"dataframe\">\n",
              "  <thead>\n",
              "    <tr style=\"text-align: right;\">\n",
              "      <th></th>\n",
              "      <th>doc_index</th>\n",
              "      <th>article_index</th>\n",
              "      <th>content</th>\n",
              "      <th>title</th>\n",
              "      <th>time</th>\n",
              "      <th>author</th>\n",
              "      <th>articles_no_author</th>\n",
              "      <th>from</th>\n",
              "      <th>author_identity</th>\n",
              "      <th>author_enroll_time</th>\n",
              "      <th>word_sentence_list</th>\n",
              "    </tr>\n",
              "  </thead>\n",
              "  <tbody>\n",
              "    <tr>\n",
              "      <th>0</th>\n",
              "      <td>\"1\"</td>\n",
              "      <td>10</td>\n",
              "      <td>\"有一檔利安越南基金喔可以試試看\"</td>\n",
              "      <td>\"Re: 有人投資過越南基金嗎?\"</td>\n",
              "      <td>2011-01-01 22:34:00</td>\n",
              "      <td>\"8d8d\"</td>\n",
              "      <td>\"725\"</td>\n",
              "      <td>NaN</td>\n",
              "      <td>\"天使人\"</td>\n",
              "      <td>\"2010-12-10 09:48\"</td>\n",
              "      <td>[\", 有, 一, 檔, 利安, 越南, 基金, 喔, 可以, 試試, 看, \"]</td>\n",
              "    </tr>\n",
              "    <tr>\n",
              "      <th>1</th>\n",
              "      <td>\"2\"</td>\n",
              "      <td>10</td>\n",
              "      <td>\"利安越南基金可以在先鋒投顧的平台上買到但只有新幣計價的選擇而且績效很差　大盤漲　基金不見得...</td>\n",
              "      <td>\"Re: 有人投資過越南基金嗎?\"</td>\n",
              "      <td>2011-01-01 22:37:00</td>\n",
              "      <td>\"fundhot\"</td>\n",
              "      <td>\"7483\"</td>\n",
              "      <td>\"我是強大\"</td>\n",
              "      <td>\"管理員\"</td>\n",
              "      <td>\"2010-12-10 09:47\"</td>\n",
              "      <td>[\", 利安, 越南, 基金, 可以, 在, 先鋒, 投顧, 的, 平台, 上, 買到, 但...</td>\n",
              "    </tr>\n",
              "    <tr>\n",
              "      <th>2</th>\n",
              "      <td>\"3\"</td>\n",
              "      <td>11</td>\n",
              "      <td>\"如果出口的力道逐漸復甦科技股應該還是會是重頭戲吧\"</td>\n",
              "      <td>\"Re: 今年的台股基金投資方向\"</td>\n",
              "      <td>2011-01-03 16:14:00</td>\n",
              "      <td>\"king\"</td>\n",
              "      <td>\"964\"</td>\n",
              "      <td>NaN</td>\n",
              "      <td>\"天使人\"</td>\n",
              "      <td>\"2010-12-10 09:37\"</td>\n",
              "      <td>[\", 如果, 出口, 的, 力道, 逐漸, 復甦, 科技股, 應該, 還是, 會, 是, ...</td>\n",
              "    </tr>\n",
              "    <tr>\n",
              "      <th>3</th>\n",
              "      <td>\"4\"</td>\n",
              "      <td>11</td>\n",
              "      <td>\"發問的大大能否請問你傳產賺到錢的是哪一檔基金阿?另請問強基金大大推薦統一大滿貫/群益葛萊美...</td>\n",
              "      <td>\"Re: 今年的台股基金投資方向\"</td>\n",
              "      <td>2011-01-03 16:27:00</td>\n",
              "      <td>\"ryoma\"</td>\n",
              "      <td>\"634\"</td>\n",
              "      <td>NaN</td>\n",
              "      <td>\"名人堂成員 兼 分版版主\"</td>\n",
              "      <td>\"2011-01-03 16:18\"</td>\n",
              "      <td>[\", 發問, 的, 大大, 能否, 請問, 你, 傳產, 賺到, 錢, 的, 是, 哪, ...</td>\n",
              "    </tr>\n",
              "    <tr>\n",
              "      <th>4</th>\n",
              "      <td>\"5\"</td>\n",
              "      <td>11</td>\n",
              "      <td>\"@chenyu今年強基金很看好台股上萬點推升力道來自國外的熱錢炒作的題材當然就是ECFA連...</td>\n",
              "      <td>\"Re: 今年的台股基金投資方向\"</td>\n",
              "      <td>2011-01-03 17:47:00</td>\n",
              "      <td>\"fundhot\"</td>\n",
              "      <td>\"7483\"</td>\n",
              "      <td>\"我是強大\"</td>\n",
              "      <td>\"管理員\"</td>\n",
              "      <td>\"2010-12-10 09:47\"</td>\n",
              "      <td>[\"@chenyu, 今年, 強, 基金, 很, 看好, 台股, 上萬, 點, 推升, 力道...</td>\n",
              "    </tr>\n",
              "    <tr>\n",
              "      <th>...</th>\n",
              "      <td>...</td>\n",
              "      <td>...</td>\n",
              "      <td>...</td>\n",
              "      <td>...</td>\n",
              "      <td>...</td>\n",
              "      <td>...</td>\n",
              "      <td>...</td>\n",
              "      <td>...</td>\n",
              "      <td>...</td>\n",
              "      <td>...</td>\n",
              "      <td>...</td>\n",
              "    </tr>\n",
              "    <tr>\n",
              "      <th>54981</th>\n",
              "      <td>\"55206\"</td>\n",
              "      <td>8139</td>\n",
              "      <td>\"@@?  4月份反彈不少,  小人持有南非幣計價的,都漲回正值, 連剛買的復華短收都有賺....</td>\n",
              "      <td>\"Re: 四月後轉換南非幣基金，但都是漲不太起來或虧損...\"</td>\n",
              "      <td>2020-05-08 23:34:00</td>\n",
              "      <td>\"michelle\"</td>\n",
              "      <td>\"82\"</td>\n",
              "      <td>NaN</td>\n",
              "      <td>\"註冊會員\"</td>\n",
              "      <td>\"2017-04-06 12:04\"</td>\n",
              "      <td>[\"@@?  , 4月份, 反彈, 不少, ,,   , 小人, 持有, 南非幣, 計價, ...</td>\n",
              "    </tr>\n",
              "    <tr>\n",
              "      <th>54982</th>\n",
              "      <td>\"55207\"</td>\n",
              "      <td>8139</td>\n",
              "      <td>\"南非幣真的很兇猛的哦，雖然配息很爽，但最好要有當成本金大幅虧損的心理準備\"</td>\n",
              "      <td>\"Re: 四月後轉換南非幣基金，但都是漲不太起來或虧損...\"</td>\n",
              "      <td>2020-05-09 02:29:00</td>\n",
              "      <td>\"莫大華\"</td>\n",
              "      <td>\"104\"</td>\n",
              "      <td>NaN</td>\n",
              "      <td>\"註冊會員\"</td>\n",
              "      <td>\"2017-09-26 10:01\"</td>\n",
              "      <td>[\", 南非幣, 真的, 很, 兇猛, 的, 哦, ，, 雖然, 配息, 很, 爽, ，, ...</td>\n",
              "    </tr>\n",
              "    <tr>\n",
              "      <th>54983</th>\n",
              "      <td>\"55208\"</td>\n",
              "      <td>8139</td>\n",
              "      <td>\"這是我買的南非幣基金要怎麼配置比較好呢我現在是要買股基還是債基呢謝謝\"</td>\n",
              "      <td>\"Re: 四月後轉換南非幣基金，但都是漲不太起來或虧損...\"</td>\n",
              "      <td>2020-05-09 10:38:00</td>\n",
              "      <td>\"sly72927\"</td>\n",
              "      <td>\"5\"</td>\n",
              "      <td>NaN</td>\n",
              "      <td>\"註冊會員\"</td>\n",
              "      <td>\"2020-04-09 11:36\"</td>\n",
              "      <td>[\", 這, 是, 我, 買, 的, 南非幣, 基金, 要, 怎麼, 配置, 比較, 好, ...</td>\n",
              "    </tr>\n",
              "    <tr>\n",
              "      <th>54984</th>\n",
              "      <td>\"55209\"</td>\n",
              "      <td>8139</td>\n",
              "      <td>\"部分原因應該是匯損造成另外所述基金蠻複雜的，蕭碧燕老師有說要了解自己買的基金，蠻有道理的\"</td>\n",
              "      <td>\"Re: 四月後轉換南非幣基金，但都是漲不太起來或虧損...\"</td>\n",
              "      <td>2020-05-09 11:20:00</td>\n",
              "      <td>\"yangyensan\"</td>\n",
              "      <td>\"87\"</td>\n",
              "      <td>NaN</td>\n",
              "      <td>\"註冊會員\"</td>\n",
              "      <td>\"2019-04-09 16:44\"</td>\n",
              "      <td>[\", 部分, 原因, 應該, 是, 匯損, 造成, 另外, 所, 述, 基金, 蠻, 複雜...</td>\n",
              "    </tr>\n",
              "    <tr>\n",
              "      <th>54985</th>\n",
              "      <td>\"55210\"</td>\n",
              "      <td>8140</td>\n",
              "      <td>\"小弟弟是26歲的社會新...工作幾年也不算新鮮人了...今天上班偶然跟客人聊到了儲蓄，阿姨...</td>\n",
              "      <td>\"Re: 從被騙賠光存款，更加碼負債的狀態重新出發，邁向財富自由\"</td>\n",
              "      <td>2020-05-09 02:59:00</td>\n",
              "      <td>\"Ninegee\"</td>\n",
              "      <td>\"2\"</td>\n",
              "      <td>NaN</td>\n",
              "      <td>\"新註冊會員\"</td>\n",
              "      <td>\"2020-05-09 02:12\"</td>\n",
              "      <td>[\", 小, 弟弟, 是, 26, 歲, 的, 社會, 新, ., ., ., 工作, 幾,...</td>\n",
              "    </tr>\n",
              "  </tbody>\n",
              "</table>\n",
              "<p>54986 rows × 11 columns</p>\n",
              "</div>"
            ],
            "text/plain": [
              "      doc_index  ...                                 word_sentence_list\n",
              "0           \"1\"  ...          [\", 有, 一, 檔, 利安, 越南, 基金, 喔, 可以, 試試, 看, \"]\n",
              "1           \"2\"  ...  [\", 利安, 越南, 基金, 可以, 在, 先鋒, 投顧, 的, 平台, 上, 買到, 但...\n",
              "2           \"3\"  ...  [\", 如果, 出口, 的, 力道, 逐漸, 復甦, 科技股, 應該, 還是, 會, 是, ...\n",
              "3           \"4\"  ...  [\", 發問, 的, 大大, 能否, 請問, 你, 傳產, 賺到, 錢, 的, 是, 哪, ...\n",
              "4           \"5\"  ...  [\"@chenyu, 今年, 強, 基金, 很, 看好, 台股, 上萬, 點, 推升, 力道...\n",
              "...         ...  ...                                                ...\n",
              "54981   \"55206\"  ...  [\"@@?  , 4月份, 反彈, 不少, ,,   , 小人, 持有, 南非幣, 計價, ...\n",
              "54982   \"55207\"  ...  [\", 南非幣, 真的, 很, 兇猛, 的, 哦, ，, 雖然, 配息, 很, 爽, ，, ...\n",
              "54983   \"55208\"  ...  [\", 這, 是, 我, 買, 的, 南非幣, 基金, 要, 怎麼, 配置, 比較, 好, ...\n",
              "54984   \"55209\"  ...  [\", 部分, 原因, 應該, 是, 匯損, 造成, 另外, 所, 述, 基金, 蠻, 複雜...\n",
              "54985   \"55210\"  ...  [\", 小, 弟弟, 是, 26, 歲, 的, 社會, 新, ., ., ., 工作, 幾,...\n",
              "\n",
              "[54986 rows x 11 columns]"
            ]
          },
          "metadata": {
            "tags": []
          },
          "execution_count": 14
        }
      ]
    },
    {
      "cell_type": "code",
      "metadata": {
        "id": "uvaqX-RtwbKX",
        "colab_type": "code",
        "colab": {}
      },
      "source": [
        "df.to_csv(\"strong_fund_CKIPed.csv\", index=False)"
      ],
      "execution_count": null,
      "outputs": []
    },
    {
      "cell_type": "markdown",
      "metadata": {
        "id": "KMbCdzBNIXU1",
        "colab_type": "text"
      },
      "source": [
        "#Stoping"
      ]
    },
    {
      "cell_type": "code",
      "metadata": {
        "id": "ts22UjegIWrp",
        "colab_type": "code",
        "colab": {}
      },
      "source": [
        "stopWords=[]\n",
        "with open('stopword.txt', 'r', encoding='UTF-8') as file:\n",
        "    for data in file.readlines():\n",
        "        data = data.strip()\n",
        "        stopWords.append(data)"
      ],
      "execution_count": null,
      "outputs": []
    },
    {
      "cell_type": "code",
      "metadata": {
        "id": "Z2hBVGTAIbER",
        "colab_type": "code",
        "colab": {
          "base_uri": "https://localhost:8080/",
          "height": 230
        },
        "outputId": "9daf143d-97e4-413e-b4a1-d2e9f5046f57"
      },
      "source": [
        "df['word_sentence_list']"
      ],
      "execution_count": null,
      "outputs": [
        {
          "output_type": "execute_result",
          "data": {
            "text/plain": [
              "0                [\", 有, 一, 檔, 利安, 越南, 基金, 喔, 可以, 試試, 看, \"]\n",
              "1        [\", 利安, 越南, 基金, 可以, 在, 先鋒, 投顧, 的, 平台, 上, 買到, 但...\n",
              "2        [\", 如果, 出口, 的, 力道, 逐漸, 復甦, 科技股, 應該, 還是, 會, 是, ...\n",
              "3        [\", 發問, 的, 大大, 能否, 請問, 你, 傳產, 賺到, 錢, 的, 是, 哪, ...\n",
              "4        [\"@chenyu, 今年, 強, 基金, 很, 看好, 台股, 上萬, 點, 推升, 力道...\n",
              "                               ...                        \n",
              "54981    [\"@@?  , 4月份, 反彈, 不少, ,,   , 小人, 持有, 南非幣, 計價, ...\n",
              "54982    [\", 南非幣, 真的, 很, 兇猛, 的, 哦, ，, 雖然, 配息, 很, 爽, ，, ...\n",
              "54983    [\", 這, 是, 我, 買, 的, 南非幣, 基金, 要, 怎麼, 配置, 比較, 好, ...\n",
              "54984    [\", 部分, 原因, 應該, 是, 匯損, 造成, 另外, 所, 述, 基金, 蠻, 複雜...\n",
              "54985    [\", 小, 弟弟, 是, 26, 歲, 的, 社會, 新, ., ., ., 工作, 幾,...\n",
              "Name: word_sentence_list, Length: 54986, dtype: object"
            ]
          },
          "metadata": {
            "tags": []
          },
          "execution_count": 22
        }
      ]
    },
    {
      "cell_type": "code",
      "metadata": {
        "id": "dyu9MJKkIhQr",
        "colab_type": "code",
        "colab": {}
      },
      "source": [
        "b=[]\n",
        "corpus_after_drop=[]\n",
        "for i in df.word_sentence_list:\n",
        "    b=[]\n",
        "    for a in i:\n",
        "        if a not in stopWords:\n",
        "            b.append(a)\n",
        "    corpus_after_drop.append(b)\n",
        "del b"
      ],
      "execution_count": null,
      "outputs": []
    },
    {
      "cell_type": "code",
      "metadata": {
        "id": "nbj-Y1gbIqO-",
        "colab_type": "code",
        "colab": {}
      },
      "source": [
        "df['seg'] = corpus_after_drop"
      ],
      "execution_count": null,
      "outputs": []
    },
    {
      "cell_type": "code",
      "metadata": {
        "id": "3ySg-COOI051",
        "colab_type": "code",
        "colab": {
          "base_uri": "https://localhost:8080/",
          "height": 34
        },
        "outputId": "e759be96-9fee-4ee7-953f-708d84cba549"
      },
      "source": [
        "df['seg'][0]"
      ],
      "execution_count": null,
      "outputs": [
        {
          "output_type": "execute_result",
          "data": {
            "text/plain": [
              "['\"', '檔', '利安', '越南', '基金', '喔', '試試', '\"']"
            ]
          },
          "metadata": {
            "tags": []
          },
          "execution_count": 27
        }
      ]
    },
    {
      "cell_type": "code",
      "metadata": {
        "id": "GczYRZ3JItpf",
        "colab_type": "code",
        "colab": {}
      },
      "source": [
        "df.to_pickle(\"strong_data_final.pickle\")"
      ],
      "execution_count": null,
      "outputs": []
    },
    {
      "cell_type": "code",
      "metadata": {
        "id": "NhgFZRCPJDH_",
        "colab_type": "code",
        "colab": {}
      },
      "source": [
        ""
      ],
      "execution_count": null,
      "outputs": []
    }
  ]
}