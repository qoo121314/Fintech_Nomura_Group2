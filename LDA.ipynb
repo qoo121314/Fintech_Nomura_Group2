{
 "cells": [
  {
   "cell_type": "markdown",
   "metadata": {},
   "source": [
    "# Theme Model"
   ]
  },
  {
   "cell_type": "code",
   "execution_count": 1,
   "metadata": {},
   "outputs": [],
   "source": [
    "import json\n",
    "import numpy  as np\n",
    "import pandas as pd\n",
    "from glob import glob \n",
    "from tqdm import tqdm"
   ]
  },
  {
   "cell_type": "code",
   "execution_count": 3,
   "metadata": {},
   "outputs": [],
   "source": [
    "df = pd.read_excel('index.xlsx')"
   ]
  },
  {
   "cell_type": "code",
   "execution_count": 4,
   "metadata": {},
   "outputs": [
    {
     "data": {
      "text/html": [
       "<div>\n",
       "<style scoped>\n",
       "    .dataframe tbody tr th:only-of-type {\n",
       "        vertical-align: middle;\n",
       "    }\n",
       "\n",
       "    .dataframe tbody tr th {\n",
       "        vertical-align: top;\n",
       "    }\n",
       "\n",
       "    .dataframe thead th {\n",
       "        text-align: right;\n",
       "    }\n",
       "</style>\n",
       "<table border=\"1\" class=\"dataframe\">\n",
       "  <thead>\n",
       "    <tr style=\"text-align: right;\">\n",
       "      <th></th>\n",
       "      <th>time</th>\n",
       "      <th>author</th>\n",
       "      <th>type</th>\n",
       "      <th>title</th>\n",
       "      <th>score</th>\n",
       "      <th>filename</th>\n",
       "      <th>content</th>\n",
       "    </tr>\n",
       "  </thead>\n",
       "  <tbody>\n",
       "    <tr>\n",
       "      <th>0</th>\n",
       "      <td>2018-02-01 22:50:42</td>\n",
       "      <td>ted5566</td>\n",
       "      <td>新聞</td>\n",
       "      <td>台灣央行新掌門人如何走出自己的路？</td>\n",
       "      <td>10</td>\n",
       "      <td>pttdata\\M.1517496645.A.38D.json</td>\n",
       "      <td>\\n1.原文連結：\\n\\nhttps://cn.reuters.com/article/fo...</td>\n",
       "    </tr>\n",
       "    <tr>\n",
       "      <th>1</th>\n",
       "      <td>2018-02-02 00:12:28</td>\n",
       "      <td>j853540</td>\n",
       "      <td>標的</td>\n",
       "      <td>大亞 空</td>\n",
       "      <td>3</td>\n",
       "      <td>pttdata\\M.1517501551.A.D55.json</td>\n",
       "      <td>\\n\\n\\n\\n1. 標的：大亞\\n\\n2. 分類：空\\n\\n3. 分析/正文：\\n\\n最近...</td>\n",
       "    </tr>\n",
       "    <tr>\n",
       "      <th>2</th>\n",
       "      <td>2018-02-02 08:11:27</td>\n",
       "      <td>milk7054</td>\n",
       "      <td>新聞</td>\n",
       "      <td>蘋果本季營收預測不如預期 iPhone整體需</td>\n",
       "      <td>19</td>\n",
       "      <td>pttdata\\M.1517530291.A.04E.json</td>\n",
       "      <td>\\n-------------------------------發文提醒---------...</td>\n",
       "    </tr>\n",
       "    <tr>\n",
       "      <th>3</th>\n",
       "      <td>2018-02-02 08:25:45</td>\n",
       "      <td>kaiming7955</td>\n",
       "      <td>新聞</td>\n",
       "      <td>蘋果營收、盈餘創新高，稱愛瘋X週週奪最</td>\n",
       "      <td>14</td>\n",
       "      <td>pttdata\\M.1517531147.A.7F3.json</td>\n",
       "      <td>\\n\\n蘋果周四於美股盤後公佈前季（10-12月）財報，雖然愛瘋出貨量不如預期，但仍舊是營收...</td>\n",
       "    </tr>\n",
       "    <tr>\n",
       "      <th>4</th>\n",
       "      <td>2018-02-02 08:30:04</td>\n",
       "      <td>ESunBoy</td>\n",
       "      <td>閒聊</td>\n",
       "      <td>2018/02/02 盤中閒聊</td>\n",
       "      <td>569</td>\n",
       "      <td>pttdata\\M.1517531406.A.3CD.json</td>\n",
       "      <td>\\nxx老師早料到台股準備封關，\\n2018全面毀滅，\\n你一半我一半，\\n大獲全勝。\\n\\...</td>\n",
       "    </tr>\n",
       "  </tbody>\n",
       "</table>\n",
       "</div>"
      ],
      "text/plain": [
       "                  time       author type                   title  score  \\\n",
       "0  2018-02-01 22:50:42      ted5566   新聞       台灣央行新掌門人如何走出自己的路？     10   \n",
       "1  2018-02-02 00:12:28      j853540   標的                    大亞 空      3   \n",
       "2  2018-02-02 08:11:27     milk7054   新聞  蘋果本季營收預測不如預期 iPhone整體需     19   \n",
       "3  2018-02-02 08:25:45  kaiming7955   新聞     蘋果營收、盈餘創新高，稱愛瘋X週週奪最     14   \n",
       "4  2018-02-02 08:30:04      ESunBoy   閒聊         2018/02/02 盤中閒聊    569   \n",
       "\n",
       "                          filename  \\\n",
       "0  pttdata\\M.1517496645.A.38D.json   \n",
       "1  pttdata\\M.1517501551.A.D55.json   \n",
       "2  pttdata\\M.1517530291.A.04E.json   \n",
       "3  pttdata\\M.1517531147.A.7F3.json   \n",
       "4  pttdata\\M.1517531406.A.3CD.json   \n",
       "\n",
       "                                             content  \n",
       "0  \\n1.原文連結：\\n\\nhttps://cn.reuters.com/article/fo...  \n",
       "1  \\n\\n\\n\\n1. 標的：大亞\\n\\n2. 分類：空\\n\\n3. 分析/正文：\\n\\n最近...  \n",
       "2  \\n-------------------------------發文提醒---------...  \n",
       "3  \\n\\n蘋果周四於美股盤後公佈前季（10-12月）財報，雖然愛瘋出貨量不如預期，但仍舊是營收...  \n",
       "4  \\nxx老師早料到台股準備封關，\\n2018全面毀滅，\\n你一半我一半，\\n大獲全勝。\\n\\...  "
      ]
     },
     "execution_count": 4,
     "metadata": {},
     "output_type": "execute_result"
    }
   ],
   "source": [
    "df.head()"
   ]
  },
  {
   "cell_type": "code",
   "execution_count": 7,
   "metadata": {},
   "outputs": [
    {
     "data": {
      "text/plain": [
       "['__add__',\n",
       " '__class__',\n",
       " '__contains__',\n",
       " '__delattr__',\n",
       " '__dir__',\n",
       " '__doc__',\n",
       " '__eq__',\n",
       " '__format__',\n",
       " '__ge__',\n",
       " '__getattribute__',\n",
       " '__getitem__',\n",
       " '__getnewargs__',\n",
       " '__gt__',\n",
       " '__hash__',\n",
       " '__init__',\n",
       " '__init_subclass__',\n",
       " '__iter__',\n",
       " '__le__',\n",
       " '__len__',\n",
       " '__lt__',\n",
       " '__mod__',\n",
       " '__mul__',\n",
       " '__ne__',\n",
       " '__new__',\n",
       " '__reduce__',\n",
       " '__reduce_ex__',\n",
       " '__repr__',\n",
       " '__rmod__',\n",
       " '__rmul__',\n",
       " '__setattr__',\n",
       " '__sizeof__',\n",
       " '__str__',\n",
       " '__subclasshook__',\n",
       " 'capitalize',\n",
       " 'casefold',\n",
       " 'center',\n",
       " 'count',\n",
       " 'encode',\n",
       " 'endswith',\n",
       " 'expandtabs',\n",
       " 'find',\n",
       " 'format',\n",
       " 'format_map',\n",
       " 'index',\n",
       " 'isalnum',\n",
       " 'isalpha',\n",
       " 'isascii',\n",
       " 'isdecimal',\n",
       " 'isdigit',\n",
       " 'isidentifier',\n",
       " 'islower',\n",
       " 'isnumeric',\n",
       " 'isprintable',\n",
       " 'isspace',\n",
       " 'istitle',\n",
       " 'isupper',\n",
       " 'join',\n",
       " 'ljust',\n",
       " 'lower',\n",
       " 'lstrip',\n",
       " 'maketrans',\n",
       " 'partition',\n",
       " 'replace',\n",
       " 'rfind',\n",
       " 'rindex',\n",
       " 'rjust',\n",
       " 'rpartition',\n",
       " 'rsplit',\n",
       " 'rstrip',\n",
       " 'split',\n",
       " 'splitlines',\n",
       " 'startswith',\n",
       " 'strip',\n",
       " 'swapcase',\n",
       " 'title',\n",
       " 'translate',\n",
       " 'upper',\n",
       " 'zfill']"
      ]
     },
     "execution_count": 7,
     "metadata": {},
     "output_type": "execute_result"
    }
   ],
   "source": [
    "dir(df.content[1])"
   ]
  },
  {
   "cell_type": "code",
   "execution_count": null,
   "metadata": {},
   "outputs": [],
   "source": [
    "from nltk.corpus import stopwords\n",
    "stop_words = stopwords.words('english')\n",
    "stop_words.extend(['from', 'subject', 're', 'edu', 'use'])"
   ]
  }
 ],
 "metadata": {
  "kernelspec": {
   "display_name": "Python 3",
   "language": "python",
   "name": "python3"
  },
  "language_info": {
   "codemirror_mode": {
    "name": "ipython",
    "version": 3
   },
   "file_extension": ".py",
   "mimetype": "text/x-python",
   "name": "python",
   "nbconvert_exporter": "python",
   "pygments_lexer": "ipython3",
   "version": "3.7.3"
  },
  "varInspector": {
   "cols": {
    "lenName": 16,
    "lenType": 16,
    "lenVar": 40
   },
   "kernels_config": {
    "python": {
     "delete_cmd_postfix": "",
     "delete_cmd_prefix": "del ",
     "library": "var_list.py",
     "varRefreshCmd": "print(var_dic_list())"
    },
    "r": {
     "delete_cmd_postfix": ") ",
     "delete_cmd_prefix": "rm(",
     "library": "var_list.r",
     "varRefreshCmd": "cat(var_dic_list()) "
    }
   },
   "types_to_exclude": [
    "module",
    "function",
    "builtin_function_or_method",
    "instance",
    "_Feature"
   ],
   "window_display": false
  }
 },
 "nbformat": 4,
 "nbformat_minor": 4
}
